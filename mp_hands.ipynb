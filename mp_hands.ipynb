{
 "cells": [
  {
   "cell_type": "code",
   "execution_count": 28,
   "id": "a63241ae",
   "metadata": {},
   "outputs": [],
   "source": [
    "import cv2\n",
    "import mediapipe as mp\n",
    "import numpy as np"
   ]
  },
  {
   "cell_type": "code",
   "execution_count": 2,
   "id": "129a9793",
   "metadata": {},
   "outputs": [],
   "source": [
    "mp_drawing = mp.solutions.drawing_utils\n",
    "mp_hands = mp.solutions.hands\n",
    "#특징이 손 한개만인식 + 관절에 대한 인식률 좋음 + "
   ]
  },
  {
   "cell_type": "code",
   "execution_count": 76,
   "id": "8b3b599d",
   "metadata": {},
   "outputs": [],
   "source": [
    "cap = cv2.VideoCapture(0)\n",
    "fingers = list()\n",
    "canvers = np.zeros((720, 1280, 3))\n",
    "\n",
    "with mp_hands.Hands(\n",
    "    max_num_hands=1,\n",
    "    min_detection_confidence=0.5,\n",
    "    min_tracking_confidence=0.5) as hands:\n",
    "\n",
    "    while cap.isOpened():\n",
    "        success, image = cap.read()\n",
    "        if not success:\n",
    "            continue\n",
    "        image = cv2.cvtColor(cv2.flip(image, 1), cv2.COLOR_BGR2RGB)\n",
    " \n",
    "        results = hands.process(image)\n",
    " \n",
    "        image = cv2.cvtColor(image, cv2.COLOR_RGB2BGR)\n",
    " \n",
    "        if results.multi_hand_landmarks:\n",
    "            for hand_landmarks in results.multi_hand_landmarks:\n",
    "                finger1 = int(hand_landmarks.landmark[4].x * 100)\n",
    "                finger2 = int(hand_landmarks.landmark[8].x * 100)\n",
    "                dist = abs(finger1 - finger2)\n",
    "                x = int(hand_landmarks.landmark[8].x * 1280)\n",
    "                y = int(hand_landmarks.landmark[8].y * 720)\n",
    "                fingers.append([x, y])\n",
    "                #cv2.putText(\n",
    "                #    image, text='f1=%d f2=%d dist=%d x=%d y=%d' % (finger1,finger2, dist, x, y), org=(10, 30),\n",
    "                #    fontFace=cv2.FONT_HERSHEY_SIMPLEX, fontScale=1,\n",
    "                #    color=(255, 255, 255), thickness=3)\n",
    "                #for index, finger in enumerate(fingers):\n",
    "                if len(fingers) > 1:\n",
    "                    a, b = np.array(fingers[-1]) - np.array(fingers[-2])\n",
    "                    a = abs(a)\n",
    "                    b = abs(b)\n",
    "                    if a + b < 50:\n",
    "                        cv2.line(canvers, fingers[len(fingers) - 2], fingers[len(fingers) - 1], (0, 255, 0), 2)\n",
    "         #       mp_drawing.draw_landmarks(\n",
    "         #           image, hand_landmarks, mp_hands.HAND_CONNECTIONS)\n",
    "        #cv2.imshow('images', image)\n",
    "            \n",
    "        cv2.imshow('convers', canvers)\n",
    "        if cv2.waitKey(1) == ord('q'):\n",
    "            break\n",
    "cv2.destroyAllWindows()\n",
    "cap.release()"
   ]
  },
  {
   "cell_type": "code",
   "execution_count": 65,
   "id": "ff5410db",
   "metadata": {},
   "outputs": [],
   "source": [
    "cv2.destroyAllWindows()"
   ]
  },
  {
   "cell_type": "code",
   "execution_count": 66,
   "id": "6483a0eb",
   "metadata": {},
   "outputs": [],
   "source": [
    "cap.release()"
   ]
  },
  {
   "cell_type": "code",
   "execution_count": 129,
   "id": "6d957d46",
   "metadata": {
    "scrolled": true
   },
   "outputs": [
    {
     "data": {
      "text/plain": [
       "[x: 0.2579828202724457\n",
       "y: 1.1318496465682983\n",
       "z: 4.762526089052699e-07\n",
       ", x: 0.30348294973373413\n",
       "y: 1.005397081375122\n",
       "z: 0.017577288672327995\n",
       ", x: 0.3417728543281555\n",
       "y: 0.8963024616241455\n",
       "z: 0.011081831529736519\n",
       ", x: 0.3788820505142212\n",
       "y: 0.8245046734809875\n",
       "z: -0.00410081259906292\n",
       ", x: 0.41521552205085754\n",
       "y: 0.7703008055686951\n",
       "z: -0.021033240482211113\n",
       ", x: 0.2897499203681946\n",
       "y: 0.8268947005271912\n",
       "z: -0.010740242898464203\n",
       ", x: 0.33842867612838745\n",
       "y: 0.705172061920166\n",
       "z: -0.03683678060770035\n",
       ", x: 0.38917529582977295\n",
       "y: 0.6681756377220154\n",
       "z: -0.050338875502347946\n",
       ", x: 0.4293055534362793\n",
       "y: 0.6598333120346069\n",
       "z: -0.05647699907422066\n",
       ", x: 0.27662143111228943\n",
       "y: 0.8518010377883911\n",
       "z: -0.03531467914581299\n",
       ", x: 0.3644173741340637\n",
       "y: 0.7449194192886353\n",
       "z: -0.06660132855176926\n",
       ", x: 0.43195879459381104\n",
       "y: 0.7563991546630859\n",
       "z: -0.07665704935789108\n",
       ", x: 0.47281014919281006\n",
       "y: 0.7868513464927673\n",
       "z: -0.07817733287811279\n",
       ", x: 0.27640068531036377\n",
       "y: 0.8998662233352661\n",
       "z: -0.058721356093883514\n",
       ", x: 0.3700934648513794\n",
       "y: 0.8122406005859375\n",
       "z: -0.08885322511196136\n",
       ", x: 0.4330962598323822\n",
       "y: 0.8374976515769958\n",
       "z: -0.09066035598516464\n",
       ", x: 0.4712793231010437\n",
       "y: 0.8722907304763794\n",
       "z: -0.0848272368311882\n",
       ", x: 0.28455817699432373\n",
       "y: 0.9648210406303406\n",
       "z: -0.0802004411816597\n",
       ", x: 0.3558306097984314\n",
       "y: 0.8997731804847717\n",
       "z: -0.09920117259025574\n",
       ", x: 0.4055235981941223\n",
       "y: 0.9037048816680908\n",
       "z: -0.09677020460367203\n",
       ", x: 0.4398846924304962\n",
       "y: 0.9206433296203613\n",
       "z: -0.09010452032089233\n",
       "]"
      ]
     },
     "execution_count": 129,
     "metadata": {},
     "output_type": "execute_result"
    }
   ],
   "source": [
    "hand_landmarks.landmark"
   ]
  },
  {
   "cell_type": "code",
   "execution_count": 74,
   "id": "29cf3c2f",
   "metadata": {},
   "outputs": [
    {
     "data": {
      "text/plain": [
       "201"
      ]
     },
     "execution_count": 74,
     "metadata": {},
     "output_type": "execute_result"
    }
   ],
   "source": [
    "a+b"
   ]
  },
  {
   "cell_type": "code",
   "execution_count": 133,
   "id": "ddb7c31b",
   "metadata": {},
   "outputs": [
    {
     "data": {
      "text/plain": [
       "(720, 1280, 3)"
      ]
     },
     "execution_count": 133,
     "metadata": {},
     "output_type": "execute_result"
    }
   ],
   "source": [
    "image.shape"
   ]
  },
  {
   "cell_type": "code",
   "execution_count": 122,
   "id": "4f33a11b",
   "metadata": {},
   "outputs": [
    {
     "data": {
      "text/plain": [
       "mediapipe.framework.formats.landmark_pb2.NormalizedLandmark"
      ]
     },
     "execution_count": 122,
     "metadata": {},
     "output_type": "execute_result"
    }
   ],
   "source": [
    "type(hand_landmarks.landmark[0])"
   ]
  },
  {
   "cell_type": "code",
   "execution_count": 127,
   "id": "c4bf7883",
   "metadata": {},
   "outputs": [
    {
     "ename": "TypeError",
     "evalue": "int() argument must be a string, a bytes-like object or a number, not 'google.protobuf.pyext._message.RepeatedCompositeContainer'",
     "output_type": "error",
     "traceback": [
      "\u001b[0;31m---------------------------------------------------------------------------\u001b[0m",
      "\u001b[0;31mTypeError\u001b[0m                                 Traceback (most recent call last)",
      "\u001b[0;32m<ipython-input-127-a0d22fece8ac>\u001b[0m in \u001b[0;36m<module>\u001b[0;34m\u001b[0m\n\u001b[0;32m----> 1\u001b[0;31m \u001b[0mint\u001b[0m\u001b[0;34m(\u001b[0m\u001b[0mhand_landmarks\u001b[0m\u001b[0;34m.\u001b[0m\u001b[0mlandmark\u001b[0m\u001b[0;34m)\u001b[0m\u001b[0;34m\u001b[0m\u001b[0;34m\u001b[0m\u001b[0m\n\u001b[0m",
      "\u001b[0;31mTypeError\u001b[0m: int() argument must be a string, a bytes-like object or a number, not 'google.protobuf.pyext._message.RepeatedCompositeContainer'"
     ]
    }
   ],
   "source": [
    "int(hand_landmarks.landmark[8])"
   ]
  },
  {
   "cell_type": "code",
   "execution_count": 128,
   "id": "6b3a413e",
   "metadata": {},
   "outputs": [
    {
     "data": {
      "text/plain": [
       "41"
      ]
     },
     "execution_count": 128,
     "metadata": {},
     "output_type": "execute_result"
    }
   ],
   "source": [
    "int(hand_landmarks.landmark[4].x * 100)"
   ]
  },
  {
   "cell_type": "code",
   "execution_count": 135,
   "id": "b31d69fc",
   "metadata": {},
   "outputs": [
    {
     "data": {
      "text/plain": [
       "(298.95517587661743, 985.9850311279297)"
      ]
     },
     "execution_count": 135,
     "metadata": {},
     "output_type": "execute_result"
    }
   ],
   "source": [
    "x = hand_landmarks.landmark[4].x * 720\n",
    "y = hand_landmarks.landmark[4].y * 1280\n",
    "x, y"
   ]
  },
  {
   "cell_type": "code",
   "execution_count": 94,
   "id": "15f942d4",
   "metadata": {},
   "outputs": [
    {
     "name": "stdout",
     "output_type": "stream",
     "text": [
      "HandLandmark.WRIST\n",
      "HandLandmark.THUMB_CMC\n",
      "HandLandmark.THUMB_MCP\n",
      "HandLandmark.THUMB_IP\n",
      "HandLandmark.THUMB_TIP\n",
      "HandLandmark.INDEX_FINGER_MCP\n",
      "HandLandmark.INDEX_FINGER_PIP\n",
      "HandLandmark.INDEX_FINGER_DIP\n",
      "HandLandmark.INDEX_FINGER_TIP\n",
      "HandLandmark.MIDDLE_FINGER_MCP\n",
      "HandLandmark.MIDDLE_FINGER_PIP\n",
      "HandLandmark.MIDDLE_FINGER_DIP\n",
      "HandLandmark.MIDDLE_FINGER_TIP\n",
      "HandLandmark.RING_FINGER_MCP\n",
      "HandLandmark.RING_FINGER_PIP\n",
      "HandLandmark.RING_FINGER_DIP\n",
      "HandLandmark.RING_FINGER_TIP\n",
      "HandLandmark.PINKY_MCP\n",
      "HandLandmark.PINKY_PIP\n",
      "HandLandmark.PINKY_DIP\n",
      "HandLandmark.PINKY_TIP\n"
     ]
    }
   ],
   "source": [
    "for i in mp_hands.HandLandmark:\n",
    "    print(i)"
   ]
  },
  {
   "cell_type": "code",
   "execution_count": 109,
   "id": "bff97777",
   "metadata": {},
   "outputs": [
    {
     "data": {
      "text/plain": [
       "google.protobuf.pyext._message.RepeatedCompositeContainer"
      ]
     },
     "execution_count": 109,
     "metadata": {},
     "output_type": "execute_result"
    }
   ],
   "source": [
    "type(hand_landmarks.landmark)"
   ]
  },
  {
   "cell_type": "code",
   "execution_count": 110,
   "id": "306c0969",
   "metadata": {},
   "outputs": [
    {
     "data": {
      "text/plain": [
       "mediapipe.framework.formats.landmark_pb2.NormalizedLandmarkList"
      ]
     },
     "execution_count": 110,
     "metadata": {},
     "output_type": "execute_result"
    }
   ],
   "source": [
    "type(hand_landmarks)"
   ]
  },
  {
   "cell_type": "code",
   "execution_count": 111,
   "id": "77190776",
   "metadata": {},
   "outputs": [
    {
     "data": {
      "text/plain": [
       "[x: 0.8003247976303101\n",
       "y: 0.8844618797302246\n",
       "z: 4.2348435158601205e-07\n",
       ", x: 0.7279078960418701\n",
       "y: 0.8797726631164551\n",
       "z: -0.021844375878572464\n",
       ", x: 0.6657505631446838\n",
       "y: 0.809512197971344\n",
       "z: -0.032633718103170395\n",
       ", x: 0.6276311874389648\n",
       "y: 0.7397768497467041\n",
       "z: -0.0415252260863781\n",
       ", x: 0.5930855870246887\n",
       "y: 0.6858194470405579\n",
       "z: -0.05118269473314285\n",
       ", x: 0.6832898259162903\n",
       "y: 0.6678860187530518\n",
       "z: -0.0261783879250288\n",
       ", x: 0.6450040936470032\n",
       "y: 0.5701324343681335\n",
       "z: -0.04770170524716377\n",
       ", x: 0.6232491135597229\n",
       "y: 0.5032318830490112\n",
       "z: -0.06474901735782623\n",
       ", x: 0.6042885780334473\n",
       "y: 0.44237080216407776\n",
       "z: -0.07763636857271194\n",
       ", x: 0.7272095084190369\n",
       "y: 0.6247016787528992\n",
       "z: -0.033510297536849976\n",
       ", x: 0.6985877752304077\n",
       "y: 0.4982147812843323\n",
       "z: -0.05191555991768837\n",
       ", x: 0.6800547242164612\n",
       "y: 0.4146615266799927\n",
       "z: -0.06988736987113953\n",
       ", x: 0.6641190648078918\n",
       "y: 0.34026312828063965\n",
       "z: -0.08280781656503677\n",
       ", x: 0.7763028740882874\n",
       "y: 0.6173280477523804\n",
       "z: -0.04337259754538536\n",
       ", x: 0.7542322278022766\n",
       "y: 0.48373979330062866\n",
       "z: -0.06714178621768951\n",
       ", x: 0.7420836091041565\n",
       "y: 0.397771954536438\n",
       "z: -0.0841040387749672\n",
       ", x: 0.7303996682167053\n",
       "y: 0.3187655508518219\n",
       "z: -0.09515639394521713\n",
       ", x: 0.8282310962677002\n",
       "y: 0.6363016963005066\n",
       "z: -0.05409155413508415\n",
       ", x: 0.8293721079826355\n",
       "y: 0.5348028540611267\n",
       "z: -0.0793900266289711\n",
       ", x: 0.8292533755302429\n",
       "y: 0.46776485443115234\n",
       "z: -0.08888798952102661\n",
       "]"
      ]
     },
     "execution_count": 111,
     "metadata": {},
     "output_type": "execute_result"
    }
   ],
   "source": [
    "hand_landmarks.landmark()"
   ]
  },
  {
   "cell_type": "code",
   "execution_count": 51,
   "id": "31296f3a",
   "metadata": {},
   "outputs": [
    {
     "ename": "error",
     "evalue": "OpenCV(4.5.4-dev) /Users/runner/work/opencv-python/opencv-python/opencv/modules/core/src/arithm.cpp:230: error: (-215:Assertion failed) (mtype == CV_8U || mtype == CV_8S) && _mask.sameSize(*psrc1) in function 'binary_op'\n",
     "output_type": "error",
     "traceback": [
      "\u001b[0;31m---------------------------------------------------------------------------\u001b[0m",
      "\u001b[0;31merror\u001b[0m                                     Traceback (most recent call last)",
      "\u001b[0;32m<ipython-input-51-072d39fe4d53>\u001b[0m in \u001b[0;36m<module>\u001b[0;34m\u001b[0m\n\u001b[0;32m----> 1\u001b[0;31m \u001b[0mcv2\u001b[0m\u001b[0;34m.\u001b[0m\u001b[0mbitwise_and\u001b[0m\u001b[0;34m(\u001b[0m\u001b[0mimage\u001b[0m\u001b[0;34m,\u001b[0m \u001b[0mimage\u001b[0m\u001b[0;34m,\u001b[0m \u001b[0mmask\u001b[0m\u001b[0;34m=\u001b[0m\u001b[0mim\u001b[0m\u001b[0;34m)\u001b[0m\u001b[0;34m\u001b[0m\u001b[0;34m\u001b[0m\u001b[0m\n\u001b[0m",
      "\u001b[0;31merror\u001b[0m: OpenCV(4.5.4-dev) /Users/runner/work/opencv-python/opencv-python/opencv/modules/core/src/arithm.cpp:230: error: (-215:Assertion failed) (mtype == CV_8U || mtype == CV_8S) && _mask.sameSize(*psrc1) in function 'binary_op'\n"
     ]
    }
   ],
   "source": [
    "cv2.add()"
   ]
  },
  {
   "cell_type": "code",
   "execution_count": 50,
   "id": "3f93fde1",
   "metadata": {},
   "outputs": [],
   "source": [
    "im = np.zeros((720, 1280, 1))"
   ]
  },
  {
   "cell_type": "code",
   "execution_count": 58,
   "id": "094b5cc3",
   "metadata": {},
   "outputs": [],
   "source": [
    "a, b = np.array(fingers[1]) - np.array(fingers[0])\n",
    "a = abs(a)\n",
    "b = abs(b)"
   ]
  },
  {
   "cell_type": "code",
   "execution_count": null,
   "id": "64506b19",
   "metadata": {},
   "outputs": [],
   "source": []
  }
 ],
 "metadata": {
  "kernelspec": {
   "display_name": "Python 3",
   "language": "python",
   "name": "python3"
  },
  "language_info": {
   "codemirror_mode": {
    "name": "ipython",
    "version": 3
   },
   "file_extension": ".py",
   "mimetype": "text/x-python",
   "name": "python",
   "nbconvert_exporter": "python",
   "pygments_lexer": "ipython3",
   "version": "3.8.8"
  }
 },
 "nbformat": 4,
 "nbformat_minor": 5
}
