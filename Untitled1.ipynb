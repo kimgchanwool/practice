{
 "cells": [
  {
   "cell_type": "code",
   "execution_count": 6,
   "id": "795a3b13",
   "metadata": {},
   "outputs": [],
   "source": [
    "import requests\n",
    "from bs4 import BeautifulSoup\n",
    "import pandas as pd\n",
    "import numpy as np"
   ]
  },
  {
   "cell_type": "code",
   "execution_count": 107,
   "id": "b6580e39",
   "metadata": {},
   "outputs": [],
   "source": [
    "head={'User-Agent': 'Mozilla/5.0 (Windows NT 10.0; Win64; x64) AppleWebKit/537.36 (KHTML, like Gecko) Chrome/95.0.4638.54 Safari/537.36'}"
   ]
  },
  {
   "cell_type": "code",
   "execution_count": 108,
   "id": "2a2dfc10",
   "metadata": {},
   "outputs": [],
   "source": [
    "r = requests.get('https://www.melon.com/chart/index.htm', headers=head)"
   ]
  },
  {
   "cell_type": "code",
   "execution_count": 109,
   "id": "c606c180",
   "metadata": {},
   "outputs": [],
   "source": [
    "keys = BeautifulSoup(r.text, 'html.parser').find_all('a', {'class' : 'btn button_icons type03 song_info'})"
   ]
  },
  {
   "cell_type": "code",
   "execution_count": 110,
   "id": "2781414e",
   "metadata": {},
   "outputs": [],
   "source": [
    "keys = [ i['href'].split(\"\"\"'\"\"\")[-2] for i in keys]"
   ]
  },
  {
   "cell_type": "code",
   "execution_count": null,
   "id": "a7cfecb1",
   "metadata": {},
   "outputs": [],
   "source": []
  },
  {
   "cell_type": "code",
   "execution_count": 175,
   "id": "da37926b",
   "metadata": {
    "scrolled": true
   },
   "outputs": [],
   "source": [
    "r2 = [requests.post('https://www.melon.com/song/detail.htm?songId={}'.format(key), headers=head) for key in keys]"
   ]
  },
  {
   "cell_type": "code",
   "execution_count": 177,
   "id": "982fc755",
   "metadata": {},
   "outputs": [],
   "source": [
    "soup = [BeautifulSoup(r2_.text, 'html.parser') for r2_ in r2]"
   ]
  },
  {
   "cell_type": "code",
   "execution_count": 241,
   "id": "9f7424c0",
   "metadata": {},
   "outputs": [
    {
     "data": {
      "text/plain": [
       "'달이 익어가니 서둘러 젊은 피야 민들레 한 송이 들고 사랑이 어지러이 떠다니는 밤이야 날아가 사뿐히 이루렴  팽팽한 어둠 사이로 떠오르는 기분 이 거대한 무중력에 혹 휘청해도 두렵진 않을 거야  푸르른 우리 위로 커다란 strawberry moon 한 스쿱 나에게 너를 맡겨볼래 eh-oh  바람을 세로질러 날아오르는 기분 so cool 삶이 어떻게 더 완벽해 ooh  다시 마주하기 어려운 행운이야 온몸에 심장이 뛰어 Oh 오히려 기꺼이 헤매고픈 밤이야 너와 길 잃을 수 있다면  맞잡은 서로의 손으로 출입구를 허문 이 무한함의 끝과 끝 또 위아래로 비행을 떠날 거야   푸르른 우리 위로  커다란 strawberry moon 한 스쿱 나에게 너를 맡겨볼래 eh-oh 바람을 세로질러 날아오르는 기분 so cool 삶이 어떻게 더 완벽해 ooh  놀라워 이보다 꿈같은 순간이 또 있을까 (더 있을까) 아마도 우리가 처음 발견한 오늘 이 밤의 모든 것, 그 위로 날아  푸르른 우리 위로 커다란 strawberry moon 한 스쿱 세상을 가져보니 어때 eh-oh  바람을 세로질러 날아오르는 기분 so cool 삶이 어떻게 더 완벽해 ooh'"
      ]
     },
     "execution_count": 241,
     "metadata": {},
     "output_type": "execute_result"
    }
   ],
   "source": [
    "\" \".join(BeautifulSoup(str(soup[0].find('div', {'id' : 'd_video_summary'})).replace(\"<br/>\", \"\\n\")).text.strip().split(\"\\n\"))"
   ]
  },
  {
   "cell_type": "code",
   "execution_count": 195,
   "id": "a881d3a5",
   "metadata": {},
   "outputs": [],
   "source": [
    "string = [so.find('div', {'id' : 'd_video_summary'}).text.strip('\\r\\n\\t') for so in soup if so.find('div', {'id' : 'd_video_summary'}) != None]"
   ]
  },
  {
   "cell_type": "code",
   "execution_count": 231,
   "id": "4860a476",
   "metadata": {},
   "outputs": [
    {
     "data": {
      "text/plain": [
       "'달이 익어가니 서둘러 젊은 피야민들레 한 송이 들고사랑이 어지러이 떠다니는 밤이야날아가 사뿐히 이루렴팽팽한 어둠 사이로떠오르는 기분이 거대한 무중력에 혹 휘청해도두렵진 않을 거야푸르른 우리 위로커다란 strawberry moon 한 스쿱나에게 너를 맡겨볼래 eh-oh바람을 세로질러날아오르는 기분 so cool삶이 어떻게 더 완벽해 ooh다시 마주하기 어려운 행운이야온몸에 심장이 뛰어Oh 오히려 기꺼이 헤매고픈 밤이야너와 길 잃을 수 있다면맞잡은 서로의 손으로출입구를 허문이 무한함의 끝과 끝 또 위아래로비행을 떠날 거야 푸르른 우리 위로 커다란 strawberry moon 한 스쿱나에게 너를 맡겨볼래 eh-oh바람을 세로질러날아오르는 기분 so cool삶이 어떻게 더 완벽해 ooh놀라워 이보다꿈같은 순간이 또 있을까 (더 있을까)아마도 우리가 처음 발견한오늘 이 밤의 모든 것, 그 위로 날아푸르른 우리 위로커다란 strawberry moon 한 스쿱세상을 가져보니 어때 eh-oh바람을 세로질러날아오르는 기분 so cool삶이 어떻게 더 완벽해 ooh'"
      ]
     },
     "execution_count": 231,
     "metadata": {},
     "output_type": "execute_result"
    }
   ],
   "source": [
    "string[0]"
   ]
  },
  {
   "cell_type": "code",
   "execution_count": null,
   "id": "6aea8a1e",
   "metadata": {},
   "outputs": [],
   "source": [
    "[ for str_ in string]"
   ]
  },
  {
   "cell_type": "code",
   "execution_count": 211,
   "id": "c2691856",
   "metadata": {},
   "outputs": [],
   "source": [
    "i = 5"
   ]
  },
  {
   "cell_type": "code",
   "execution_count": 229,
   "id": "4a015136",
   "metadata": {},
   "outputs": [
    {
     "data": {
      "text/plain": [
       "[537,\n",
       " 1774,\n",
       " 417,\n",
       " 1714,\n",
       " 572,\n",
       " 579,\n",
       " 1269,\n",
       " 1199,\n",
       " 641,\n",
       " 440,\n",
       " 438,\n",
       " 499,\n",
       " 1962,\n",
       " 553,\n",
       " 1776,\n",
       " 1172,\n",
       " 1059,\n",
       " 647,\n",
       " 1694,\n",
       " 2206,\n",
       " 235,\n",
       " 2063,\n",
       " 420,\n",
       " 671,\n",
       " 472,\n",
       " 352,\n",
       " 444,\n",
       " 336,\n",
       " 1054,\n",
       " 857,\n",
       " 335,\n",
       " 285,\n",
       " 620,\n",
       " 828,\n",
       " 530,\n",
       " 1213,\n",
       " 399,\n",
       " 1305,\n",
       " 1045,\n",
       " 414,\n",
       " 897,\n",
       " 1003,\n",
       " 461,\n",
       " 320,\n",
       " 564,\n",
       " 1472,\n",
       " 597,\n",
       " 231,\n",
       " 594,\n",
       " 1749,\n",
       " 1334,\n",
       " 378,\n",
       " 649,\n",
       " 475,\n",
       " 428,\n",
       " 912,\n",
       " 857,\n",
       " 696,\n",
       " 615,\n",
       " 343,\n",
       " 490,\n",
       " 890,\n",
       " 879,\n",
       " 835,\n",
       " 622,\n",
       " 1274,\n",
       " 580,\n",
       " 566,\n",
       " 1105,\n",
       " 422,\n",
       " 1145,\n",
       " 499,\n",
       " 487,\n",
       " 386,\n",
       " 663,\n",
       " 900,\n",
       " 782,\n",
       " 924,\n",
       " 443,\n",
       " 504,\n",
       " 514,\n",
       " 1235,\n",
       " 797,\n",
       " 484,\n",
       " 1661,\n",
       " 507,\n",
       " 735,\n",
       " 499,\n",
       " 750,\n",
       " 752,\n",
       " 1233,\n",
       " 954,\n",
       " 563,\n",
       " 1627,\n",
       " 396,\n",
       " 1824,\n",
       " 640,\n",
       " 1000,\n",
       " 1108]"
      ]
     },
     "execution_count": 229,
     "metadata": {},
     "output_type": "execute_result"
    }
   ],
   "source": [
    "[open(\"\"\"./melon/{}.txt\"\"\".format(index), 'w', encoding='utf8').write(str_) for index, str_ in enumerate(string)]"
   ]
  },
  {
   "cell_type": "code",
   "execution_count": null,
   "id": "9c5f9497",
   "metadata": {},
   "outputs": [],
   "source": []
  }
 ],
 "metadata": {
  "kernelspec": {
   "display_name": "Python 3",
   "language": "python",
   "name": "python3"
  },
  "language_info": {
   "codemirror_mode": {
    "name": "ipython",
    "version": 3
   },
   "file_extension": ".py",
   "mimetype": "text/x-python",
   "name": "python",
   "nbconvert_exporter": "python",
   "pygments_lexer": "ipython3",
   "version": "3.8.8"
  }
 },
 "nbformat": 4,
 "nbformat_minor": 5
}
