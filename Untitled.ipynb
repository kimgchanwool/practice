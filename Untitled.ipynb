{
 "cells": [
  {
   "cell_type": "code",
   "execution_count": 1,
   "id": "2b8cc36e",
   "metadata": {},
   "outputs": [],
   "source": [
    "''' 1. Module Import '''\n",
    "import numpy as np\n",
    "import matplotlib.pyplot as plt\n",
    "\n",
    "import torch\n",
    "import torch.nn as nn\n",
    "import torch.nn.functional as F\n",
    "from torchvision import transforms, datasets"
   ]
  },
  {
   "cell_type": "code",
   "execution_count": 2,
   "id": "38b9f6a8",
   "metadata": {},
   "outputs": [
    {
     "name": "stdout",
     "output_type": "stream",
     "text": [
      "Using PyTorch version: 1.10.0  Device: cpu\n"
     ]
    }
   ],
   "source": [
    "''' 2. 딥러닝 모델을 설계할 때 활용하는 장비 확인 '''\n",
    "if torch.cuda.is_available():\n",
    "    DEVICE = torch.device('cuda')\n",
    "else:\n",
    "    DEVICE = torch.device('cpu')\n",
    "\n",
    "print('Using PyTorch version:', torch.__version__, ' Device:', DEVICE)"
   ]
  },
  {
   "cell_type": "code",
   "execution_count": 3,
   "id": "c6e986e3",
   "metadata": {},
   "outputs": [],
   "source": [
    "BATCH_SIZE = 32\n",
    "EPOCHS = 10"
   ]
  },
  {
   "cell_type": "code",
   "execution_count": 4,
   "id": "14718249",
   "metadata": {
    "scrolled": true
   },
   "outputs": [
    {
     "name": "stdout",
     "output_type": "stream",
     "text": [
      "Downloading http://yann.lecun.com/exdb/mnist/train-images-idx3-ubyte.gz\n",
      "Downloading http://yann.lecun.com/exdb/mnist/train-images-idx3-ubyte.gz to ../data/MNIST/MNIST/raw/train-images-idx3-ubyte.gz\n"
     ]
    },
    {
     "data": {
      "application/vnd.jupyter.widget-view+json": {
       "model_id": "fe67e82b656b40faa595cf97dc81b85c",
       "version_major": 2,
       "version_minor": 0
      },
      "text/plain": [
       "  0%|          | 0/9912422 [00:00<?, ?it/s]"
      ]
     },
     "metadata": {},
     "output_type": "display_data"
    },
    {
     "name": "stdout",
     "output_type": "stream",
     "text": [
      "Extracting ../data/MNIST/MNIST/raw/train-images-idx3-ubyte.gz to ../data/MNIST/MNIST/raw\n",
      "\n",
      "Downloading http://yann.lecun.com/exdb/mnist/train-labels-idx1-ubyte.gz\n",
      "Downloading http://yann.lecun.com/exdb/mnist/train-labels-idx1-ubyte.gz to ../data/MNIST/MNIST/raw/train-labels-idx1-ubyte.gz\n"
     ]
    },
    {
     "data": {
      "application/vnd.jupyter.widget-view+json": {
       "model_id": "41ddf3c6a8d34436b3fbe7eda72ceed0",
       "version_major": 2,
       "version_minor": 0
      },
      "text/plain": [
       "  0%|          | 0/28881 [00:00<?, ?it/s]"
      ]
     },
     "metadata": {},
     "output_type": "display_data"
    },
    {
     "name": "stdout",
     "output_type": "stream",
     "text": [
      "Extracting ../data/MNIST/MNIST/raw/train-labels-idx1-ubyte.gz to ../data/MNIST/MNIST/raw\n",
      "\n",
      "Downloading http://yann.lecun.com/exdb/mnist/t10k-images-idx3-ubyte.gz\n",
      "Downloading http://yann.lecun.com/exdb/mnist/t10k-images-idx3-ubyte.gz to ../data/MNIST/MNIST/raw/t10k-images-idx3-ubyte.gz\n"
     ]
    },
    {
     "data": {
      "application/vnd.jupyter.widget-view+json": {
       "model_id": "0dfe29f2b2f14c0b9cc99e498bd929eb",
       "version_major": 2,
       "version_minor": 0
      },
      "text/plain": [
       "  0%|          | 0/1648877 [00:00<?, ?it/s]"
      ]
     },
     "metadata": {},
     "output_type": "display_data"
    },
    {
     "name": "stdout",
     "output_type": "stream",
     "text": [
      "Extracting ../data/MNIST/MNIST/raw/t10k-images-idx3-ubyte.gz to ../data/MNIST/MNIST/raw\n",
      "\n",
      "Downloading http://yann.lecun.com/exdb/mnist/t10k-labels-idx1-ubyte.gz\n",
      "Downloading http://yann.lecun.com/exdb/mnist/t10k-labels-idx1-ubyte.gz to ../data/MNIST/MNIST/raw/t10k-labels-idx1-ubyte.gz\n"
     ]
    },
    {
     "data": {
      "application/vnd.jupyter.widget-view+json": {
       "model_id": "f80e9c85c9fb4c52bb354305f4bcc79a",
       "version_major": 2,
       "version_minor": 0
      },
      "text/plain": [
       "  0%|          | 0/4542 [00:00<?, ?it/s]"
      ]
     },
     "metadata": {},
     "output_type": "display_data"
    },
    {
     "name": "stdout",
     "output_type": "stream",
     "text": [
      "Extracting ../data/MNIST/MNIST/raw/t10k-labels-idx1-ubyte.gz to ../data/MNIST/MNIST/raw\n",
      "\n"
     ]
    }
   ],
   "source": [
    "''' 3. MNIST 데이터 다운로드 (Train set, Test set 분리하기) '''\n",
    "train_dataset = datasets.MNIST(root = \"../data/MNIST\",\n",
    "                               train = True,\n",
    "                               download = True,\n",
    "                               transform = transforms.ToTensor())#텐서로 바꿈\n",
    "\n",
    "test_dataset = datasets.MNIST(root = \"../data/MNIST\",\n",
    "                              train = False,\n",
    "                              transform = transforms.ToTensor())\n",
    "\n",
    "train_loader = torch.utils.data.DataLoader(dataset = train_dataset,\n",
    "                                           batch_size = BATCH_SIZE,\n",
    "                                           shuffle = True)\n",
    "\n",
    "test_loader = torch.utils.data.DataLoader(dataset = test_dataset,\n",
    "                                          batch_size = BATCH_SIZE,\n",
    "                                          shuffle = False)"
   ]
  },
  {
   "cell_type": "code",
   "execution_count": 9,
   "id": "b3a73b4d",
   "metadata": {
    "scrolled": true
   },
   "outputs": [
    {
     "data": {
      "text/plain": [
       "['_DataLoader__initialized',\n",
       " '_DataLoader__multiprocessing_context',\n",
       " '_IterableDataset_len_called',\n",
       " '__annotations__',\n",
       " '__class__',\n",
       " '__class_getitem__',\n",
       " '__delattr__',\n",
       " '__dict__',\n",
       " '__dir__',\n",
       " '__doc__',\n",
       " '__eq__',\n",
       " '__format__',\n",
       " '__ge__',\n",
       " '__getattribute__',\n",
       " '__gt__',\n",
       " '__hash__',\n",
       " '__init__',\n",
       " '__init_subclass__',\n",
       " '__iter__',\n",
       " '__le__',\n",
       " '__len__',\n",
       " '__lt__',\n",
       " '__module__',\n",
       " '__ne__',\n",
       " '__new__',\n",
       " '__orig_bases__',\n",
       " '__parameters__',\n",
       " '__reduce__',\n",
       " '__reduce_ex__',\n",
       " '__repr__',\n",
       " '__setattr__',\n",
       " '__sizeof__',\n",
       " '__slots__',\n",
       " '__str__',\n",
       " '__subclasshook__',\n",
       " '__weakref__',\n",
       " '_auto_collation',\n",
       " '_dataset_kind',\n",
       " '_get_iterator',\n",
       " '_index_sampler',\n",
       " '_is_protocol',\n",
       " '_iterator',\n",
       " 'batch_sampler',\n",
       " 'batch_size',\n",
       " 'check_worker_number_rationality',\n",
       " 'collate_fn',\n",
       " 'dataset',\n",
       " 'drop_last',\n",
       " 'generator',\n",
       " 'multiprocessing_context',\n",
       " 'num_workers',\n",
       " 'persistent_workers',\n",
       " 'pin_memory',\n",
       " 'prefetch_factor',\n",
       " 'sampler',\n",
       " 'timeout',\n",
       " 'worker_init_fn']"
      ]
     },
     "execution_count": 9,
     "metadata": {},
     "output_type": "execute_result"
    }
   ],
   "source": [
    "dir(train_loader)"
   ]
  },
  {
   "cell_type": "code",
   "execution_count": 10,
   "id": "07df1de9",
   "metadata": {},
   "outputs": [
    {
     "name": "stdout",
     "output_type": "stream",
     "text": [
      "X_train: torch.Size([32, 1, 28, 28]) type: torch.FloatTensor\n",
      "y_train: torch.Size([32]) type: torch.LongTensor\n"
     ]
    }
   ],
   "source": [
    "''' 4. 데이터 확인하기 (1) '''\n",
    "for (X_train, y_train) in train_loader:\n",
    "    print('X_train:', X_train.size(), 'type:', X_train.type())\n",
    "    print('y_train:', y_train.size(), 'type:', y_train.type())\n",
    "    break"
   ]
  },
  {
   "cell_type": "code",
   "execution_count": 11,
   "id": "bc55dc86",
   "metadata": {},
   "outputs": [
    {
     "data": {
      "image/png": "[encoded data removed]",
      "text/plain": [
       "<Figure size 720x72 with 10 Axes>"
      ]
     },
     "metadata": {
      "needs_background": "light"
     },
     "output_type": "display_data"
    }
   ],
   "source": [
    "''' 5. 데이터 확인하기 (2) '''\n",
    "pltsize = 1\n",
    "plt.figure(figsize=(10 * pltsize, pltsize))\n",
    "for i in range(10):\n",
    "    plt.subplot(1, 10, i + 1)\n",
    "    plt.axis('off')\n",
    "    plt.imshow(X_train[i, :, :, :].numpy().reshape(28, 28), cmap = \"gray_r\")\n",
    "    plt.title('Class: ' + str(y_train[i].item()))"
   ]
  },
  {
   "cell_type": "code",
   "execution_count": 12,
   "id": "b551b332",
   "metadata": {},
   "outputs": [],
   "source": [
    "''' 6. Multi Layer Perceptron (MLP) 모델 설계하기 '''\n",
    "class Net(nn.Module):\n",
    "    def __init__(self):\n",
    "        super(Net, self).__init__()\n",
    "        self.fc1 = nn.Linear(28 * 28, 512)\n",
    "        self.fc2 = nn.Linear(512, 256)\n",
    "        self.fc3 = nn.Linear(256, 10)\n",
    "\n",
    "    def forward(self, x):\n",
    "        x = x.view(-1, 28 * 28)\n",
    "        x = self.fc1(x)\n",
    "        x = F.sigmoid(x)\n",
    "        x = self.fc2(x)\n",
    "        x = F.sigmoid(x)\n",
    "        x = self.fc3(x)\n",
    "        x = F.log_softmax(x, dim = 1)\n",
    "        return x"
   ]
  },
  {
   "cell_type": "code",
   "execution_count": 13,
   "id": "9828eb15",
   "metadata": {},
   "outputs": [
    {
     "name": "stdout",
     "output_type": "stream",
     "text": [
      "Net(\n",
      "  (fc1): Linear(in_features=784, out_features=512, bias=True)\n",
      "  (fc2): Linear(in_features=512, out_features=256, bias=True)\n",
      "  (fc3): Linear(in_features=256, out_features=10, bias=True)\n",
      ")\n"
     ]
    }
   ],
   "source": [
    "''' 7. Optimizer, Objective Function 설정하기 '''\n",
    "model = Net().to(DEVICE)#디바이스 정보를 받아온 것을 할당 현재(CPU)\n",
    "optimizer = torch.optim.SGD(model.parameters(), lr = 0.01, momentum = 0.5)\n",
    "criterion = nn.CrossEntropyLoss()#크로스엔트로피\n",
    "\n",
    "print(model)"
   ]
  },
  {
   "cell_type": "code",
   "execution_count": 14,
   "id": "1f2a6685",
   "metadata": {},
   "outputs": [],
   "source": [
    "''' 8. MLP 모델 학습을 진행하며 학습 데이터에 대한 모델 성능을 확인하는 함수 정의 '''\n",
    "def train(model, train_loader, optimizer, log_interval):\n",
    "    model.train()\n",
    "    for batch_idx, (image, label) in enumerate(train_loader):\n",
    "        image = image.to(DEVICE)\n",
    "        label = label.to(DEVICE)\n",
    "        optimizer.zero_grad()\n",
    "        output = model(image)\n",
    "        loss = criterion(output, label)\n",
    "        loss.backward()\n",
    "        optimizer.step()\n",
    "\n",
    "        if batch_idx % log_interval == 0:\n",
    "            print(\"Train Epoch: {} [{}/{} ({:.0f}%)]\\tTrain Loss: {:.6f}\".format(\n",
    "                epoch, batch_idx * len(image),\n",
    "                len(train_loader.dataset), 100. * batch_idx / len(train_loader),\n",
    "                loss.item()))"
   ]
  },
  {
   "cell_type": "code",
   "execution_count": 15,
   "id": "d16e5f13",
   "metadata": {},
   "outputs": [],
   "source": [
    "''' 9. 학습되는 과정 속에서 검증 데이터에 대한 모델 성능을 확인하는 함수 정의 '''\n",
    "def evaluate(model, test_loader):\n",
    "    model.eval()\n",
    "    test_loss = 0\n",
    "    correct = 0\n",
    "\n",
    "    with torch.no_grad():\n",
    "        for image, label in test_loader:\n",
    "            image = image.to(DEVICE)\n",
    "            label = label.to(DEVICE)\n",
    "            output = model(image)\n",
    "            test_loss += criterion(output, label).item()\n",
    "            prediction = output.max(1, keepdim = True)[1]\n",
    "            correct += prediction.eq(label.view_as(prediction)).sum().item()\n",
    "\n",
    "    test_loss /= (len(test_loader.dataset) / BATCH_SIZE)\n",
    "    test_accuracy = 100. * correct / len(test_loader.dataset)\n",
    "    return test_loss, test_accuracy\n"
   ]
  },
  {
   "cell_type": "code",
   "execution_count": 16,
   "id": "d2887cc3",
   "metadata": {},
   "outputs": [
    {
     "name": "stderr",
     "output_type": "stream",
     "text": [
      "/opt/homebrew/anaconda3/lib/python3.8/site-packages/torch/nn/functional.py:1806: UserWarning: nn.functional.sigmoid is deprecated. Use torch.sigmoid instead.\n",
      "  warnings.warn(\"nn.functional.sigmoid is deprecated. Use torch.sigmoid instead.\")\n"
     ]
    },
    {
     "name": "stdout",
     "output_type": "stream",
     "text": [
      "Train Epoch: 1 [0/60000 (0%)]\tTrain Loss: 2.305700\n",
      "Train Epoch: 1 [6400/60000 (11%)]\tTrain Loss: 2.311882\n",
      "Train Epoch: 1 [12800/60000 (21%)]\tTrain Loss: 2.328369\n",
      "Train Epoch: 1 [19200/60000 (32%)]\tTrain Loss: 2.298573\n",
      "Train Epoch: 1 [25600/60000 (43%)]\tTrain Loss: 2.305955\n",
      "Train Epoch: 1 [32000/60000 (53%)]\tTrain Loss: 2.307668\n",
      "Train Epoch: 1 [38400/60000 (64%)]\tTrain Loss: 2.291015\n",
      "Train Epoch: 1 [44800/60000 (75%)]\tTrain Loss: 2.269988\n",
      "Train Epoch: 1 [51200/60000 (85%)]\tTrain Loss: 2.272034\n",
      "Train Epoch: 1 [57600/60000 (96%)]\tTrain Loss: 2.320829\n",
      "\n",
      "[EPOCH: 1], \tTest Loss: 2.2360, \tTest Accuracy: 27.47 % \n",
      "\n",
      "Train Epoch: 2 [0/60000 (0%)]\tTrain Loss: 2.201384\n",
      "Train Epoch: 2 [6400/60000 (11%)]\tTrain Loss: 2.203419\n",
      "Train Epoch: 2 [12800/60000 (21%)]\tTrain Loss: 2.205902\n",
      "Train Epoch: 2 [19200/60000 (32%)]\tTrain Loss: 2.174984\n",
      "Train Epoch: 2 [25600/60000 (43%)]\tTrain Loss: 2.079787\n",
      "Train Epoch: 2 [32000/60000 (53%)]\tTrain Loss: 1.810093\n",
      "Train Epoch: 2 [38400/60000 (64%)]\tTrain Loss: 1.563014\n",
      "Train Epoch: 2 [44800/60000 (75%)]\tTrain Loss: 1.487064\n",
      "Train Epoch: 2 [51200/60000 (85%)]\tTrain Loss: 1.477352\n",
      "Train Epoch: 2 [57600/60000 (96%)]\tTrain Loss: 1.256543\n",
      "\n",
      "[EPOCH: 2], \tTest Loss: 1.2185, \tTest Accuracy: 62.84 % \n",
      "\n",
      "Train Epoch: 3 [0/60000 (0%)]\tTrain Loss: 1.154676\n",
      "Train Epoch: 3 [6400/60000 (11%)]\tTrain Loss: 1.159304\n",
      "Train Epoch: 3 [12800/60000 (21%)]\tTrain Loss: 1.002488\n",
      "Train Epoch: 3 [19200/60000 (32%)]\tTrain Loss: 0.995564\n",
      "Train Epoch: 3 [25600/60000 (43%)]\tTrain Loss: 1.094424\n",
      "Train Epoch: 3 [32000/60000 (53%)]\tTrain Loss: 1.061189\n",
      "Train Epoch: 3 [38400/60000 (64%)]\tTrain Loss: 0.961766\n",
      "Train Epoch: 3 [44800/60000 (75%)]\tTrain Loss: 0.771988\n",
      "Train Epoch: 3 [51200/60000 (85%)]\tTrain Loss: 0.604656\n",
      "Train Epoch: 3 [57600/60000 (96%)]\tTrain Loss: 0.767976\n",
      "\n",
      "[EPOCH: 3], \tTest Loss: 0.7495, \tTest Accuracy: 77.61 % \n",
      "\n",
      "Train Epoch: 4 [0/60000 (0%)]\tTrain Loss: 0.681797\n",
      "Train Epoch: 4 [6400/60000 (11%)]\tTrain Loss: 0.884723\n",
      "Train Epoch: 4 [12800/60000 (21%)]\tTrain Loss: 0.523287\n",
      "Train Epoch: 4 [19200/60000 (32%)]\tTrain Loss: 0.738827\n",
      "Train Epoch: 4 [25600/60000 (43%)]\tTrain Loss: 0.782608\n",
      "Train Epoch: 4 [32000/60000 (53%)]\tTrain Loss: 0.644179\n",
      "Train Epoch: 4 [38400/60000 (64%)]\tTrain Loss: 1.007169\n",
      "Train Epoch: 4 [44800/60000 (75%)]\tTrain Loss: 0.561884\n",
      "Train Epoch: 4 [51200/60000 (85%)]\tTrain Loss: 0.416483\n",
      "Train Epoch: 4 [57600/60000 (96%)]\tTrain Loss: 0.462010\n",
      "\n",
      "[EPOCH: 4], \tTest Loss: 0.5589, \tTest Accuracy: 83.94 % \n",
      "\n",
      "Train Epoch: 5 [0/60000 (0%)]\tTrain Loss: 0.465770\n",
      "Train Epoch: 5 [6400/60000 (11%)]\tTrain Loss: 0.395361\n",
      "Train Epoch: 5 [12800/60000 (21%)]\tTrain Loss: 0.532031\n",
      "Train Epoch: 5 [19200/60000 (32%)]\tTrain Loss: 0.819223\n",
      "Train Epoch: 5 [25600/60000 (43%)]\tTrain Loss: 0.591429\n",
      "Train Epoch: 5 [32000/60000 (53%)]\tTrain Loss: 0.377902\n",
      "Train Epoch: 5 [38400/60000 (64%)]\tTrain Loss: 0.422847\n",
      "Train Epoch: 5 [44800/60000 (75%)]\tTrain Loss: 0.663158\n",
      "Train Epoch: 5 [51200/60000 (85%)]\tTrain Loss: 0.453956\n",
      "Train Epoch: 5 [57600/60000 (96%)]\tTrain Loss: 0.638302\n",
      "\n",
      "[EPOCH: 5], \tTest Loss: 0.4582, \tTest Accuracy: 86.57 % \n",
      "\n",
      "Train Epoch: 6 [0/60000 (0%)]\tTrain Loss: 0.461584\n",
      "Train Epoch: 6 [6400/60000 (11%)]\tTrain Loss: 0.563735\n",
      "Train Epoch: 6 [12800/60000 (21%)]\tTrain Loss: 0.395998\n",
      "Train Epoch: 6 [19200/60000 (32%)]\tTrain Loss: 0.428272\n",
      "Train Epoch: 6 [25600/60000 (43%)]\tTrain Loss: 0.220841\n",
      "Train Epoch: 6 [32000/60000 (53%)]\tTrain Loss: 0.373553\n",
      "Train Epoch: 6 [38400/60000 (64%)]\tTrain Loss: 0.378552\n",
      "Train Epoch: 6 [44800/60000 (75%)]\tTrain Loss: 0.341144\n",
      "Train Epoch: 6 [51200/60000 (85%)]\tTrain Loss: 0.418546\n",
      "Train Epoch: 6 [57600/60000 (96%)]\tTrain Loss: 0.388381\n",
      "\n",
      "[EPOCH: 6], \tTest Loss: 0.4105, \tTest Accuracy: 88.04 % \n",
      "\n",
      "Train Epoch: 7 [0/60000 (0%)]\tTrain Loss: 0.511798\n",
      "Train Epoch: 7 [6400/60000 (11%)]\tTrain Loss: 0.451182\n",
      "Train Epoch: 7 [12800/60000 (21%)]\tTrain Loss: 0.786438\n",
      "Train Epoch: 7 [19200/60000 (32%)]\tTrain Loss: 0.519288\n",
      "Train Epoch: 7 [25600/60000 (43%)]\tTrain Loss: 0.312254\n",
      "Train Epoch: 7 [32000/60000 (53%)]\tTrain Loss: 0.489852\n",
      "Train Epoch: 7 [38400/60000 (64%)]\tTrain Loss: 0.431743\n",
      "Train Epoch: 7 [44800/60000 (75%)]\tTrain Loss: 0.386244\n",
      "Train Epoch: 7 [51200/60000 (85%)]\tTrain Loss: 0.525872\n",
      "Train Epoch: 7 [57600/60000 (96%)]\tTrain Loss: 0.476485\n",
      "\n",
      "[EPOCH: 7], \tTest Loss: 0.3805, \tTest Accuracy: 88.97 % \n",
      "\n",
      "Train Epoch: 8 [0/60000 (0%)]\tTrain Loss: 0.320769\n",
      "Train Epoch: 8 [6400/60000 (11%)]\tTrain Loss: 0.226892\n",
      "Train Epoch: 8 [12800/60000 (21%)]\tTrain Loss: 0.410916\n",
      "Train Epoch: 8 [19200/60000 (32%)]\tTrain Loss: 0.583197\n",
      "Train Epoch: 8 [25600/60000 (43%)]\tTrain Loss: 0.345213\n",
      "Train Epoch: 8 [32000/60000 (53%)]\tTrain Loss: 0.391896\n",
      "Train Epoch: 8 [38400/60000 (64%)]\tTrain Loss: 0.612199\n",
      "Train Epoch: 8 [44800/60000 (75%)]\tTrain Loss: 0.569914\n",
      "Train Epoch: 8 [51200/60000 (85%)]\tTrain Loss: 0.222286\n",
      "Train Epoch: 8 [57600/60000 (96%)]\tTrain Loss: 0.306422\n",
      "\n",
      "[EPOCH: 8], \tTest Loss: 0.3586, \tTest Accuracy: 89.55 % \n",
      "\n",
      "Train Epoch: 9 [0/60000 (0%)]\tTrain Loss: 0.293023\n",
      "Train Epoch: 9 [6400/60000 (11%)]\tTrain Loss: 0.518202\n",
      "Train Epoch: 9 [12800/60000 (21%)]\tTrain Loss: 0.297919\n",
      "Train Epoch: 9 [19200/60000 (32%)]\tTrain Loss: 0.212290\n",
      "Train Epoch: 9 [25600/60000 (43%)]\tTrain Loss: 0.297665\n",
      "Train Epoch: 9 [32000/60000 (53%)]\tTrain Loss: 0.601438\n",
      "Train Epoch: 9 [38400/60000 (64%)]\tTrain Loss: 0.253116\n",
      "Train Epoch: 9 [44800/60000 (75%)]\tTrain Loss: 0.146935\n",
      "Train Epoch: 9 [51200/60000 (85%)]\tTrain Loss: 0.282249\n",
      "Train Epoch: 9 [57600/60000 (96%)]\tTrain Loss: 0.366854\n",
      "\n",
      "[EPOCH: 9], \tTest Loss: 0.3461, \tTest Accuracy: 89.92 % \n",
      "\n",
      "Train Epoch: 10 [0/60000 (0%)]\tTrain Loss: 0.453399\n",
      "Train Epoch: 10 [6400/60000 (11%)]\tTrain Loss: 0.520972\n",
      "Train Epoch: 10 [12800/60000 (21%)]\tTrain Loss: 0.180592\n",
      "Train Epoch: 10 [19200/60000 (32%)]\tTrain Loss: 0.258543\n",
      "Train Epoch: 10 [25600/60000 (43%)]\tTrain Loss: 0.411389\n",
      "Train Epoch: 10 [32000/60000 (53%)]\tTrain Loss: 0.228305\n",
      "Train Epoch: 10 [38400/60000 (64%)]\tTrain Loss: 0.675599\n",
      "Train Epoch: 10 [44800/60000 (75%)]\tTrain Loss: 0.425160\n",
      "Train Epoch: 10 [51200/60000 (85%)]\tTrain Loss: 0.285922\n",
      "Train Epoch: 10 [57600/60000 (96%)]\tTrain Loss: 0.128729\n",
      "\n",
      "[EPOCH: 10], \tTest Loss: 0.3336, \tTest Accuracy: 90.39 % \n",
      "\n"
     ]
    }
   ],
   "source": [
    "''' 10. MLP 학습 실행하며 Train, Test set의 Loss 및 Test set Accuracy 확인하기 '''\n",
    "for epoch in range(1, EPOCHS + 1):\n",
    "    train(model, train_loader, optimizer, log_interval = 200)\n",
    "    test_loss, test_accuracy = evaluate(model, test_loader)\n",
    "    print(\"\\n[EPOCH: {}], \\tTest Loss: {:.4f}, \\tTest Accuracy: {:.2f} % \\n\".format(\n",
    "        epoch, test_loss, test_accuracy))"
   ]
  }
 ],
 "metadata": {
  "kernelspec": {
   "display_name": "Python 3",
   "language": "python",
   "name": "python3"
  },
  "language_info": {
   "codemirror_mode": {
    "name": "ipython",
    "version": 3
   },
   "file_extension": ".py",
   "mimetype": "text/x-python",
   "name": "python",
   "nbconvert_exporter": "python",
   "pygments_lexer": "ipython3",
   "version": "3.8.8"
  }
 },
 "nbformat": 4,
 "nbformat_minor": 5
}
