{
 "cells": [
  {
   "cell_type": "code",
   "execution_count": 10,
   "id": "1f8dec8c",
   "metadata": {},
   "outputs": [],
   "source": [
    "import requests\n",
    "url = \"http://127.0.0.1:8000/predict/\"\n",
    "\n",
    "payload = {\n",
    "    \"Pregnancies\" : 1, \n",
    "    \"Glucose\" : 120.89,\n",
    "    \"BloodPressure\" : 69.1,\n",
    "    \"SkinThickness\" : 20.53,\n",
    "    \"Insulin\" : 79.9,\n",
    "    \"DiabetesPedigreeFunction\" : 0.47,\n",
    "    \"Age\" : 33,\n",
    "    \"BMI\" : 20 \n",
    "}\n",
    "r = requests.post(url, data=payload)"
   ]
  },
  {
   "cell_type": "code",
   "execution_count": 11,
   "id": "b570dc0e",
   "metadata": {},
   "outputs": [
    {
     "data": {
      "text/plain": [
       "{'error': 0, 'message': 'Successful', 'result': 0}"
      ]
     },
     "execution_count": 11,
     "metadata": {},
     "output_type": "execute_result"
    }
   ],
   "source": [
    "r.json()"
   ]
  },
  {
   "cell_type": "code",
   "execution_count": 12,
   "id": "2fa794dc",
   "metadata": {
    "scrolled": true
   },
   "outputs": [
    {
     "name": "stdout",
     "output_type": "stream",
     "text": [
      "당신은 당뇨병에 걸리지 않았습니다..\n"
     ]
    }
   ],
   "source": [
    "if r.json()['result'] == 0:\n",
    "    print('당신은 당뇨병에 걸리지 않았습니다..')\n",
    "else:\n",
    "    print('병원에 가세요')"
   ]
  },
  {
   "cell_type": "code",
   "execution_count": null,
   "id": "90f50152",
   "metadata": {},
   "outputs": [],
   "source": [
    "#### predict 컬럼 생성 -> api서버의 값을 기록"
   ]
  },
  {
   "cell_type": "code",
   "execution_count": 13,
   "id": "ca2c0e46",
   "metadata": {},
   "outputs": [],
   "source": [
    "import pandas as pd"
   ]
  },
  {
   "cell_type": "code",
   "execution_count": null,
   "id": "a45a8341",
   "metadata": {},
   "outputs": [],
   "source": []
  },
  {
   "cell_type": "code",
   "execution_count": 16,
   "id": "1e0e875c",
   "metadata": {},
   "outputs": [],
   "source": [
    "df = pd.read_csv('../data/diabetes.csv')"
   ]
  },
  {
   "cell_type": "code",
   "execution_count": 31,
   "id": "338c7758",
   "metadata": {},
   "outputs": [
    {
     "data": {
      "text/plain": [
       "768"
      ]
     },
     "execution_count": 31,
     "metadata": {},
     "output_type": "execute_result"
    }
   ],
   "source": [
    "len(df)"
   ]
  },
  {
   "cell_type": "code",
   "execution_count": 49,
   "id": "1c7c90b4",
   "metadata": {},
   "outputs": [],
   "source": [
    "import requests\n",
    "v = []\n",
    "for i in range(len(df)):\n",
    "    payload = dict(df.iloc[i])\n",
    "    url = \"http://127.0.0.1:8000/predict/\"\n",
    "    r = requests.post(url, data=payload)\n",
    "    v.append(r.json()['result'])\n",
    "\n",
    "df['predict'] = v\n",
    "\n",
    "#df.predict.replace(1000, 1, inplace=True)"
   ]
  },
  {
   "cell_type": "code",
   "execution_count": 50,
   "id": "ca8cd66f",
   "metadata": {
    "scrolled": true
   },
   "outputs": [
    {
     "data": {
      "text/plain": [
       "0    562\n",
       "1    206\n",
       "Name: predict, dtype: int64"
      ]
     },
     "execution_count": 50,
     "metadata": {},
     "output_type": "execute_result"
    }
   ],
   "source": [
    "df.predict.value_counts()"
   ]
  },
  {
   "cell_type": "code",
   "execution_count": null,
   "id": "17fa3a49",
   "metadata": {},
   "outputs": [],
   "source": [
    "result = []\n",
    "for idx, cont in df.iterrows():\n",
    "    data = dict(cont)\n",
    "    del data['Outcome']\n",
    "    r = requests.post(url, data=data)\n",
    "    result.append(r.json()['result'])\n",
    "df = df.assign(result  = pd.DataFrame(result, columns=['result']))"
   ]
  }
 ],
 "metadata": {
  "kernelspec": {
   "display_name": "Python 3",
   "language": "python",
   "name": "python3"
  },
  "language_info": {
   "codemirror_mode": {
    "name": "ipython",
    "version": 3
   },
   "file_extension": ".py",
   "mimetype": "text/x-python",
   "name": "python",
   "nbconvert_exporter": "python",
   "pygments_lexer": "ipython3",
   "version": "3.8.8"
  }
 },
 "nbformat": 4,
 "nbformat_minor": 5
}
