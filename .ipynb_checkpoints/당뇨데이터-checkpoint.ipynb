{
 "cells": [
  {
   "cell_type": "code",
   "execution_count": 7,
   "id": "4490fbdf",
   "metadata": {},
   "outputs": [
    {
     "data": {
      "text/plain": [
       "<Response [200]>"
      ]
     },
     "execution_count": 7,
     "metadata": {},
     "output_type": "execute_result"
    }
   ],
   "source": [
    "import requests\n",
    "url = \"http://127.0.0.1:8000/predict/\"\n",
    "\n",
    "payload = {\n",
    "    \"Pregnancies\" = 1,\n",
    "    \"Glucose\" = 120.89,\n",
    "    \"BloodPressure\" = 69.1,\n",
    "    \"SkinThickness\" = 20.53, \n",
    "    \"Insulin\" = 79.9,\n",
    "    \"DiabetesPedigreeFunction\" = 0.47,\n",
    "    \"Age\" = 33,\n",
    "    \"BMI\" = 20\n",
    "}\n",
    "requests.post(url, data=payload)"
   ]
  },
  {
   "cell_type": "code",
   "execution_count": null,
   "id": "abfb5ff8",
   "metadata": {},
   "outputs": [],
   "source": []
  }
 ],
 "metadata": {
  "kernelspec": {
   "display_name": "Python 3",
   "language": "python",
   "name": "python3"
  },
  "language_info": {
   "codemirror_mode": {
    "name": "ipython",
    "version": 3
   },
   "file_extension": ".py",
   "mimetype": "text/x-python",
   "name": "python",
   "nbconvert_exporter": "python",
   "pygments_lexer": "ipython3",
   "version": "3.8.8"
  }
 },
 "nbformat": 4,
 "nbformat_minor": 5
}
