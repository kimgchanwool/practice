{
 "cells": [
  {
   "cell_type": "code",
   "execution_count": 1,
   "metadata": {},
   "outputs": [
    {
     "ename": "ModuleNotFoundError",
     "evalue": "No module named 'pymysql'",
     "output_type": "error",
     "traceback": [
      "\u001b[0;31m---------------------------------------------------------------------------\u001b[0m",
      "\u001b[0;31mModuleNotFoundError\u001b[0m                       Traceback (most recent call last)",
      "\u001b[0;32m<ipython-input-1-41f4e17bbeda>\u001b[0m in \u001b[0;36m<module>\u001b[0;34m\u001b[0m\n\u001b[1;32m      3\u001b[0m \u001b[0;32mimport\u001b[0m \u001b[0mpandas\u001b[0m \u001b[0;32mas\u001b[0m \u001b[0mpd\u001b[0m\u001b[0;34m\u001b[0m\u001b[0;34m\u001b[0m\u001b[0m\n\u001b[1;32m      4\u001b[0m \u001b[0;32mfrom\u001b[0m \u001b[0murllib\u001b[0m \u001b[0;32mimport\u001b[0m \u001b[0mparse\u001b[0m\u001b[0;34m\u001b[0m\u001b[0;34m\u001b[0m\u001b[0m\n\u001b[0;32m----> 5\u001b[0;31m \u001b[0;32mimport\u001b[0m \u001b[0mpymysql\u001b[0m\u001b[0;34m\u001b[0m\u001b[0;34m\u001b[0m\u001b[0m\n\u001b[0m",
      "\u001b[0;31mModuleNotFoundError\u001b[0m: No module named 'pymysql'"
     ]
    }
   ],
   "source": [
    "import requests\n",
    "import xml.etree.ElementTree as ET\n",
    "import pandas as pd\n",
    "from urllib import parse\n",
    "import pymysql"
   ]
  },
  {
   "cell_type": "code",
   "execution_count": 138,
   "metadata": {},
   "outputs": [],
   "source": [
    "url = \"http://openapi.airport.co.kr/service/rest/FlightScheduleList/getIflightScheduleList?serviceKey=WRvGBkn9UEtw%2BAsg0tYo210Etxvb1QEcAX%2BwfWvOxVGYJkh1CNZ%2FY4QFa0r7j4bhT4NjPu7z1i1ck8ZgsKMt2Q%3D%3D&schDate=20151005&numOfRows=5000\""
   ]
  },
  {
   "cell_type": "code",
   "execution_count": 139,
   "metadata": {},
   "outputs": [],
   "source": [
    "result = parse.urlparse(url)"
   ]
  },
  {
   "cell_type": "code",
   "execution_count": 140,
   "metadata": {},
   "outputs": [
    {
     "data": {
      "text/plain": [
       "ParseResult(scheme='http', netloc='openapi.airport.co.kr', path='/service/rest/FlightScheduleList/getIflightScheduleList', params='', query='serviceKey=WRvGBkn9UEtw%2BAsg0tYo210Etxvb1QEcAX%2BwfWvOxVGYJkh1CNZ%2FY4QFa0r7j4bhT4NjPu7z1i1ck8ZgsKMt2Q%3D%3D&schDate=20151005&numOfRows=5000', fragment='')"
      ]
     },
     "execution_count": 140,
     "metadata": {},
     "output_type": "execute_result"
    }
   ],
   "source": [
    "result"
   ]
  },
  {
   "cell_type": "code",
   "execution_count": 141,
   "metadata": {},
   "outputs": [
    {
     "data": {
      "text/plain": [
       "'http://openapi.airport.co.kr/service/rest/FlightScheduleList/getIflightScheduleList?serviceKey=WRvGBkn9UEtw%2BAsg0tYo210Etxvb1QEcAX%2BwfWvOxVGYJkh1CNZ%2FY4QFa0r7j4bhT4NjPu7z1i1ck8ZgsKMt2Q%3D%3D&schDate=20151005&numOfRows=5000'"
      ]
     },
     "execution_count": 141,
     "metadata": {},
     "output_type": "execute_result"
    }
   ],
   "source": [
    "result.geturl()"
   ]
  },
  {
   "cell_type": "code",
   "execution_count": 142,
   "metadata": {},
   "outputs": [
    {
     "data": {
      "text/plain": [
       "'http'"
      ]
     },
     "execution_count": 142,
     "metadata": {},
     "output_type": "execute_result"
    }
   ],
   "source": [
    "result.scheme"
   ]
  },
  {
   "cell_type": "code",
   "execution_count": 143,
   "metadata": {},
   "outputs": [
    {
     "data": {
      "text/plain": [
       "'http'"
      ]
     },
     "execution_count": 143,
     "metadata": {},
     "output_type": "execute_result"
    }
   ],
   "source": [
    "result[0]"
   ]
  },
  {
   "cell_type": "code",
   "execution_count": 144,
   "metadata": {},
   "outputs": [
    {
     "data": {
      "text/plain": [
       "'openapi.airport.co.kr'"
      ]
     },
     "execution_count": 144,
     "metadata": {},
     "output_type": "execute_result"
    }
   ],
   "source": [
    "result.hostname"
   ]
  },
  {
   "cell_type": "code",
   "execution_count": 145,
   "metadata": {},
   "outputs": [
    {
     "data": {
      "text/plain": [
       "'/service/rest/FlightScheduleList/getIflightScheduleList'"
      ]
     },
     "execution_count": 145,
     "metadata": {},
     "output_type": "execute_result"
    }
   ],
   "source": [
    "result.path"
   ]
  },
  {
   "cell_type": "code",
   "execution_count": 146,
   "metadata": {},
   "outputs": [
    {
     "data": {
      "text/plain": [
       "'serviceKey=WRvGBkn9UEtw%2BAsg0tYo210Etxvb1QEcAX%2BwfWvOxVGYJkh1CNZ%2FY4QFa0r7j4bhT4NjPu7z1i1ck8ZgsKMt2Q%3D%3D&schDate=20151005&numOfRows=5000'"
      ]
     },
     "execution_count": 146,
     "metadata": {},
     "output_type": "execute_result"
    }
   ],
   "source": [
    "result.query"
   ]
  },
  {
   "cell_type": "markdown",
   "metadata": {},
   "source": [
    "* ParseResult를 사용하여 url주소 구조 완성 "
   ]
  },
  {
   "cell_type": "code",
   "execution_count": 147,
   "metadata": {},
   "outputs": [],
   "source": [
    "parse_result = parse.ParseResult(scheme  = result.scheme, netloc= result.hostname, path=result.path, \n",
    "                 params = result.params, query=result.query, fragment=result.fragment)"
   ]
  },
  {
   "cell_type": "code",
   "execution_count": 148,
   "metadata": {},
   "outputs": [
    {
     "data": {
      "text/plain": [
       "ParseResult(scheme='http', netloc='openapi.airport.co.kr', path='/service/rest/FlightScheduleList/getIflightScheduleList', params='', query='serviceKey=WRvGBkn9UEtw%2BAsg0tYo210Etxvb1QEcAX%2BwfWvOxVGYJkh1CNZ%2FY4QFa0r7j4bhT4NjPu7z1i1ck8ZgsKMt2Q%3D%3D&schDate=20151005&numOfRows=5000', fragment='')"
      ]
     },
     "execution_count": 148,
     "metadata": {},
     "output_type": "execute_result"
    }
   ],
   "source": [
    "parse_result"
   ]
  },
  {
   "cell_type": "markdown",
   "metadata": {},
   "source": [
    "* urlunparse() 메소드를 사용하여 주소 형태로 전달"
   ]
  },
  {
   "cell_type": "code",
   "execution_count": 149,
   "metadata": {},
   "outputs": [
    {
     "data": {
      "text/plain": [
       "'http://openapi.airport.co.kr/service/rest/FlightScheduleList/getIflightScheduleList?serviceKey=WRvGBkn9UEtw%2BAsg0tYo210Etxvb1QEcAX%2BwfWvOxVGYJkh1CNZ%2FY4QFa0r7j4bhT4NjPu7z1i1ck8ZgsKMt2Q%3D%3D&schDate=20151005&numOfRows=5000'"
      ]
     },
     "execution_count": 149,
     "metadata": {},
     "output_type": "execute_result"
    }
   ],
   "source": [
    "parse.urlunparse(parse_result)"
   ]
  },
  {
   "cell_type": "markdown",
   "metadata": {},
   "source": [
    "## 주소의 파라미터 수정하기"
   ]
  },
  {
   "cell_type": "code",
   "execution_count": 150,
   "metadata": {},
   "outputs": [],
   "source": [
    "query_dict = parse.parse_qs(result.query)"
   ]
  },
  {
   "cell_type": "code",
   "execution_count": 151,
   "metadata": {},
   "outputs": [
    {
     "data": {
      "text/plain": [
       "{'serviceKey': ['WRvGBkn9UEtw+Asg0tYo210Etxvb1QEcAX+wfWvOxVGYJkh1CNZ/Y4QFa0r7j4bhT4NjPu7z1i1ck8ZgsKMt2Q=='],\n",
       " 'schDate': ['20151005'],\n",
       " 'numOfRows': ['5000']}"
      ]
     },
     "execution_count": 151,
     "metadata": {},
     "output_type": "execute_result"
    }
   ],
   "source": [
    "query_dict"
   ]
  },
  {
   "cell_type": "markdown",
   "metadata": {},
   "source": [
    "### doseq 옵션\n",
    "* False가 기본값이며, dict의 value값의 []까지 인코딩을 한다. \n",
    "* True로 설정하면 실제 값만 인코딩을 한다"
   ]
  },
  {
   "cell_type": "code",
   "execution_count": 16,
   "metadata": {},
   "outputs": [
    {
     "data": {
      "text/plain": [
       "'serviceKey=WRvGBkn9UEtw%2BAsg0tYo210Etxvb1QEcAX%2BwfWvOxVGYJkh1CNZ%2FY4QFa0r7j4bhT4NjPu7z1i1ck8ZgsKMt2Q%3D%3D&schDate=20151005&numOfRows=5000'"
      ]
     },
     "execution_count": 16,
     "metadata": {},
     "output_type": "execute_result"
    }
   ],
   "source": [
    "parse.urlencode(query_dict, doseq=True)"
   ]
  },
  {
   "cell_type": "code",
   "execution_count": 17,
   "metadata": {},
   "outputs": [],
   "source": [
    "api_url = parse.ParseResult(scheme  = result.scheme, netloc= result.hostname, path=result.path, \n",
    "                 params = result.params, query=parse.urlencode(query_dict, doseq=True), fragment=result.fragment)"
   ]
  },
  {
   "cell_type": "code",
   "execution_count": 18,
   "metadata": {},
   "outputs": [],
   "source": [
    "url = parse.urlunparse(api_url)"
   ]
  },
  {
   "cell_type": "code",
   "execution_count": 19,
   "metadata": {},
   "outputs": [
    {
     "name": "stdout",
     "output_type": "stream",
     "text": [
      "http://openapi.airport.co.kr/service/rest/FlightScheduleList/getIflightScheduleList?serviceKey=WRvGBkn9UEtw%2BAsg0tYo210Etxvb1QEcAX%2BwfWvOxVGYJkh1CNZ%2FY4QFa0r7j4bhT4NjPu7z1i1ck8ZgsKMt2Q%3D%3D&schDate=20151005&numOfRows=5000\n"
     ]
    }
   ],
   "source": [
    "print (url)"
   ]
  },
  {
   "cell_type": "markdown",
   "metadata": {},
   "source": [
    "## xml 파싱"
   ]
  },
  {
   "cell_type": "code",
   "execution_count": 20,
   "metadata": {},
   "outputs": [],
   "source": [
    "r = requests.get(url)"
   ]
  },
  {
   "cell_type": "code",
   "execution_count": 21,
   "metadata": {},
   "outputs": [],
   "source": [
    "root = ET.fromstring(r.text)"
   ]
  },
  {
   "cell_type": "code",
   "execution_count": 22,
   "metadata": {},
   "outputs": [],
   "source": [
    "total = []\n",
    "items = root.iter(tag='item')\n",
    "for element in items:\n",
    "    #print(element.find(\"accDefRate\").text)\n",
    "    covid_dict = {}\n",
    "    for x in element:\n",
    "        covid_dict[x.tag] = x.text\n",
    "    total.append(covid_dict)"
   ]
  },
  {
   "cell_type": "code",
   "execution_count": 23,
   "metadata": {},
   "outputs": [
    {
     "data": {
      "text/plain": [
       "454"
      ]
     },
     "execution_count": 23,
     "metadata": {},
     "output_type": "execute_result"
    }
   ],
   "source": [
    "len(total)"
   ]
  },
  {
   "cell_type": "code",
   "execution_count": 24,
   "metadata": {},
   "outputs": [],
   "source": [
    "df = pd.DataFrame(total)"
   ]
  },
  {
   "cell_type": "code",
   "execution_count": 25,
   "metadata": {},
   "outputs": [
    {
     "data": {
      "text/html": [
       "<div>\n",
       "<style scoped>\n",
       "    .dataframe tbody tr th:only-of-type {\n",
       "        vertical-align: middle;\n",
       "    }\n",
       "\n",
       "    .dataframe tbody tr th {\n",
       "        vertical-align: top;\n",
       "    }\n",
       "\n",
       "    .dataframe thead th {\n",
       "        text-align: right;\n",
       "    }\n",
       "</style>\n",
       "<table border=\"1\" class=\"dataframe\">\n",
       "  <thead>\n",
       "    <tr style=\"text-align: right;\">\n",
       "      <th></th>\n",
       "      <th>airlineKorean</th>\n",
       "      <th>airport</th>\n",
       "      <th>city</th>\n",
       "      <th>internationalEddate</th>\n",
       "      <th>internationalFri</th>\n",
       "      <th>internationalIoType</th>\n",
       "      <th>internationalMon</th>\n",
       "      <th>internationalNum</th>\n",
       "      <th>internationalSat</th>\n",
       "      <th>internationalStdate</th>\n",
       "      <th>internationalSun</th>\n",
       "      <th>internationalThu</th>\n",
       "      <th>internationalTime</th>\n",
       "      <th>internationalTue</th>\n",
       "      <th>internationalWed</th>\n",
       "    </tr>\n",
       "  </thead>\n",
       "  <tbody>\n",
       "    <tr>\n",
       "      <th>0</th>\n",
       "      <td>이스타항공</td>\n",
       "      <td>청주</td>\n",
       "      <td>상해/푸동</td>\n",
       "      <td>2015-10-24T00:00:00+09:00</td>\n",
       "      <td>N</td>\n",
       "      <td>IN</td>\n",
       "      <td>N</td>\n",
       "      <td>ZE822</td>\n",
       "      <td>N</td>\n",
       "      <td>2015-07-21T00:00:00+09:00</td>\n",
       "      <td>Y</td>\n",
       "      <td>Y</td>\n",
       "      <td>0230</td>\n",
       "      <td>N</td>\n",
       "      <td>N</td>\n",
       "    </tr>\n",
       "    <tr>\n",
       "      <th>1</th>\n",
       "      <td>제주항공</td>\n",
       "      <td>대구</td>\n",
       "      <td>북경/베이징</td>\n",
       "      <td>2015-10-24T00:00:00+09:00</td>\n",
       "      <td>N</td>\n",
       "      <td>IN</td>\n",
       "      <td>N</td>\n",
       "      <td>7C8102</td>\n",
       "      <td>Y</td>\n",
       "      <td>2015-03-29T00:00:00+09:00</td>\n",
       "      <td>N</td>\n",
       "      <td>Y</td>\n",
       "      <td>0510</td>\n",
       "      <td>Y</td>\n",
       "      <td>N</td>\n",
       "    </tr>\n",
       "  </tbody>\n",
       "</table>\n",
       "</div>"
      ],
      "text/plain": [
       "  airlineKorean airport    city        internationalEddate internationalFri  \\\n",
       "0         이스타항공      청주   상해/푸동  2015-10-24T00:00:00+09:00                N   \n",
       "1          제주항공      대구  북경/베이징  2015-10-24T00:00:00+09:00                N   \n",
       "\n",
       "  internationalIoType internationalMon internationalNum internationalSat  \\\n",
       "0                  IN                N            ZE822                N   \n",
       "1                  IN                N           7C8102                Y   \n",
       "\n",
       "         internationalStdate internationalSun internationalThu  \\\n",
       "0  2015-07-21T00:00:00+09:00                Y                Y   \n",
       "1  2015-03-29T00:00:00+09:00                N                Y   \n",
       "\n",
       "  internationalTime internationalTue internationalWed  \n",
       "0              0230                N                N  \n",
       "1              0510                Y                N  "
      ]
     },
     "execution_count": 25,
     "metadata": {},
     "output_type": "execute_result"
    }
   ],
   "source": [
    "df.head(2)"
   ]
  },
  {
   "cell_type": "code",
   "execution_count": 26,
   "metadata": {},
   "outputs": [],
   "source": [
    "df = df.where(~(df == \"null\"), None)"
   ]
  },
  {
   "cell_type": "code",
   "execution_count": 27,
   "metadata": {},
   "outputs": [
    {
     "data": {
      "text/html": [
       "<div>\n",
       "<style scoped>\n",
       "    .dataframe tbody tr th:only-of-type {\n",
       "        vertical-align: middle;\n",
       "    }\n",
       "\n",
       "    .dataframe tbody tr th {\n",
       "        vertical-align: top;\n",
       "    }\n",
       "\n",
       "    .dataframe thead th {\n",
       "        text-align: right;\n",
       "    }\n",
       "</style>\n",
       "<table border=\"1\" class=\"dataframe\">\n",
       "  <thead>\n",
       "    <tr style=\"text-align: right;\">\n",
       "      <th></th>\n",
       "      <th>airlineKorean</th>\n",
       "      <th>airport</th>\n",
       "      <th>city</th>\n",
       "      <th>internationalEddate</th>\n",
       "      <th>internationalFri</th>\n",
       "      <th>internationalIoType</th>\n",
       "      <th>internationalMon</th>\n",
       "      <th>internationalNum</th>\n",
       "      <th>internationalSat</th>\n",
       "      <th>internationalStdate</th>\n",
       "      <th>internationalSun</th>\n",
       "      <th>internationalThu</th>\n",
       "      <th>internationalTime</th>\n",
       "      <th>internationalTue</th>\n",
       "      <th>internationalWed</th>\n",
       "    </tr>\n",
       "  </thead>\n",
       "  <tbody>\n",
       "    <tr>\n",
       "      <th>0</th>\n",
       "      <td>이스타항공</td>\n",
       "      <td>청주</td>\n",
       "      <td>상해/푸동</td>\n",
       "      <td>2015-10-24T00:00:00+09:00</td>\n",
       "      <td>N</td>\n",
       "      <td>IN</td>\n",
       "      <td>N</td>\n",
       "      <td>ZE822</td>\n",
       "      <td>N</td>\n",
       "      <td>2015-07-21T00:00:00+09:00</td>\n",
       "      <td>Y</td>\n",
       "      <td>Y</td>\n",
       "      <td>0230</td>\n",
       "      <td>N</td>\n",
       "      <td>N</td>\n",
       "    </tr>\n",
       "    <tr>\n",
       "      <th>1</th>\n",
       "      <td>제주항공</td>\n",
       "      <td>대구</td>\n",
       "      <td>북경/베이징</td>\n",
       "      <td>2015-10-24T00:00:00+09:00</td>\n",
       "      <td>N</td>\n",
       "      <td>IN</td>\n",
       "      <td>N</td>\n",
       "      <td>7C8102</td>\n",
       "      <td>Y</td>\n",
       "      <td>2015-03-29T00:00:00+09:00</td>\n",
       "      <td>N</td>\n",
       "      <td>Y</td>\n",
       "      <td>0510</td>\n",
       "      <td>Y</td>\n",
       "      <td>N</td>\n",
       "    </tr>\n",
       "  </tbody>\n",
       "</table>\n",
       "</div>"
      ],
      "text/plain": [
       "  airlineKorean airport    city        internationalEddate internationalFri  \\\n",
       "0         이스타항공      청주   상해/푸동  2015-10-24T00:00:00+09:00                N   \n",
       "1          제주항공      대구  북경/베이징  2015-10-24T00:00:00+09:00                N   \n",
       "\n",
       "  internationalIoType internationalMon internationalNum internationalSat  \\\n",
       "0                  IN                N            ZE822                N   \n",
       "1                  IN                N           7C8102                Y   \n",
       "\n",
       "         internationalStdate internationalSun internationalThu  \\\n",
       "0  2015-07-21T00:00:00+09:00                Y                Y   \n",
       "1  2015-03-29T00:00:00+09:00                N                Y   \n",
       "\n",
       "  internationalTime internationalTue internationalWed  \n",
       "0              0230                N                N  \n",
       "1              0510                Y                N  "
      ]
     },
     "execution_count": 27,
     "metadata": {},
     "output_type": "execute_result"
    }
   ],
   "source": [
    "df.head(2)"
   ]
  },
  {
   "cell_type": "code",
   "execution_count": 28,
   "metadata": {},
   "outputs": [],
   "source": [
    "df = df.where(pd.notnull(df), None)"
   ]
  },
  {
   "cell_type": "code",
   "execution_count": 29,
   "metadata": {},
   "outputs": [],
   "source": [
    "from datetime import date, datetime"
   ]
  },
  {
   "cell_type": "code",
   "execution_count": 30,
   "metadata": {},
   "outputs": [
    {
     "data": {
      "text/plain": [
       "datetime.datetime(2015, 7, 21, 0, 0)"
      ]
     },
     "execution_count": 30,
     "metadata": {},
     "output_type": "execute_result"
    }
   ],
   "source": [
    "datetime.strptime('2015-07-21T00:00:00', '%Y-%m-%dT%H:%M:%S')"
   ]
  },
  {
   "cell_type": "code",
   "execution_count": 31,
   "metadata": {},
   "outputs": [
    {
     "data": {
      "text/plain": [
       "0      2015-07-21T00:00:00+09:00\n",
       "1      2015-03-29T00:00:00+09:00\n",
       "2      2015-08-16T00:00:00+09:00\n",
       "3      2015-10-02T00:00:00+09:00\n",
       "4      2015-09-25T00:00:00+09:00\n",
       "                 ...            \n",
       "449    2015-08-16T00:00:00+09:00\n",
       "450    2015-03-29T00:00:00+09:00\n",
       "451    2015-10-03T00:00:00+09:00\n",
       "452    2015-08-16T00:00:00+09:00\n",
       "453    2015-08-16T00:00:00+09:00\n",
       "Name: internationalStdate, Length: 454, dtype: object"
      ]
     },
     "execution_count": 31,
     "metadata": {},
     "output_type": "execute_result"
    }
   ],
   "source": [
    "df['internationalStdate']"
   ]
  },
  {
   "cell_type": "code",
   "execution_count": 32,
   "metadata": {},
   "outputs": [],
   "source": [
    "df['internationalStdate'] = df['internationalStdate'].apply(lambda x: x[:10])"
   ]
  },
  {
   "cell_type": "code",
   "execution_count": 33,
   "metadata": {},
   "outputs": [],
   "source": [
    "df['internationalEddate'] = df['internationalEddate'].apply(lambda x: x[:10])"
   ]
  },
  {
   "cell_type": "code",
   "execution_count": 34,
   "metadata": {},
   "outputs": [
    {
     "data": {
      "text/html": [
       "<div>\n",
       "<style scoped>\n",
       "    .dataframe tbody tr th:only-of-type {\n",
       "        vertical-align: middle;\n",
       "    }\n",
       "\n",
       "    .dataframe tbody tr th {\n",
       "        vertical-align: top;\n",
       "    }\n",
       "\n",
       "    .dataframe thead th {\n",
       "        text-align: right;\n",
       "    }\n",
       "</style>\n",
       "<table border=\"1\" class=\"dataframe\">\n",
       "  <thead>\n",
       "    <tr style=\"text-align: right;\">\n",
       "      <th></th>\n",
       "      <th>airlineKorean</th>\n",
       "      <th>airport</th>\n",
       "      <th>city</th>\n",
       "      <th>internationalEddate</th>\n",
       "      <th>internationalFri</th>\n",
       "      <th>internationalIoType</th>\n",
       "      <th>internationalMon</th>\n",
       "      <th>internationalNum</th>\n",
       "      <th>internationalSat</th>\n",
       "      <th>internationalStdate</th>\n",
       "      <th>internationalSun</th>\n",
       "      <th>internationalThu</th>\n",
       "      <th>internationalTime</th>\n",
       "      <th>internationalTue</th>\n",
       "      <th>internationalWed</th>\n",
       "    </tr>\n",
       "  </thead>\n",
       "  <tbody>\n",
       "    <tr>\n",
       "      <th>0</th>\n",
       "      <td>이스타항공</td>\n",
       "      <td>청주</td>\n",
       "      <td>상해/푸동</td>\n",
       "      <td>2015-10-24</td>\n",
       "      <td>N</td>\n",
       "      <td>IN</td>\n",
       "      <td>N</td>\n",
       "      <td>ZE822</td>\n",
       "      <td>N</td>\n",
       "      <td>2015-07-21</td>\n",
       "      <td>Y</td>\n",
       "      <td>Y</td>\n",
       "      <td>0230</td>\n",
       "      <td>N</td>\n",
       "      <td>N</td>\n",
       "    </tr>\n",
       "    <tr>\n",
       "      <th>1</th>\n",
       "      <td>제주항공</td>\n",
       "      <td>대구</td>\n",
       "      <td>북경/베이징</td>\n",
       "      <td>2015-10-24</td>\n",
       "      <td>N</td>\n",
       "      <td>IN</td>\n",
       "      <td>N</td>\n",
       "      <td>7C8102</td>\n",
       "      <td>Y</td>\n",
       "      <td>2015-03-29</td>\n",
       "      <td>N</td>\n",
       "      <td>Y</td>\n",
       "      <td>0510</td>\n",
       "      <td>Y</td>\n",
       "      <td>N</td>\n",
       "    </tr>\n",
       "    <tr>\n",
       "      <th>2</th>\n",
       "      <td>아시아나</td>\n",
       "      <td>청주</td>\n",
       "      <td>북경/베이징</td>\n",
       "      <td>2015-10-24</td>\n",
       "      <td>Y</td>\n",
       "      <td>IN</td>\n",
       "      <td>N</td>\n",
       "      <td>OZ3745</td>\n",
       "      <td>N</td>\n",
       "      <td>2015-08-16</td>\n",
       "      <td>Y</td>\n",
       "      <td>N</td>\n",
       "      <td>0525</td>\n",
       "      <td>N</td>\n",
       "      <td>Y</td>\n",
       "    </tr>\n",
       "  </tbody>\n",
       "</table>\n",
       "</div>"
      ],
      "text/plain": [
       "  airlineKorean airport    city internationalEddate internationalFri  \\\n",
       "0         이스타항공      청주   상해/푸동          2015-10-24                N   \n",
       "1          제주항공      대구  북경/베이징          2015-10-24                N   \n",
       "2          아시아나      청주  북경/베이징          2015-10-24                Y   \n",
       "\n",
       "  internationalIoType internationalMon internationalNum internationalSat  \\\n",
       "0                  IN                N            ZE822                N   \n",
       "1                  IN                N           7C8102                Y   \n",
       "2                  IN                N           OZ3745                N   \n",
       "\n",
       "  internationalStdate internationalSun internationalThu internationalTime  \\\n",
       "0          2015-07-21                Y                Y              0230   \n",
       "1          2015-03-29                N                Y              0510   \n",
       "2          2015-08-16                Y                N              0525   \n",
       "\n",
       "  internationalTue internationalWed  \n",
       "0                N                N  \n",
       "1                Y                N  \n",
       "2                N                Y  "
      ]
     },
     "execution_count": 34,
     "metadata": {},
     "output_type": "execute_result"
    }
   ],
   "source": [
    "df.head(3)"
   ]
  },
  {
   "cell_type": "code",
   "execution_count": 35,
   "metadata": {},
   "outputs": [
    {
     "data": {
      "text/plain": [
       "Index(['airlineKorean', 'airport', 'city', 'internationalEddate',\n",
       "       'internationalFri', 'internationalIoType', 'internationalMon',\n",
       "       'internationalNum', 'internationalSat', 'internationalStdate',\n",
       "       'internationalSun', 'internationalThu', 'internationalTime',\n",
       "       'internationalTue', 'internationalWed'],\n",
       "      dtype='object')"
      ]
     },
     "execution_count": 35,
     "metadata": {},
     "output_type": "execute_result"
    }
   ],
   "source": [
    "df.keys()"
   ]
  },
  {
   "cell_type": "markdown",
   "metadata": {},
   "source": [
    "# 2019, 2020년 데이터 모으기 "
   ]
  },
  {
   "cell_type": "code",
   "execution_count": 82,
   "metadata": {},
   "outputs": [
    {
     "data": {
      "text/plain": [
       "{'serviceKey': ['WRvGBkn9UEtw+Asg0tYo210Etxvb1QEcAX+wfWvOxVGYJkh1CNZ/Y4QFa0r7j4bhT4NjPu7z1i1ck8ZgsKMt2Q=='],\n",
       " 'schDate': ['20151005'],\n",
       " 'numOfRows': ['5000']}"
      ]
     },
     "execution_count": 82,
     "metadata": {},
     "output_type": "execute_result"
    }
   ],
   "source": [
    "query_dict"
   ]
  },
  {
   "cell_type": "code",
   "execution_count": null,
   "metadata": {},
   "outputs": [],
   "source": [
    "total = []"
   ]
  },
  {
   "cell_type": "code",
   "execution_count": null,
   "metadata": {},
   "outputs": [],
   "source": [
    "for x in pd.date_range('2019-01-01', '2020-12-10'):\n",
    "    print(x)\n",
    "    query_dict['schDate']  = x.strftime(\"%Y-%m-%d\").replace(\"-\", \"\")\n",
    "    api_url = parse.ParseResult(scheme  = result.scheme, netloc= result.hostname, path=result.path, \n",
    "                 params = result.params, query=parse.urlencode(query_dict, doseq=True), fragment=result.fragment)\n",
    "    url = parse.urlunparse(api_url)\n",
    "    r = requests.get(url)\n",
    "    root = ET.fromstring(r.text)\n",
    "\n",
    "    items = root.iter(tag='item')\n",
    "    for element in items:\n",
    "        #print(element.find(\"accDefRate\").text)\n",
    "        covid_dict = {}\n",
    "        for x in element:\n",
    "            covid_dict[x.tag] = x.text\n",
    "        total.append(covid_dict)"
   ]
  },
  {
   "cell_type": "code",
   "execution_count": 96,
   "metadata": {},
   "outputs": [],
   "source": [
    "df = pd.DataFrame(total)"
   ]
  },
  {
   "cell_type": "code",
   "execution_count": 97,
   "metadata": {},
   "outputs": [
    {
     "data": {
      "text/plain": [
       "(391075, 15)"
      ]
     },
     "execution_count": 97,
     "metadata": {},
     "output_type": "execute_result"
    }
   ],
   "source": [
    "df.shape"
   ]
  },
  {
   "cell_type": "code",
   "execution_count": 102,
   "metadata": {},
   "outputs": [],
   "source": [
    "df2 = df.drop_duplicates().copy()"
   ]
  },
  {
   "cell_type": "code",
   "execution_count": 111,
   "metadata": {},
   "outputs": [],
   "source": [
    "df2.to_csv(\"airport_schedule.csv\", index=False, encoding='utf-8-sig')"
   ]
  },
  {
   "cell_type": "code",
   "execution_count": 103,
   "metadata": {},
   "outputs": [
    {
     "data": {
      "text/plain": [
       "(4259, 15)"
      ]
     },
     "execution_count": 103,
     "metadata": {},
     "output_type": "execute_result"
    }
   ],
   "source": [
    "df2.shape"
   ]
  },
  {
   "cell_type": "code",
   "execution_count": 104,
   "metadata": {},
   "outputs": [],
   "source": [
    "df2['internationalStdate'] = df2['internationalStdate'].apply(lambda x: x[:10])\n",
    "df2['internationalEddate'] = df2['internationalEddate'].apply(lambda x: x[:10])"
   ]
  },
  {
   "cell_type": "code",
   "execution_count": 109,
   "metadata": {},
   "outputs": [],
   "source": [
    "df2['year'] =df2['internationalStdate'].apply(lambda x : x[:4])"
   ]
  },
  {
   "cell_type": "code",
   "execution_count": 110,
   "metadata": {},
   "outputs": [
    {
     "data": {
      "text/plain": [
       "2019    2869\n",
       "2018     871\n",
       "2020     519\n",
       "Name: year, dtype: int64"
      ]
     },
     "execution_count": 110,
     "metadata": {},
     "output_type": "execute_result"
    }
   ],
   "source": [
    "df2['year'].value_counts()"
   ]
  },
  {
   "cell_type": "markdown",
   "metadata": {},
   "source": [
    "## Database 연결 및 Create, Insert "
   ]
  },
  {
   "cell_type": "markdown",
   "metadata": {},
   "source": [
    "GRANT ALL PRIVILEGES ON *.* TO 'root'@'%' IDENTIFIED BY '12345'"
   ]
  },
  {
   "cell_type": "code",
   "execution_count": 112,
   "metadata": {},
   "outputs": [],
   "source": [
    "try:\n",
    "    con = pymysql.connect(host='192.168.56.21', user='root', port=3306, password='12345',   db='sqoop', charset='utf8')\n",
    "    cur = con.cursor()\n",
    "except Exception as e:\n",
    "    print (e)   "
   ]
  },
  {
   "cell_type": "code",
   "execution_count": 113,
   "metadata": {},
   "outputs": [
    {
     "name": "stdout",
     "output_type": "stream",
     "text": [
      "`airlineKorean`\n",
      "`airport`\n",
      "`city`\n",
      "`internationalEddate`\n",
      "`internationalFri`\n",
      "`internationalIoType`\n",
      "`internationalMon`\n",
      "`internationalNum`\n",
      "`internationalSat`\n",
      "`internationalStdate`\n",
      "`internationalSun`\n",
      "`internationalThu`\n",
      "`internationalTime`\n",
      "`internationalTue`\n",
      "`internationalWed`\n"
     ]
    }
   ],
   "source": [
    "for name in df.keys():\n",
    "    print(\"`{}`\".format(name))"
   ]
  },
  {
   "cell_type": "code",
   "execution_count": 124,
   "metadata": {},
   "outputs": [],
   "source": [
    "create_table = \"\"\"\n",
    "    CREATE TABLE airport_info (\n",
    "       `airlineKorean`        VARCHAR(20),\n",
    "        `airport`             VARCHAR(20), \n",
    "        `city`                VARCHAR(20),\n",
    "        `internationalEddate` DATETIME,\n",
    "        `internationalFri`    VARCHAR(1),\n",
    "        `internationalIoType` VARCHAR(3),\n",
    "        `internationalMon`    VARCHAR(1),\n",
    "        `internationalNum`    VARCHAR(10),  \n",
    "        `internationalSat`    VARCHAR(1),\n",
    "        `internationalStdate` DATETIME,\n",
    "        `internationalSun`    VARCHAR(1),\n",
    "        `internationalThu`    VARCHAR(1),\n",
    "        `internationalTime`   TIME,\n",
    "        `internationalTue`    VARCHAR(1),\n",
    "        `internationalWed`    VARCHAR(1),\n",
    "        `year`                VARCHAR(4)\n",
    "    ) COLLATE='utf8mb4_general_ci'\n",
    "\"\"\""
   ]
  },
  {
   "cell_type": "code",
   "execution_count": 125,
   "metadata": {},
   "outputs": [
    {
     "name": "stdout",
     "output_type": "stream",
     "text": [
      "\n",
      "    CREATE TABLE airport_info (\n",
      "       `airlineKorean`        VARCHAR(20),\n",
      "        `airport`             VARCHAR(20), \n",
      "        `city`                VARCHAR(20),\n",
      "        `internationalEddate` DATETIME,\n",
      "        `internationalFri`    VARCHAR(1),\n",
      "        `internationalIoType` VARCHAR(3),\n",
      "        `internationalMon`    VARCHAR(1),\n",
      "        `internationalNum`    VARCHAR(10),  \n",
      "        `internationalSat`    VARCHAR(1),\n",
      "        `internationalStdate` DATETIME,\n",
      "        `internationalSun`    VARCHAR(1),\n",
      "        `internationalThu`    VARCHAR(1),\n",
      "        `internationalTime`   TIME,\n",
      "        `internationalTue`    VARCHAR(1),\n",
      "        `internationalWed`    VARCHAR(1),\n",
      "        `year`                VARCHAR(4)\n",
      "    ) COLLATE='utf8mb4_general_ci'\n",
      "\n"
     ]
    }
   ],
   "source": [
    "print(create_table)"
   ]
  },
  {
   "cell_type": "code",
   "execution_count": 126,
   "metadata": {},
   "outputs": [
    {
     "data": {
      "text/plain": [
       "0"
      ]
     },
     "execution_count": 126,
     "metadata": {},
     "output_type": "execute_result"
    }
   ],
   "source": [
    "cur.execute(create_table)"
   ]
  },
  {
   "cell_type": "code",
   "execution_count": 127,
   "metadata": {},
   "outputs": [],
   "source": [
    "con.commit()"
   ]
  },
  {
   "cell_type": "code",
   "execution_count": 128,
   "metadata": {},
   "outputs": [
    {
     "name": "stdout",
     "output_type": "stream",
     "text": [
      "airlineKorean, airport, city, internationalEddate, internationalFri, internationalIoType, internationalMon, internationalNum, internationalSat, internationalStdate, internationalSun, internationalThu, internationalTime, internationalTue, internationalWed, "
     ]
    }
   ],
   "source": [
    "for name in df.keys():\n",
    "    print(\"{}\".format(name), end = \", \")"
   ]
  },
  {
   "cell_type": "code",
   "execution_count": 135,
   "metadata": {},
   "outputs": [],
   "source": [
    "sql = \"\"\"INSERT INTO airport_info (airlineKorean, airport, city, internationalEddate, internationalFri, internationalIoType, internationalMon, \n",
    "                              internationalNum, internationalSat, internationalStdate,\n",
    "                              internationalSun, internationalThu, internationalTime, internationalTue, internationalWed, year) VALUES\n",
    "         (%s, %s, %s, %s, %s, %s, %s, %s, %s, %s, %s, %s, %s, %s, %s, %s)\n",
    "\"\"\""
   ]
  },
  {
   "cell_type": "code",
   "execution_count": 136,
   "metadata": {},
   "outputs": [],
   "source": [
    "for row in df2.iterrows():\n",
    "    try:\n",
    "        cur.execute(sql, row[1].tolist())\n",
    "    except Exception as e:\n",
    "        print(e)\n",
    "        break\n",
    "        \n",
    "con.commit()"
   ]
  },
  {
   "cell_type": "code",
   "execution_count": null,
   "metadata": {},
   "outputs": [],
   "source": []
  }
 ],
 "metadata": {
  "kernelspec": {
   "display_name": "Python 3",
   "language": "python",
   "name": "python3"
  },
  "language_info": {
   "codemirror_mode": {
    "name": "ipython",
    "version": 3
   },
   "file_extension": ".py",
   "mimetype": "text/x-python",
   "name": "python",
   "nbconvert_exporter": "python",
   "pygments_lexer": "ipython3",
   "version": "3.8.8"
  }
 },
 "nbformat": 4,
 "nbformat_minor": 4
}
