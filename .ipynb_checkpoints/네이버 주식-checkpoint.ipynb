{
 "cells": [
  {
   "cell_type": "code",
   "execution_count": 1,
   "id": "e62d905b",
   "metadata": {},
   "outputs": [],
   "source": [
    "import sqlalchemy"
   ]
  },
  {
   "cell_type": "code",
   "execution_count": null,
   "id": "ddf93f42",
   "metadata": {},
   "outputs": [],
   "source": [
    "sqlalchemy.create_engine('mysql+mysqldb://root:' + '1234' + '@')"
   ]
  },
  {
   "cell_type": "code",
   "execution_count": 5,
   "id": "8d327cdd",
   "metadata": {},
   "outputs": [
    {
     "name": "stdout",
     "output_type": "stream",
     "text": [
      "Collecting mysqlclient\n",
      "  Downloading mysqlclient-2.0.3-cp38-cp38-win_amd64.whl (179 kB)\n",
      "Installing collected packages: mysqlclient\n",
      "Successfully installed mysqlclient-2.0.3\n",
      "Note: you may need to restart the kernel to use updated packages.\n"
     ]
    }
   ],
   "source": [
    "pip install mysqlclient"
   ]
  },
  {
   "cell_type": "code",
   "execution_count": 3,
   "id": "e0f5584f",
   "metadata": {},
   "outputs": [],
   "source": [
    "import sqlalchemy\n",
    "import requests\n",
    "import pandas as pd"
   ]
  },
  {
   "cell_type": "code",
   "execution_count": 32,
   "id": "3a591b10",
   "metadata": {},
   "outputs": [],
   "source": [
    "engine = sqlalchemy.create_engine(\"mysql+mysqldb://root:\" + \"1234\" + \"@52.78.170.250/encore\", encoding='utf-8')"
   ]
  },
  {
   "cell_type": "code",
   "execution_count": 33,
   "id": "e934d763",
   "metadata": {},
   "outputs": [],
   "source": [
    "head = {\"User-Agent\": \"Mozilla/5.0 (Windows NT 10.0; Win64; x64) AppleWebKit/537.36 (KHTML, like Gecko) Chrome/94.0.4606.71 Safari/537.36\"}"
   ]
  },
  {
   "cell_type": "code",
   "execution_count": 34,
   "id": "5d1e5734",
   "metadata": {},
   "outputs": [],
   "source": [
    "url = \"https://finance.naver.com/item/sise_day.naver?code=018700\""
   ]
  },
  {
   "cell_type": "code",
   "execution_count": 35,
   "id": "e31893b0",
   "metadata": {},
   "outputs": [],
   "source": [
    "r = requests.get(url, headers=head)"
   ]
  },
  {
   "cell_type": "code",
   "execution_count": 36,
   "id": "1fc48fc5",
   "metadata": {},
   "outputs": [],
   "source": [
    "stock = pd.read_html(r.text)[0].dropna()"
   ]
  },
  {
   "cell_type": "code",
   "execution_count": 37,
   "id": "fd2d8737",
   "metadata": {},
   "outputs": [
    {
     "data": {
      "text/html": [
       "<div>\n",
       "<style scoped>\n",
       "    .dataframe tbody tr th:only-of-type {\n",
       "        vertical-align: middle;\n",
       "    }\n",
       "\n",
       "    .dataframe tbody tr th {\n",
       "        vertical-align: top;\n",
       "    }\n",
       "\n",
       "    .dataframe thead th {\n",
       "        text-align: right;\n",
       "    }\n",
       "</style>\n",
       "<table border=\"1\" class=\"dataframe\">\n",
       "  <thead>\n",
       "    <tr style=\"text-align: right;\">\n",
       "      <th></th>\n",
       "      <th>날짜</th>\n",
       "      <th>종가</th>\n",
       "      <th>전일비</th>\n",
       "      <th>시가</th>\n",
       "      <th>고가</th>\n",
       "      <th>저가</th>\n",
       "      <th>거래량</th>\n",
       "    </tr>\n",
       "  </thead>\n",
       "  <tbody>\n",
       "    <tr>\n",
       "      <th>1</th>\n",
       "      <td>2021.10.08</td>\n",
       "      <td>4435.0</td>\n",
       "      <td>725.0</td>\n",
       "      <td>3925.0</td>\n",
       "      <td>4775.0</td>\n",
       "      <td>3920.0</td>\n",
       "      <td>25777446.0</td>\n",
       "    </tr>\n",
       "    <tr>\n",
       "      <th>2</th>\n",
       "      <td>2021.10.07</td>\n",
       "      <td>3710.0</td>\n",
       "      <td>225.0</td>\n",
       "      <td>3935.0</td>\n",
       "      <td>3990.0</td>\n",
       "      <td>3545.0</td>\n",
       "      <td>7644420.0</td>\n",
       "    </tr>\n",
       "    <tr>\n",
       "      <th>3</th>\n",
       "      <td>2021.10.06</td>\n",
       "      <td>3935.0</td>\n",
       "      <td>5.0</td>\n",
       "      <td>3930.0</td>\n",
       "      <td>4050.0</td>\n",
       "      <td>3800.0</td>\n",
       "      <td>10873744.0</td>\n",
       "    </tr>\n",
       "    <tr>\n",
       "      <th>4</th>\n",
       "      <td>2021.10.05</td>\n",
       "      <td>3930.0</td>\n",
       "      <td>5.0</td>\n",
       "      <td>4180.0</td>\n",
       "      <td>4350.0</td>\n",
       "      <td>3660.0</td>\n",
       "      <td>25598717.0</td>\n",
       "    </tr>\n",
       "    <tr>\n",
       "      <th>5</th>\n",
       "      <td>2021.10.01</td>\n",
       "      <td>3925.0</td>\n",
       "      <td>905.0</td>\n",
       "      <td>3130.0</td>\n",
       "      <td>3925.0</td>\n",
       "      <td>3080.0</td>\n",
       "      <td>41319815.0</td>\n",
       "    </tr>\n",
       "    <tr>\n",
       "      <th>9</th>\n",
       "      <td>2021.09.30</td>\n",
       "      <td>3020.0</td>\n",
       "      <td>45.0</td>\n",
       "      <td>3035.0</td>\n",
       "      <td>3130.0</td>\n",
       "      <td>2965.0</td>\n",
       "      <td>1159050.0</td>\n",
       "    </tr>\n",
       "    <tr>\n",
       "      <th>10</th>\n",
       "      <td>2021.09.29</td>\n",
       "      <td>2975.0</td>\n",
       "      <td>20.0</td>\n",
       "      <td>2900.0</td>\n",
       "      <td>3035.0</td>\n",
       "      <td>2845.0</td>\n",
       "      <td>787362.0</td>\n",
       "    </tr>\n",
       "    <tr>\n",
       "      <th>11</th>\n",
       "      <td>2021.09.28</td>\n",
       "      <td>2995.0</td>\n",
       "      <td>40.0</td>\n",
       "      <td>2915.0</td>\n",
       "      <td>3150.0</td>\n",
       "      <td>2910.0</td>\n",
       "      <td>2982253.0</td>\n",
       "    </tr>\n",
       "    <tr>\n",
       "      <th>12</th>\n",
       "      <td>2021.09.27</td>\n",
       "      <td>2955.0</td>\n",
       "      <td>75.0</td>\n",
       "      <td>2925.0</td>\n",
       "      <td>3080.0</td>\n",
       "      <td>2860.0</td>\n",
       "      <td>2126291.0</td>\n",
       "    </tr>\n",
       "    <tr>\n",
       "      <th>13</th>\n",
       "      <td>2021.09.24</td>\n",
       "      <td>2880.0</td>\n",
       "      <td>40.0</td>\n",
       "      <td>2925.0</td>\n",
       "      <td>3210.0</td>\n",
       "      <td>2865.0</td>\n",
       "      <td>8723541.0</td>\n",
       "    </tr>\n",
       "  </tbody>\n",
       "</table>\n",
       "</div>"
      ],
      "text/plain": [
       "            날짜      종가    전일비      시가      고가      저가         거래량\n",
       "1   2021.10.08  4435.0  725.0  3925.0  4775.0  3920.0  25777446.0\n",
       "2   2021.10.07  3710.0  225.0  3935.0  3990.0  3545.0   7644420.0\n",
       "3   2021.10.06  3935.0    5.0  3930.0  4050.0  3800.0  10873744.0\n",
       "4   2021.10.05  3930.0    5.0  4180.0  4350.0  3660.0  25598717.0\n",
       "5   2021.10.01  3925.0  905.0  3130.0  3925.0  3080.0  41319815.0\n",
       "9   2021.09.30  3020.0   45.0  3035.0  3130.0  2965.0   1159050.0\n",
       "10  2021.09.29  2975.0   20.0  2900.0  3035.0  2845.0    787362.0\n",
       "11  2021.09.28  2995.0   40.0  2915.0  3150.0  2910.0   2982253.0\n",
       "12  2021.09.27  2955.0   75.0  2925.0  3080.0  2860.0   2126291.0\n",
       "13  2021.09.24  2880.0   40.0  2925.0  3210.0  2865.0   8723541.0"
      ]
     },
     "execution_count": 37,
     "metadata": {},
     "output_type": "execute_result"
    }
   ],
   "source": [
    "stock"
   ]
  },
  {
   "cell_type": "code",
   "execution_count": 39,
   "id": "79d6bb24",
   "metadata": {},
   "outputs": [],
   "source": [
    "stock.columns = ['date', 'close', 'before', 'open', 'high', 'low', 'trade']"
   ]
  },
  {
   "cell_type": "code",
   "execution_count": 40,
   "id": "6b934b8c",
   "metadata": {},
   "outputs": [],
   "source": [
    "stock.to_sql(name='stock', con=engine, if_exists='append', index=False)"
   ]
  },
  {
   "cell_type": "code",
   "execution_count": 42,
   "id": "08e9d0f2",
   "metadata": {},
   "outputs": [],
   "source": [
    "from datetime import date, datetime"
   ]
  },
  {
   "cell_type": "code",
   "execution_count": 47,
   "id": "58d172ad",
   "metadata": {},
   "outputs": [],
   "source": [
    "stock['date'] = stock.date.apply(lambda x : datetime.strptime(x, '%Y.%m.%d'))"
   ]
  },
  {
   "cell_type": "code",
   "execution_count": 53,
   "id": "4f36e063",
   "metadata": {},
   "outputs": [],
   "source": [
    "days = dict(zip(range(0, 7) ,[i + '요일' for i in '월화수목금토일']))"
   ]
  },
  {
   "cell_type": "code",
   "execution_count": 54,
   "id": "2236b484",
   "metadata": {},
   "outputs": [
    {
     "data": {
      "text/plain": [
       "{0: '월요일', 1: '화요일', 2: '수요일', 3: '목요일', 4: '금요일', 5: '토요일', 6: '일요일'}"
      ]
     },
     "execution_count": 54,
     "metadata": {},
     "output_type": "execute_result"
    }
   ],
   "source": [
    "days"
   ]
  },
  {
   "cell_type": "code",
   "execution_count": 56,
   "id": "11807546",
   "metadata": {},
   "outputs": [],
   "source": [
    "stock['요일'] = stock['date'].apply(lambda x : days[x.weekday()])"
   ]
  },
  {
   "cell_type": "code",
   "execution_count": null,
   "id": "9dbe4c74",
   "metadata": {},
   "outputs": [],
   "source": []
  }
 ],
 "metadata": {
  "kernelspec": {
   "display_name": "Python 3",
   "language": "python",
   "name": "python3"
  },
  "language_info": {
   "codemirror_mode": {
    "name": "ipython",
    "version": 3
   },
   "file_extension": ".py",
   "mimetype": "text/x-python",
   "name": "python",
   "nbconvert_exporter": "python",
   "pygments_lexer": "ipython3",
   "version": "3.8.8"
  }
 },
 "nbformat": 4,
 "nbformat_minor": 5
}
