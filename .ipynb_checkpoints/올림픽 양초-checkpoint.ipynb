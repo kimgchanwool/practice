{
 "cells": [
  {
   "cell_type": "markdown",
   "id": "3008ea29",
   "metadata": {},
   "source": [
    "# 올림픽 양초"
   ]
  },
  {
   "cell_type": "code",
   "execution_count": 1,
   "id": "ce347da2",
   "metadata": {},
   "outputs": [],
   "source": [
    "def solution(candles):\n",
    "    day = 0\n",
    "    i = 0\n",
    "    while True:\n",
    "        if day >= len(candles):\n",
    "            return day\n",
    "        day += 1\n",
    "        candles = sorted(candles, reverse=True)\n",
    "        candles[:day] = list(map(lambda x : x - 1, candles[:day]))\n",
    "        print(day, candles)\n",
    "        candles = list(filter(lambda x : x != 0, candles))\n",
    "    return day"
   ]
  },
  {
   "cell_type": "code",
   "execution_count": null,
   "id": "ba0d9687",
   "metadata": {},
   "outputs": [],
   "source": [
    "solution([5, 2, 2, 1])"
   ]
  },
  {
   "cell_type": "code",
   "execution_count": null,
   "id": "8bd358a8",
   "metadata": {},
   "outputs": [],
   "source": [
    "i = [5, 2, 2, 1]\n",
    "sorted(i, reverse=True)"
   ]
  },
  {
   "cell_type": "code",
   "execution_count": null,
   "id": "dc19039f",
   "metadata": {},
   "outputs": [],
   "source": [
    "i[:0]"
   ]
  },
  {
   "cell_type": "code",
   "execution_count": null,
   "id": "02e14e54",
   "metadata": {},
   "outputs": [],
   "source": [
    "i[:2]"
   ]
  },
  {
   "cell_type": "code",
   "execution_count": 2,
   "id": "aaacf230",
   "metadata": {},
   "outputs": [
    {
     "data": {
      "text/plain": [
       "['1', '?2', '4??']"
      ]
     },
     "execution_count": 2,
     "metadata": {},
     "output_type": "execute_result"
    }
   ],
   "source": [
    "tri = [\"4??\",\"?2\",\"1\"]\n",
    "\n",
    "tri.sort(key=lambda x : len(x))\n",
    "\n",
    "tri"
   ]
  },
  {
   "cell_type": "code",
   "execution_count": null,
   "id": "bf73b83f",
   "metadata": {},
   "outputs": [],
   "source": [
    "if len(tri) == 0:\n",
    "    print(tri[0])\n",
    "    #return tri[0]\n",
    "else:\n",
    "    for i in range(len(tri)):\n",
    "        num = 0\n",
    "        if i == len(tri) - 1: #다음이 없으면 끝내기 (최상위 줄)\n",
    "            break\n",
    "        for j in range(len(tri[i+1])): #다음것 받아오기\n",
    "            for k in range(10):\n",
    "                if tri[i+1][num] == '?':\n",
    "                    if tri[i][num] == (k + tri[i+1][num + 1]) % 10:\n",
    "                        print(list(tri[i+1])[num]) \n",
    "                if tri[i+1][num + 1] == '?':\n",
    "                    if list(tri[i])[num] == (list(tri[i+1])[num] + k) % 10:\n",
    "                        print(list(tri[i+1])[num])\n",
    "    #return tri"
   ]
  },
  {
   "cell_type": "code",
   "execution_count": null,
   "id": "cabb77ea",
   "metadata": {},
   "outputs": [],
   "source": [
    "tri[j+1] = 'i' + tri[j+1][:-2]"
   ]
  },
  {
   "cell_type": "code",
   "execution_count": null,
   "id": "ae5a893c",
   "metadata": {},
   "outputs": [],
   "source": [
    "tri[j+1]"
   ]
  },
  {
   "cell_type": "code",
   "execution_count": null,
   "id": "54b3e770",
   "metadata": {},
   "outputs": [],
   "source": [
    "tri = [\"4??\",\"?2\",\"1\"]\n",
    "tri.sort(key=lambda x : len(x))\n",
    "answer = []\n",
    "answer.append(tri[0])\n",
    "for index in range(len(tri) - 1):#마지막행 제외\n",
    "    now = list(tri[index]) #현재\n",
    "    up = list(tri[index + 1]) #상위 >> 즉 현재 + 상위1개로 나머지 상위 1개를 찾아가야함\n",
    "    while '?' in up: #위에 없어야함 아래는 이미 채워짐\n",
    "        for j in range(len(now)): #? 값 찾기\n",
    "            if now[j] != '?':\n",
    "                if up[j] != '?' and up[j+1] != '?':\n",
    "                    continue\n",
    "                elif up[j] != '?':\n",
    "                    if int(up[j]) > int(now[j]):\n",
    "                        up[j + 1] = str(int(now[j]) + 10 - int(up[j]))\n",
    "                    else:\n",
    "                        up[j + 1] = str(int(now[j]) - int(up[j]))\n",
    "                elif up[j+1] != '?':\n",
    "                    if int(up[j + 1]) > int(now[j]):\n",
    "                        up[j] = str(int(now[j]) + 10 - int(up[j + 1]))\n",
    "                    else:\n",
    "                        up[j] = str(int(now[j]) - int(up[j + 1]))\n",
    "        tri[index + 1] = ''.join(up)\n",
    "    answer.append(''.join(up))\n",
    "answer.sort(key=lambda x : len(x), reverse=True)"
   ]
  },
  {
   "cell_type": "code",
   "execution_count": null,
   "id": "d8304af2",
   "metadata": {},
   "outputs": [],
   "source": [
    "answer"
   ]
  },
  {
   "cell_type": "code",
   "execution_count": null,
   "id": "ee0275ed",
   "metadata": {},
   "outputs": [],
   "source": [
    "a = list(tri[1])\n",
    "a[0] = '1'\n",
    "''.join(a)"
   ]
  }
 ],
 "metadata": {
  "kernelspec": {
   "display_name": "Python 3",
   "language": "python",
   "name": "python3"
  },
  "language_info": {
   "codemirror_mode": {
    "name": "ipython",
    "version": 3
   },
   "file_extension": ".py",
   "mimetype": "text/x-python",
   "name": "python",
   "nbconvert_exporter": "python",
   "pygments_lexer": "ipython3",
   "version": "3.8.8"
  }
 },
 "nbformat": 4,
 "nbformat_minor": 5
}
