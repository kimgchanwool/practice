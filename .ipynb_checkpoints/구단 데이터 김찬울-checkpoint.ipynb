{
 "cells": [
  {
   "cell_type": "code",
   "execution_count": null,
   "id": "977926d5",
   "metadata": {},
   "outputs": [],
   "source": [
    "import requests\n",
    "from bs4 import BeautifulSoup\n",
    "import pandas as pd\n",
    "import numpy as np\n",
    "r = []; a = [r.append([i.text for i in BeautifulSoup(requests.post('https://www.koreabaseball.com/Record/Player/HitterDetail/Basic.aspx?playerId={}'.format(key)).text, 'html.parser').find_all('li', {'class' : 'odd'})]) for key in pickle.load(open('kbo.pkl', 'rb'))]\n",
    "ls = [[i.split(\":\")[1] for i in rs] for rs in r]; col = [i.split(':')[0] for i in r[0]]; df = pd.DataFrame(ls, columns=col)"
   ]
  },
  {
   "cell_type": "code",
   "execution_count": null,
   "id": "05bbe726",
   "metadata": {
    "scrolled": true
   },
   "outputs": [],
   "source": [
    "dollar = float(BeautifulSoup(requests.get('https://search.naver.com/search.naver?where=nexearch&sm=top_hty&fbm=1&ie=utf8&query=%EB%8B%AC%EB%9F%AC+%ED%99%98%EC%9C%A8').text, 'html.parser').find('span', {'class' : 'spt_con'}).text[3:11].replace(',', ''))\n",
    "for index, i in enumerate(df['입단 계약금']):\n",
    "    i = i.replace(' ', '')\n",
    "    if '달러' in i:\n",
    "        i = int(int(i[:-2]) * dollar)\n",
    "        df['입단 계약금'][index] = i\n",
    "    elif '만원' in i:\n",
    "        i = int(i[:-2]) * 10000\n",
    "        df['입단 계약금'][index] = i\n",
    "    else:\n",
    "        df['입단 계약금'][index] = 0"
   ]
  },
  {
   "cell_type": "code",
   "execution_count": null,
   "id": "e6b64686",
   "metadata": {},
   "outputs": [],
   "source": [
    "#df['구단'] = \n",
    "#df.iloc[156] = [' 정은재', ' 1991년 12월 31일', ' 192cm/92kg', np.NAN, ' 0 두산 ']\n",
    "df['구단'] = df['지명순위'].apply(lambda x : x.split(' ')[2])"
   ]
  },
  {
   "cell_type": "code",
   "execution_count": null,
   "id": "8b291cf2",
   "metadata": {
    "scrolled": false
   },
   "outputs": [],
   "source": [
    "df2 = pd.concat([df.groupby(['구단'])['입단 계약금'].sum(), df.groupby(['구단'])['입단 계약금'].size()], axis=1)\n",
    "df2.columns = ['sum', 'count']\n",
    "\n",
    "df2['mean'] = pd.Series(np.int64(df.groupby(['구단'])['입단 계약금'].sum() / df.groupby(['구단'])['입단 계약금'].size())).values\n",
    "df2['max'] = df.groupby(['구단'])['입단 계약금'].max().values\n",
    "df2"
   ]
  },
  {
   "cell_type": "code",
   "execution_count": null,
   "id": "1b3a4dcd",
   "metadata": {},
   "outputs": [],
   "source": []
  }
 ],
 "metadata": {
  "kernelspec": {
   "display_name": "Python 3",
   "language": "python",
   "name": "python3"
  },
  "language_info": {
   "codemirror_mode": {
    "name": "ipython",
    "version": 3
   },
   "file_extension": ".py",
   "mimetype": "text/x-python",
   "name": "python",
   "nbconvert_exporter": "python",
   "pygments_lexer": "ipython3",
   "version": "3.8.8"
  }
 },
 "nbformat": 4,
 "nbformat_minor": 5
}
