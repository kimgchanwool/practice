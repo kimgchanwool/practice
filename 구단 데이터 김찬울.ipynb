{
 "cells": [
  {
   "cell_type": "code",
   "execution_count": 486,
   "id": "633db182",
   "metadata": {},
   "outputs": [],
   "source": [
    "import requests\n",
    "from bs4 import BeautifulSoup\n",
    "import pandas as pd\n",
    "import numpy as np\n",
    "r = []; a = [r.append([i.text for i in BeautifulSoup(requests.post('https://www.koreabaseball.com/Record/Player/HitterDetail/Basic.aspx?playerId={}'.format(key)).text, 'html.parser').find_all('li', {'class' : 'odd'})]) for key in pickle.load(open('kbo.pkl', 'rb'))]\n",
    "ls = [[i.split(\":\")[1] for i in rs] for rs in r]; col = [i.split(':')[0] for i in r[0]]; df = pd.DataFrame(ls, columns=col)"
   ]
  },
  {
   "cell_type": "code",
   "execution_count": 487,
   "id": "1ce982cb",
   "metadata": {
    "scrolled": true
   },
   "outputs": [],
   "source": [
    "dollar = float(BeautifulSoup(requests.get('https://search.naver.com/search.naver?where=nexearch&sm=top_hty&fbm=1&ie=utf8&query=%EB%8B%AC%EB%9F%AC+%ED%99%98%EC%9C%A8').text, 'html.parser').find('span', {'class' : 'spt_con'}).text[3:11].replace(',', ''))\n",
    "for index, i in enumerate(df['입단 계약금']):\n",
    "    i = i.replace(' ', '')\n",
    "    if '달러' in i:\n",
    "        i = int(int(i[:-2]) * dollar)\n",
    "        df['입단 계약금'][index] = i\n",
    "    elif '만원' in i:\n",
    "        i = int(i[:-2]) * 10000\n",
    "        df['입단 계약금'][index] = i\n",
    "    else:\n",
    "        df['입단 계약금'][index] = 0"
   ]
  },
  {
   "cell_type": "code",
   "execution_count": 501,
   "id": "59c43a51",
   "metadata": {},
   "outputs": [
    {
     "ename": "SyntaxError",
     "evalue": "invalid syntax (<ipython-input-501-e0a8e71879c5>, line 3)",
     "output_type": "error",
     "traceback": [
      "\u001b[1;36m  File \u001b[1;32m\"<ipython-input-501-e0a8e71879c5>\"\u001b[1;36m, line \u001b[1;32m3\u001b[0m\n\u001b[1;33m    df['구단'] = [i.text for i in BeautifulSoup(requests.post('https://www.koreabaseball.com/Record/Player/HitterDetail/Basic.aspx?playerId={}'.format(key)).text, 'html.parser').find_all(id = 'h4Team')] for key in pickle.load(open('kbo.pkl', 'rb')]\u001b[0m\n\u001b[1;37m                                                                                                                                                                                                         ^\u001b[0m\n\u001b[1;31mSyntaxError\u001b[0m\u001b[1;31m:\u001b[0m invalid syntax\n"
     ]
    }
   ],
   "source": [
    "#df['구단'] = \n",
    "#df.iloc[156] = [' 정은재', ' 1991년 12월 31일', ' 192cm/92kg', np.NAN, ' 0 두산 ']\n",
    "df['구단'] = [i.text for i in BeautifulSoup(requests.post('https://www.koreabaseball.com/Record/Player/HitterDetail/Basic.aspx?playerId={}'.format(key)).text, 'html.parser').find_all(id = 'h4Team')] for key in pickle.load(open('kbo.pkl', 'rb')]"
   ]
  },
  {
   "cell_type": "code",
   "execution_count": null,
   "id": "f5f2943d",
   "metadata": {
    "scrolled": false
   },
   "outputs": [],
   "source": [
    "df2 = pd.concat([df.groupby(['구단'])['입단 계약금'].sum(), df.groupby(['구단'])['입단 계약금'].size()], axis=1)\n",
    "df2.columns = ['sum', 'count']\n",
    "\n",
    "df2['mean'] = pd.Series(np.int64(df.groupby(['구단'])['입단 계약금'].sum() / df.groupby(['구단'])['입단 계약금'].size())).values\n",
    "df2['max'] = df.groupby(['구단'])['입단 계약금'].max().values\n",
    "df2"
   ]
  },
  {
   "cell_type": "code",
   "execution_count": 497,
   "id": "9f5eac08",
   "metadata": {},
   "outputs": [
    {
     "ename": "TypeError",
     "evalue": "unhashable type: 'list'",
     "output_type": "error",
     "traceback": [
      "\u001b[1;31m---------------------------------------------------------------------------\u001b[0m",
      "\u001b[1;31mTypeError\u001b[0m                                 Traceback (most recent call last)",
      "\u001b[1;32mpandas\\_libs\\hashtable_class_helper.pxi\u001b[0m in \u001b[0;36mpandas._libs.hashtable.PyObjectHashTable.map_locations\u001b[1;34m()\u001b[0m\n",
      "\u001b[1;31mTypeError\u001b[0m: unhashable type: 'list'"
     ]
    },
    {
     "name": "stderr",
     "output_type": "stream",
     "text": [
      "Exception ignored in: 'pandas._libs.index.IndexEngine._call_map_locations'\n",
      "Traceback (most recent call last):\n",
      "  File \"pandas\\_libs\\hashtable_class_helper.pxi\", line 4588, in pandas._libs.hashtable.PyObjectHashTable.map_locations\n",
      "TypeError: unhashable type: 'list'\n"
     ]
    },
    {
     "data": {
      "text/plain": [
       "[KT 위즈]       92\n",
       "[SSG 랜더스]     89\n",
       "[KIA 타이거즈]    89\n",
       "[LG 트윈스]      88\n",
       "[한화 이글스]      86\n",
       "[NC 다이노스]     86\n",
       "[두산 베어스]      85\n",
       "[삼성 라이온즈]     84\n",
       "[롯데 자이언츠]     77\n",
       "[키움 히어로즈]     68\n",
       "[고양 히어로즈]     13\n",
       "Name: 구단, dtype: int64"
      ]
     },
     "execution_count": 497,
     "metadata": {},
     "output_type": "execute_result"
    }
   ],
   "source": [
    "df['구단'].value_counts()"
   ]
  },
  {
   "cell_type": "code",
   "execution_count": 502,
   "id": "229186e8",
   "metadata": {},
   "outputs": [
    {
     "data": {
      "text/html": [
       "<div>\n",
       "<style scoped>\n",
       "    .dataframe tbody tr th:only-of-type {\n",
       "        vertical-align: middle;\n",
       "    }\n",
       "\n",
       "    .dataframe tbody tr th {\n",
       "        vertical-align: top;\n",
       "    }\n",
       "\n",
       "    .dataframe thead th {\n",
       "        text-align: right;\n",
       "    }\n",
       "</style>\n",
       "<table border=\"1\" class=\"dataframe\">\n",
       "  <thead>\n",
       "    <tr style=\"text-align: right;\">\n",
       "      <th></th>\n",
       "      <th>선수명</th>\n",
       "      <th>생년월일</th>\n",
       "      <th>신장/체중</th>\n",
       "      <th>입단 계약금</th>\n",
       "      <th>지명순위</th>\n",
       "      <th>구단</th>\n",
       "    </tr>\n",
       "  </thead>\n",
       "  <tbody>\n",
       "    <tr>\n",
       "      <th>0</th>\n",
       "      <td>강동연</td>\n",
       "      <td>1992년 12월 18일</td>\n",
       "      <td>195cm/94kg</td>\n",
       "      <td>0</td>\n",
       "      <td>11 두산 육성선수</td>\n",
       "      <td>[NC 다이노스]</td>\n",
       "    </tr>\n",
       "    <tr>\n",
       "      <th>1</th>\n",
       "      <td>강진성</td>\n",
       "      <td>1993년 10월 19일</td>\n",
       "      <td>180cm/81kg</td>\n",
       "      <td>70000000</td>\n",
       "      <td>12 NC 4라운드 33순위</td>\n",
       "      <td>[NC 다이노스]</td>\n",
       "    </tr>\n",
       "    <tr>\n",
       "      <th>2</th>\n",
       "      <td>강태경</td>\n",
       "      <td>2001년 07월 26일</td>\n",
       "      <td>188cm/95kg</td>\n",
       "      <td>70000000</td>\n",
       "      <td>20 NC 2차 5라운드 41순위</td>\n",
       "      <td>[NC 다이노스]</td>\n",
       "    </tr>\n",
       "    <tr>\n",
       "      <th>3</th>\n",
       "      <td>구창모</td>\n",
       "      <td>1997년 02월 17일</td>\n",
       "      <td>183cm/85kg</td>\n",
       "      <td>150000000</td>\n",
       "      <td>15 NC 2차 1라운드 3순위</td>\n",
       "      <td>[NC 다이노스]</td>\n",
       "    </tr>\n",
       "    <tr>\n",
       "      <th>4</th>\n",
       "      <td>권법수</td>\n",
       "      <td>1997년 04월 05일</td>\n",
       "      <td>183cm/82kg</td>\n",
       "      <td>50000000</td>\n",
       "      <td>17 NC 2차 6라운드 58순위</td>\n",
       "      <td>[NC 다이노스]</td>\n",
       "    </tr>\n",
       "    <tr>\n",
       "      <th>...</th>\n",
       "      <td>...</td>\n",
       "      <td>...</td>\n",
       "      <td>...</td>\n",
       "      <td>...</td>\n",
       "      <td>...</td>\n",
       "      <td>...</td>\n",
       "    </tr>\n",
       "    <tr>\n",
       "      <th>852</th>\n",
       "      <td>하주석</td>\n",
       "      <td>1994년 02월 25일</td>\n",
       "      <td>184cm/84kg</td>\n",
       "      <td>300000000</td>\n",
       "      <td>12 한화 1라운드 1순위</td>\n",
       "      <td>[한화 이글스]</td>\n",
       "    </tr>\n",
       "    <tr>\n",
       "      <th>853</th>\n",
       "      <td>한승주</td>\n",
       "      <td>2001년 03월 17일</td>\n",
       "      <td>184cm/82kg</td>\n",
       "      <td>110000000</td>\n",
       "      <td>20 한화 2차 2라운드 18순위</td>\n",
       "      <td>[한화 이글스]</td>\n",
       "    </tr>\n",
       "    <tr>\n",
       "      <th>854</th>\n",
       "      <td>허관회</td>\n",
       "      <td>1999년 02월 12일</td>\n",
       "      <td>176cm/83kg</td>\n",
       "      <td>30000000</td>\n",
       "      <td>19 한화 2차 9라운드 83순위</td>\n",
       "      <td>[한화 이글스]</td>\n",
       "    </tr>\n",
       "    <tr>\n",
       "      <th>855</th>\n",
       "      <td>황영국</td>\n",
       "      <td>1995년 12월 26일</td>\n",
       "      <td>185cm/83kg</td>\n",
       "      <td>200000000</td>\n",
       "      <td>14 한화 1차</td>\n",
       "      <td>[한화 이글스]</td>\n",
       "    </tr>\n",
       "    <tr>\n",
       "      <th>856</th>\n",
       "      <td>힐리</td>\n",
       "      <td>1992년 01월 10일</td>\n",
       "      <td>195cm/104kg</td>\n",
       "      <td>353130000</td>\n",
       "      <td>21 한화 자유선발</td>\n",
       "      <td>[한화 이글스]</td>\n",
       "    </tr>\n",
       "  </tbody>\n",
       "</table>\n",
       "<p>857 rows × 6 columns</p>\n",
       "</div>"
      ],
      "text/plain": [
       "      선수명            생년월일         신장/체중     입단 계약금                 지명순위  \\\n",
       "0     강동연   1992년 12월 18일    195cm/94kg          0           11 두산 육성선수   \n",
       "1     강진성   1993년 10월 19일    180cm/81kg   70000000      12 NC 4라운드 33순위   \n",
       "2     강태경   2001년 07월 26일    188cm/95kg   70000000   20 NC 2차 5라운드 41순위   \n",
       "3     구창모   1997년 02월 17일    183cm/85kg  150000000    15 NC 2차 1라운드 3순위   \n",
       "4     권법수   1997년 04월 05일    183cm/82kg   50000000   17 NC 2차 6라운드 58순위   \n",
       "..    ...             ...           ...        ...                  ...   \n",
       "852   하주석   1994년 02월 25일    184cm/84kg  300000000       12 한화 1라운드 1순위   \n",
       "853   한승주   2001년 03월 17일    184cm/82kg  110000000   20 한화 2차 2라운드 18순위   \n",
       "854   허관회   1999년 02월 12일    176cm/83kg   30000000   19 한화 2차 9라운드 83순위   \n",
       "855   황영국   1995년 12월 26일    185cm/83kg  200000000             14 한화 1차   \n",
       "856    힐리   1992년 01월 10일   195cm/104kg  353130000           21 한화 자유선발   \n",
       "\n",
       "            구단  \n",
       "0    [NC 다이노스]  \n",
       "1    [NC 다이노스]  \n",
       "2    [NC 다이노스]  \n",
       "3    [NC 다이노스]  \n",
       "4    [NC 다이노스]  \n",
       "..         ...  \n",
       "852   [한화 이글스]  \n",
       "853   [한화 이글스]  \n",
       "854   [한화 이글스]  \n",
       "855   [한화 이글스]  \n",
       "856   [한화 이글스]  \n",
       "\n",
       "[857 rows x 6 columns]"
      ]
     },
     "execution_count": 502,
     "metadata": {},
     "output_type": "execute_result"
    }
   ],
   "source": [
    "df"
   ]
  },
  {
   "cell_type": "code",
   "execution_count": 505,
   "id": "d21ed933",
   "metadata": {
    "scrolled": true
   },
   "outputs": [
    {
     "ename": "NameError",
     "evalue": "name 'key' is not defined",
     "output_type": "error",
     "traceback": [
      "\u001b[1;31m---------------------------------------------------------------------------\u001b[0m",
      "\u001b[1;31mNameError\u001b[0m                                 Traceback (most recent call last)",
      "\u001b[1;32m<ipython-input-505-9f8d1efc009b>\u001b[0m in \u001b[0;36m<module>\u001b[1;34m\u001b[0m\n\u001b[1;32m----> 1\u001b[1;33m \u001b[0mBeautifulSoup\u001b[0m\u001b[1;33m(\u001b[0m\u001b[0mrequests\u001b[0m\u001b[1;33m.\u001b[0m\u001b[0mpost\u001b[0m\u001b[1;33m(\u001b[0m\u001b[1;34m'https://www.koreabaseball.com/Record/Player/HitterDetail/Basic.aspx?playerId={}'\u001b[0m\u001b[1;33m.\u001b[0m\u001b[0mformat\u001b[0m\u001b[1;33m(\u001b[0m\u001b[0mkey\u001b[0m\u001b[1;33m)\u001b[0m\u001b[1;33m)\u001b[0m\u001b[1;33m.\u001b[0m\u001b[0mtext\u001b[0m\u001b[1;33m,\u001b[0m \u001b[1;34m'html.parser'\u001b[0m\u001b[1;33m)\u001b[0m\u001b[1;33m.\u001b[0m\u001b[0mfind_all\u001b[0m\u001b[1;33m(\u001b[0m\u001b[1;34m'li'\u001b[0m\u001b[1;33m,\u001b[0m \u001b[1;33m{\u001b[0m\u001b[1;34m'class'\u001b[0m \u001b[1;33m:\u001b[0m \u001b[1;34m'odd'\u001b[0m\u001b[1;33m}\u001b[0m\u001b[1;33m)\u001b[0m\u001b[1;33m\u001b[0m\u001b[1;33m\u001b[0m\u001b[0m\n\u001b[0m",
      "\u001b[1;31mNameError\u001b[0m: name 'key' is not defined"
     ]
    }
   ],
   "source": [
    "BeautifulSoup(requests.post('https://www.koreabaseball.com/Record/Player/HitterDetail/Basic.aspx?playerId={}'.format()).text, 'html.parser').find_all('li', {'class' : 'odd'})"
   ]
  },
  {
   "cell_type": "code",
   "execution_count": 506,
   "id": "219fad46",
   "metadata": {},
   "outputs": [
    {
     "ename": "NameError",
     "evalue": "name 'key' is not defined",
     "output_type": "error",
     "traceback": [
      "\u001b[1;31m---------------------------------------------------------------------------\u001b[0m",
      "\u001b[1;31mNameError\u001b[0m                                 Traceback (most recent call last)",
      "\u001b[1;32m<ipython-input-506-e1efc99729be>\u001b[0m in \u001b[0;36m<module>\u001b[1;34m\u001b[0m\n\u001b[1;32m----> 1\u001b[1;33m \u001b[0mkey\u001b[0m\u001b[1;33m\u001b[0m\u001b[1;33m\u001b[0m\u001b[0m\n\u001b[0m",
      "\u001b[1;31mNameError\u001b[0m: name 'key' is not defined"
     ]
    }
   ],
   "source": [
    "key"
   ]
  },
  {
   "cell_type": "code",
   "execution_count": null,
   "id": "1868ba53",
   "metadata": {},
   "outputs": [],
   "source": [
    "d = 5\n",
    "answer = ml(d)\n",
    "urls.answer"
   ]
  }
 ],
 "metadata": {
  "kernelspec": {
   "display_name": "Python 3",
   "language": "python",
   "name": "python3"
  },
  "language_info": {
   "codemirror_mode": {
    "name": "ipython",
    "version": 3
   },
   "file_extension": ".py",
   "mimetype": "text/x-python",
   "name": "python",
   "nbconvert_exporter": "python",
   "pygments_lexer": "ipython3",
   "version": "3.8.8"
  }
 },
 "nbformat": 4,
 "nbformat_minor": 5
}
