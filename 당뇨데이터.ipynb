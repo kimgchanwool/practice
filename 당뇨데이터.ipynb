{
 "cells": [
  {
   "cell_type": "code",
   "execution_count": 10,
   "id": "86c45cfa",
   "metadata": {},
   "outputs": [],
   "source": [
    "import requests\n",
    "url = \"http://127.0.0.1:8000/predict/\"\n",
    "\n",
    "payload = {\n",
    "    \"Pregnancies\" : 1, \n",
    "    \"Glucose\" : 120.89,\n",
    "    \"BloodPressure\" : 69.1,\n",
    "    \"SkinThickness\" : 20.53,\n",
    "    \"Insulin\" : 79.9,\n",
    "    \"DiabetesPedigreeFunction\" : 0.47,\n",
    "    \"Age\" : 33,\n",
    "    \"BMI\" : 20 \n",
    "}\n",
    "r = requests.post(url, data=payload)"
   ]
  },
  {
   "cell_type": "code",
   "execution_count": 11,
   "id": "10daf608",
   "metadata": {},
   "outputs": [
    {
     "data": {
      "text/plain": [
       "{'error': 0, 'message': 'Successful', 'result': 0}"
      ]
     },
     "execution_count": 11,
     "metadata": {},
     "output_type": "execute_result"
    }
   ],
   "source": [
    "r.json()"
   ]
  },
  {
   "cell_type": "code",
   "execution_count": 12,
   "id": "2de1440a",
   "metadata": {
    "scrolled": true
   },
   "outputs": [
    {
     "name": "stdout",
     "output_type": "stream",
     "text": [
      "당신은 당뇨병에 걸리지 않았습니다..\n"
     ]
    }
   ],
   "source": [
    "if r.json()['result'] == 0:\n",
    "    print('당신은 당뇨병에 걸리지 않았습니다..')\n",
    "else:\n",
    "    print('병원에 가세요')"
   ]
  },
  {
   "cell_type": "code",
   "execution_count": null,
   "id": "cab12441",
   "metadata": {},
   "outputs": [],
   "source": [
    "#### predict 컬럼 생성 -> api서버의 값을 기록"
   ]
  },
  {
   "cell_type": "code",
   "execution_count": 13,
   "id": "34e3929f",
   "metadata": {},
   "outputs": [],
   "source": [
    "import pandas as pd"
   ]
  },
  {
   "cell_type": "code",
   "execution_count": null,
   "id": "cc643769",
   "metadata": {},
   "outputs": [],
   "source": []
  },
  {
   "cell_type": "code",
   "execution_count": 16,
   "id": "b19e9448",
   "metadata": {},
   "outputs": [],
   "source": [
    "df = pd.read_csv('../data/diabetes.csv')"
   ]
  },
  {
   "cell_type": "code",
   "execution_count": 31,
   "id": "8862d73b",
   "metadata": {},
   "outputs": [
    {
     "data": {
      "text/plain": [
       "768"
      ]
     },
     "execution_count": 31,
     "metadata": {},
     "output_type": "execute_result"
    }
   ],
   "source": [
    "len(df)"
   ]
  },
  {
   "cell_type": "code",
   "execution_count": 57,
   "id": "199a0663",
   "metadata": {},
   "outputs": [
    {
     "ename": "KeyError",
     "evalue": "'result'",
     "output_type": "error",
     "traceback": [
      "\u001b[1;31m---------------------------------------------------------------------------\u001b[0m",
      "\u001b[1;31mKeyError\u001b[0m                                  Traceback (most recent call last)",
      "\u001b[1;32m<ipython-input-57-8d57e8852913>\u001b[0m in \u001b[0;36m<module>\u001b[1;34m\u001b[0m\n\u001b[0;32m      5\u001b[0m     \u001b[0murl\u001b[0m \u001b[1;33m=\u001b[0m \u001b[1;34m\"http://52.79.123.43:8000/\"\u001b[0m\u001b[1;33m\u001b[0m\u001b[1;33m\u001b[0m\u001b[0m\n\u001b[0;32m      6\u001b[0m     \u001b[0mr\u001b[0m \u001b[1;33m=\u001b[0m \u001b[0mrequests\u001b[0m\u001b[1;33m.\u001b[0m\u001b[0mpost\u001b[0m\u001b[1;33m(\u001b[0m\u001b[0murl\u001b[0m\u001b[1;33m,\u001b[0m \u001b[0mdata\u001b[0m\u001b[1;33m=\u001b[0m\u001b[0mpayload\u001b[0m\u001b[1;33m)\u001b[0m\u001b[1;33m\u001b[0m\u001b[1;33m\u001b[0m\u001b[0m\n\u001b[1;32m----> 7\u001b[1;33m     \u001b[0mv\u001b[0m\u001b[1;33m.\u001b[0m\u001b[0mappend\u001b[0m\u001b[1;33m(\u001b[0m\u001b[0mr\u001b[0m\u001b[1;33m.\u001b[0m\u001b[0mjson\u001b[0m\u001b[1;33m(\u001b[0m\u001b[1;33m)\u001b[0m\u001b[1;33m[\u001b[0m\u001b[1;34m'result'\u001b[0m\u001b[1;33m]\u001b[0m\u001b[1;33m)\u001b[0m\u001b[1;33m\u001b[0m\u001b[1;33m\u001b[0m\u001b[0m\n\u001b[0m\u001b[0;32m      8\u001b[0m \u001b[1;33m\u001b[0m\u001b[0m\n\u001b[0;32m      9\u001b[0m \u001b[0mdf\u001b[0m\u001b[1;33m[\u001b[0m\u001b[1;34m'predict'\u001b[0m\u001b[1;33m]\u001b[0m \u001b[1;33m=\u001b[0m \u001b[0mv\u001b[0m\u001b[1;33m\u001b[0m\u001b[1;33m\u001b[0m\u001b[0m\n",
      "\u001b[1;31mKeyError\u001b[0m: 'result'"
     ]
    }
   ],
   "source": [
    "import requests\n",
    "v = []\n",
    "for i in range(len(df)):\n",
    "    payload = dict(df.iloc[i])\n",
    "    url = \"http://52.79.123.43:8000/\"\n",
    "    r = requests.post(url, data=payload)\n",
    "    v.append(r.json()['result'])\n",
    "\n",
    "df['predict'] = v\n",
    "\n",
    "#df.predict.replace(1000, 1, inplace=True)"
   ]
  },
  {
   "cell_type": "code",
   "execution_count": 50,
   "id": "08e010b5",
   "metadata": {
    "scrolled": true
   },
   "outputs": [
    {
     "data": {
      "text/plain": [
       "0    562\n",
       "1    206\n",
       "Name: predict, dtype: int64"
      ]
     },
     "execution_count": 50,
     "metadata": {},
     "output_type": "execute_result"
    }
   ],
   "source": [
    "df.predict.value_counts()"
   ]
  },
  {
   "cell_type": "code",
   "execution_count": null,
   "id": "34443869",
   "metadata": {},
   "outputs": [],
   "source": [
    "result = []\n",
    "for idx, cont in df.iterrows():\n",
    "    data = dict(cont)\n",
    "    del data['Outcome']\n",
    "    r = requests.post(url, data=data)\n",
    "    result.append(r.json()['result'])\n",
    "df = df.assign(result  = pd.DataFrame(result, columns=['result']))"
   ]
  },
  {
   "cell_type": "code",
   "execution_count": 70,
   "id": "d5c6db60",
   "metadata": {},
   "outputs": [],
   "source": [
    "import requests\n",
    "url = \"http://52.79.123.43:8000/predict/\"\n",
    "\n",
    "payload = {\n",
    "    \"Pregnancies\" : 42, \n",
    "    \"Glucose\" : 42,\n",
    "    \"BloodPressure\" : 42,\n",
    "    \"SkinThickness\" : 42,\n",
    "    \"Insulin\" : 42,\n",
    "    \"DiabetesPedigreeFunction\" : 42,\n",
    "    \"Age\" : 42,\n",
    "    \"BMI\" : 42 \n",
    "}\n",
    "r = requests.post(url, data=payload)"
   ]
  },
  {
   "cell_type": "code",
   "execution_count": 66,
   "id": "dd63f2dd",
   "metadata": {},
   "outputs": [
    {
     "data": {
      "text/plain": [
       "{'error': '0', 'message': 'Successful'}"
      ]
     },
     "execution_count": 66,
     "metadata": {},
     "output_type": "execute_result"
    }
   ],
   "source": [
    "r.json()"
   ]
  },
  {
   "cell_type": "code",
   "execution_count": null,
   "id": "f50d8ec9",
   "metadata": {},
   "outputs": [],
   "source": []
  }
 ],
 "metadata": {
  "kernelspec": {
   "display_name": "Python 3",
   "language": "python",
   "name": "python3"
  },
  "language_info": {
   "codemirror_mode": {
    "name": "ipython",
    "version": 3
   },
   "file_extension": ".py",
   "mimetype": "text/x-python",
   "name": "python",
   "nbconvert_exporter": "python",
   "pygments_lexer": "ipython3",
   "version": "3.8.8"
  }
 },
 "nbformat": 4,
 "nbformat_minor": 5
}
