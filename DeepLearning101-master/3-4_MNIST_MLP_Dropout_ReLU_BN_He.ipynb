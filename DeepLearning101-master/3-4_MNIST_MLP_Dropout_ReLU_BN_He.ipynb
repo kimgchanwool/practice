{
 "cells": [
  {
   "cell_type": "code",
   "execution_count": 1,
   "metadata": {},
   "outputs": [],
   "source": [
    "''' 1. Module Import '''\n",
    "import numpy as np\n",
    "import matplotlib.pyplot as plt\n",
    "\n",
    "import torch\n",
    "import torch.nn as nn\n",
    "import torch.nn.functional as F\n",
    "from torchvision import transforms, datasets"
   ]
  },
  {
   "cell_type": "code",
   "execution_count": 2,
   "metadata": {},
   "outputs": [
    {
     "name": "stdout",
     "output_type": "stream",
     "text": [
      "Using PyTorch version: 1.6.0+cu101  Device: cuda\n"
     ]
    }
   ],
   "source": [
    "''' 2. 딥러닝 모델을 설계할 때 활용하는 장비 확인 '''\n",
    "if torch.cuda.is_available():\n",
    "    DEVICE = torch.device('cuda')\n",
    "else:\n",
    "    DEVICE = torch.device('cpu')\n",
    "print('Using PyTorch version:', torch.__version__, ' Device:', DEVICE)"
   ]
  },
  {
   "cell_type": "code",
   "execution_count": 3,
   "metadata": {},
   "outputs": [],
   "source": [
    "BATCH_SIZE = 32\n",
    "EPOCHS = 10"
   ]
  },
  {
   "cell_type": "code",
   "execution_count": 4,
   "metadata": {},
   "outputs": [],
   "source": [
    "''' 3. MNIST 데이터 다운로드 (Train set, Test set 분리하기) '''\n",
    "train_dataset = datasets.MNIST(root = \"../data/MNIST\",\n",
    "                               train = True,\n",
    "                               download = True,\n",
    "                               transform = transforms.ToTensor())\n",
    "\n",
    "test_dataset = datasets.MNIST(root = \"../data/MNIST\",\n",
    "                              train = False,\n",
    "                              transform = transforms.ToTensor())\n",
    "\n",
    "train_loader = torch.utils.data.DataLoader(dataset = train_dataset,\n",
    "                                           batch_size = BATCH_SIZE,\n",
    "                                           shuffle = True)\n",
    "\n",
    "test_loader = torch.utils.data.DataLoader(dataset = test_dataset,\n",
    "                                          batch_size = BATCH_SIZE,\n",
    "                                          shuffle = False)"
   ]
  },
  {
   "cell_type": "code",
   "execution_count": 5,
   "metadata": {},
   "outputs": [
    {
     "name": "stdout",
     "output_type": "stream",
     "text": [
      "X_train: torch.Size([32, 1, 28, 28]) type: torch.FloatTensor\n",
      "y_train: torch.Size([32]) type: torch.LongTensor\n"
     ]
    }
   ],
   "source": [
    "''' 4. 데이터 확인하기 (1) '''\n",
    "for (X_train, y_train) in train_loader:\n",
    "    print('X_train:', X_train.size(), 'type:', X_train.type())\n",
    "    print('y_train:', y_train.size(), 'type:', y_train.type())\n",
    "    break"
   ]
  },
  {
   "cell_type": "code",
   "execution_count": 6,
   "metadata": {},
   "outputs": [
    {
     "data": {
      "image/png": "[encoded data removed]",
      "text/plain": [
       "<Figure size 720x72 with 10 Axes>"
      ]
     },
     "metadata": {
      "needs_background": "light"
     },
     "output_type": "display_data"
    }
   ],
   "source": [
    "''' 5. 데이터 확인하기 (2) '''\n",
    "pltsize = 1\n",
    "plt.figure(figsize=(10 * pltsize, pltsize))\n",
    "for i in range(10):\n",
    "    plt.subplot(1, 10, i + 1)\n",
    "    plt.axis('off')\n",
    "    plt.imshow(X_train[i, :, :, :].numpy().reshape(28, 28), cmap = \"gray_r\")\n",
    "    plt.title('Class: ' + str(y_train[i].item()))"
   ]
  },
  {
   "cell_type": "code",
   "execution_count": 7,
   "metadata": {},
   "outputs": [],
   "source": [
    "''' 6. Multi Layer Perceptron (MLP) 모델 설계하기 '''\n",
    "class Net(nn.Module):\n",
    "    def __init__(self):\n",
    "        super(Net, self).__init__()\n",
    "        self.fc1 = nn.Linear(28 * 28, 512)\n",
    "        self.fc2 = nn.Linear(512, 256)\n",
    "        self.fc3 = nn.Linear(256, 10)\n",
    "        self.dropout_prob = 0.5\n",
    "        self.batch_norm1 = nn.BatchNorm1d(512)\n",
    "        self.batch_norm2 = nn.BatchNorm1d(256)\n",
    "\n",
    "    def forward(self, x):\n",
    "        x = x.view(-1, 28 * 28)\n",
    "        x = self.fc1(x)\n",
    "        x = self.batch_norm1(x)\n",
    "        x = F.relu(x)\n",
    "        x = F.dropout(x, training = self.training, p = self.dropout_prob)\n",
    "        x = self.fc2(x)\n",
    "        x = self.batch_norm2(x)\n",
    "        x = F.relu(x)\n",
    "        x = F.dropout(x, training = self.training, p = self.dropout_prob)\n",
    "        x = self.fc3(x)\n",
    "        x = F.log_softmax(x, dim = 1)\n",
    "        return x"
   ]
  },
  {
   "cell_type": "code",
   "execution_count": 8,
   "metadata": {},
   "outputs": [
    {
     "name": "stdout",
     "output_type": "stream",
     "text": [
      "Net(\n",
      "  (fc1): Linear(in_features=784, out_features=512, bias=True)\n",
      "  (fc2): Linear(in_features=512, out_features=256, bias=True)\n",
      "  (fc3): Linear(in_features=256, out_features=10, bias=True)\n",
      "  (batch_norm1): BatchNorm1d(512, eps=1e-05, momentum=0.1, affine=True, track_running_stats=True)\n",
      "  (batch_norm2): BatchNorm1d(256, eps=1e-05, momentum=0.1, affine=True, track_running_stats=True)\n",
      ")\n"
     ]
    }
   ],
   "source": [
    "''' 7. Optimizer, Objective Function 설정하기 '''\n",
    "import torch.nn.init as init\n",
    "def weight_init(m):\n",
    "    if isinstance(m, nn.Linear):\n",
    "        init.kaiming_uniform_(m.weight.data)\n",
    "\n",
    "model = Net().to(DEVICE)\n",
    "model.apply(weight_init)\n",
    "optimizer = torch.optim.SGD(model.parameters(), lr = 0.01, momentum = 0.5)\n",
    "criterion = nn.CrossEntropyLoss()\n",
    "\n",
    "print(model)"
   ]
  },
  {
   "cell_type": "code",
   "execution_count": 9,
   "metadata": {},
   "outputs": [],
   "source": [
    "''' 8. MLP 모델 학습을 진행하며 학습 데이터에 대한 모델 성능을 확인하는 함수 정의 '''\n",
    "def train(model, train_loader, optimizer, log_interval):\n",
    "    model.train()\n",
    "    for batch_idx, (image, label) in enumerate(train_loader):\n",
    "        image = image.to(DEVICE)\n",
    "        label = label.to(DEVICE)\n",
    "        optimizer.zero_grad()\n",
    "        output = model(image)\n",
    "        loss = criterion(output, label)\n",
    "        loss.backward()\n",
    "        optimizer.step()\n",
    "\n",
    "        if batch_idx % log_interval == 0:\n",
    "            print(\"Train Epoch: {} [{}/{} ({:.0f}%)]\\tTrain Loss: {:.6f}\".format(\n",
    "                epoch, batch_idx * len(image), \n",
    "                len(train_loader.dataset), 100. * batch_idx / len(train_loader), \n",
    "                loss.item()))"
   ]
  },
  {
   "cell_type": "code",
   "execution_count": 10,
   "metadata": {},
   "outputs": [],
   "source": [
    "''' 9. 학습되는 과정 속에서 검증 데이터에 대한 모델 성능을 확인하는 함수 정의 '''\n",
    "def evaluate(model, test_loader):\n",
    "    model.eval()\n",
    "    test_loss = 0\n",
    "    correct = 0\n",
    "\n",
    "    with torch.no_grad():\n",
    "        for image, label in test_loader:\n",
    "            image = image.to(DEVICE)\n",
    "            label = label.to(DEVICE)\n",
    "            output = model(image)\n",
    "            test_loss += criterion(output, label).item()\n",
    "            prediction = output.max(1, keepdim = True)[1]\n",
    "            correct += prediction.eq(label.view_as(prediction)).sum().item()\n",
    "    \n",
    "    test_loss /= (len(test_loader.dataset) / BATCH_SIZE)\n",
    "    test_accuracy = 100. * correct / len(test_loader.dataset)\n",
    "    return test_loss, test_accuracy"
   ]
  },
  {
   "cell_type": "code",
   "execution_count": 11,
   "metadata": {},
   "outputs": [
    {
     "name": "stdout",
     "output_type": "stream",
     "text": [
      "Train Epoch: 1 [0/60000 (0%)]\tTrain Loss: 3.231226\n",
      "Train Epoch: 1 [6400/60000 (11%)]\tTrain Loss: 0.891422\n",
      "Train Epoch: 1 [12800/60000 (21%)]\tTrain Loss: 0.442062\n",
      "Train Epoch: 1 [19200/60000 (32%)]\tTrain Loss: 0.498908\n",
      "Train Epoch: 1 [25600/60000 (43%)]\tTrain Loss: 0.197482\n",
      "Train Epoch: 1 [32000/60000 (53%)]\tTrain Loss: 0.447513\n",
      "Train Epoch: 1 [38400/60000 (64%)]\tTrain Loss: 0.247923\n",
      "Train Epoch: 1 [44800/60000 (75%)]\tTrain Loss: 0.455022\n",
      "Train Epoch: 1 [51200/60000 (85%)]\tTrain Loss: 0.872675\n",
      "Train Epoch: 1 [57600/60000 (96%)]\tTrain Loss: 0.463000\n",
      "\n",
      "[EPOCH: 1], \tTest Loss: 0.0069, \tTest Accuracy: 93.45 % \n",
      "\n",
      "Train Epoch: 2 [0/60000 (0%)]\tTrain Loss: 0.251810\n",
      "Train Epoch: 2 [6400/60000 (11%)]\tTrain Loss: 0.328899\n",
      "Train Epoch: 2 [12800/60000 (21%)]\tTrain Loss: 0.369310\n",
      "Train Epoch: 2 [19200/60000 (32%)]\tTrain Loss: 0.394392\n",
      "Train Epoch: 2 [25600/60000 (43%)]\tTrain Loss: 0.296630\n",
      "Train Epoch: 2 [32000/60000 (53%)]\tTrain Loss: 0.488552\n",
      "Train Epoch: 2 [38400/60000 (64%)]\tTrain Loss: 0.431340\n",
      "Train Epoch: 2 [44800/60000 (75%)]\tTrain Loss: 0.597722\n",
      "Train Epoch: 2 [51200/60000 (85%)]\tTrain Loss: 0.273496\n",
      "Train Epoch: 2 [57600/60000 (96%)]\tTrain Loss: 0.269494\n",
      "\n",
      "[EPOCH: 2], \tTest Loss: 0.0053, \tTest Accuracy: 94.96 % \n",
      "\n",
      "Train Epoch: 3 [0/60000 (0%)]\tTrain Loss: 0.332107\n",
      "Train Epoch: 3 [6400/60000 (11%)]\tTrain Loss: 0.294685\n",
      "Train Epoch: 3 [12800/60000 (21%)]\tTrain Loss: 0.261764\n",
      "Train Epoch: 3 [19200/60000 (32%)]\tTrain Loss: 0.709602\n",
      "Train Epoch: 3 [25600/60000 (43%)]\tTrain Loss: 0.563215\n",
      "Train Epoch: 3 [32000/60000 (53%)]\tTrain Loss: 0.294574\n",
      "Train Epoch: 3 [38400/60000 (64%)]\tTrain Loss: 0.250394\n",
      "Train Epoch: 3 [44800/60000 (75%)]\tTrain Loss: 0.187899\n",
      "Train Epoch: 3 [51200/60000 (85%)]\tTrain Loss: 0.135556\n",
      "Train Epoch: 3 [57600/60000 (96%)]\tTrain Loss: 0.246904\n",
      "\n",
      "[EPOCH: 3], \tTest Loss: 0.0046, \tTest Accuracy: 95.72 % \n",
      "\n",
      "Train Epoch: 4 [0/60000 (0%)]\tTrain Loss: 0.206658\n",
      "Train Epoch: 4 [6400/60000 (11%)]\tTrain Loss: 0.458795\n",
      "Train Epoch: 4 [12800/60000 (21%)]\tTrain Loss: 0.096971\n",
      "Train Epoch: 4 [19200/60000 (32%)]\tTrain Loss: 0.317376\n",
      "Train Epoch: 4 [25600/60000 (43%)]\tTrain Loss: 0.492119\n",
      "Train Epoch: 4 [32000/60000 (53%)]\tTrain Loss: 0.411519\n",
      "Train Epoch: 4 [38400/60000 (64%)]\tTrain Loss: 0.356881\n",
      "Train Epoch: 4 [44800/60000 (75%)]\tTrain Loss: 0.329790\n",
      "Train Epoch: 4 [51200/60000 (85%)]\tTrain Loss: 0.192338\n",
      "Train Epoch: 4 [57600/60000 (96%)]\tTrain Loss: 0.425367\n",
      "\n",
      "[EPOCH: 4], \tTest Loss: 0.0040, \tTest Accuracy: 96.04 % \n",
      "\n",
      "Train Epoch: 5 [0/60000 (0%)]\tTrain Loss: 0.367154\n",
      "Train Epoch: 5 [6400/60000 (11%)]\tTrain Loss: 0.349460\n",
      "Train Epoch: 5 [12800/60000 (21%)]\tTrain Loss: 0.167311\n",
      "Train Epoch: 5 [19200/60000 (32%)]\tTrain Loss: 0.454393\n",
      "Train Epoch: 5 [25600/60000 (43%)]\tTrain Loss: 0.242365\n",
      "Train Epoch: 5 [32000/60000 (53%)]\tTrain Loss: 0.274932\n",
      "Train Epoch: 5 [38400/60000 (64%)]\tTrain Loss: 0.092876\n",
      "Train Epoch: 5 [44800/60000 (75%)]\tTrain Loss: 0.382242\n",
      "Train Epoch: 5 [51200/60000 (85%)]\tTrain Loss: 0.310131\n",
      "Train Epoch: 5 [57600/60000 (96%)]\tTrain Loss: 0.198697\n",
      "\n",
      "[EPOCH: 5], \tTest Loss: 0.0037, \tTest Accuracy: 96.36 % \n",
      "\n",
      "Train Epoch: 6 [0/60000 (0%)]\tTrain Loss: 0.103377\n",
      "Train Epoch: 6 [6400/60000 (11%)]\tTrain Loss: 0.280404\n",
      "Train Epoch: 6 [12800/60000 (21%)]\tTrain Loss: 0.172385\n",
      "Train Epoch: 6 [19200/60000 (32%)]\tTrain Loss: 0.097667\n",
      "Train Epoch: 6 [25600/60000 (43%)]\tTrain Loss: 0.338154\n",
      "Train Epoch: 6 [32000/60000 (53%)]\tTrain Loss: 0.303911\n",
      "Train Epoch: 6 [38400/60000 (64%)]\tTrain Loss: 0.264984\n",
      "Train Epoch: 6 [44800/60000 (75%)]\tTrain Loss: 0.196140\n",
      "Train Epoch: 6 [51200/60000 (85%)]\tTrain Loss: 0.082778\n",
      "Train Epoch: 6 [57600/60000 (96%)]\tTrain Loss: 0.100698\n",
      "\n",
      "[EPOCH: 6], \tTest Loss: 0.0034, \tTest Accuracy: 96.67 % \n",
      "\n",
      "Train Epoch: 7 [0/60000 (0%)]\tTrain Loss: 0.072986\n",
      "Train Epoch: 7 [6400/60000 (11%)]\tTrain Loss: 0.440602\n",
      "Train Epoch: 7 [12800/60000 (21%)]\tTrain Loss: 0.169427\n",
      "Train Epoch: 7 [19200/60000 (32%)]\tTrain Loss: 0.229366\n",
      "Train Epoch: 7 [25600/60000 (43%)]\tTrain Loss: 0.176561\n",
      "Train Epoch: 7 [32000/60000 (53%)]\tTrain Loss: 0.115364\n",
      "Train Epoch: 7 [38400/60000 (64%)]\tTrain Loss: 0.103219\n",
      "Train Epoch: 7 [44800/60000 (75%)]\tTrain Loss: 0.521781\n",
      "Train Epoch: 7 [51200/60000 (85%)]\tTrain Loss: 0.087500\n",
      "Train Epoch: 7 [57600/60000 (96%)]\tTrain Loss: 0.063295\n",
      "\n",
      "[EPOCH: 7], \tTest Loss: 0.0032, \tTest Accuracy: 96.84 % \n",
      "\n",
      "Train Epoch: 8 [0/60000 (0%)]\tTrain Loss: 0.096225\n",
      "Train Epoch: 8 [6400/60000 (11%)]\tTrain Loss: 0.094863\n",
      "Train Epoch: 8 [12800/60000 (21%)]\tTrain Loss: 0.233731\n",
      "Train Epoch: 8 [19200/60000 (32%)]\tTrain Loss: 0.145346\n",
      "Train Epoch: 8 [25600/60000 (43%)]\tTrain Loss: 0.225715\n",
      "Train Epoch: 8 [32000/60000 (53%)]\tTrain Loss: 0.114755\n",
      "Train Epoch: 8 [38400/60000 (64%)]\tTrain Loss: 0.089963\n",
      "Train Epoch: 8 [44800/60000 (75%)]\tTrain Loss: 0.387808\n",
      "Train Epoch: 8 [51200/60000 (85%)]\tTrain Loss: 0.062623\n",
      "Train Epoch: 8 [57600/60000 (96%)]\tTrain Loss: 0.043881\n",
      "\n",
      "[EPOCH: 8], \tTest Loss: 0.0030, \tTest Accuracy: 97.01 % \n",
      "\n",
      "Train Epoch: 9 [0/60000 (0%)]\tTrain Loss: 0.128970\n",
      "Train Epoch: 9 [6400/60000 (11%)]\tTrain Loss: 0.069976\n",
      "Train Epoch: 9 [12800/60000 (21%)]\tTrain Loss: 0.170115\n",
      "Train Epoch: 9 [19200/60000 (32%)]\tTrain Loss: 0.194731\n",
      "Train Epoch: 9 [25600/60000 (43%)]\tTrain Loss: 0.046875\n",
      "Train Epoch: 9 [32000/60000 (53%)]\tTrain Loss: 0.159495\n",
      "Train Epoch: 9 [38400/60000 (64%)]\tTrain Loss: 0.099374\n",
      "Train Epoch: 9 [44800/60000 (75%)]\tTrain Loss: 0.218689\n",
      "Train Epoch: 9 [51200/60000 (85%)]\tTrain Loss: 0.043409\n",
      "Train Epoch: 9 [57600/60000 (96%)]\tTrain Loss: 0.142048\n",
      "\n",
      "[EPOCH: 9], \tTest Loss: 0.0028, \tTest Accuracy: 97.21 % \n",
      "\n",
      "Train Epoch: 10 [0/60000 (0%)]\tTrain Loss: 0.146501\n",
      "Train Epoch: 10 [6400/60000 (11%)]\tTrain Loss: 0.150261\n",
      "Train Epoch: 10 [12800/60000 (21%)]\tTrain Loss: 0.024006\n",
      "Train Epoch: 10 [19200/60000 (32%)]\tTrain Loss: 0.213103\n",
      "Train Epoch: 10 [25600/60000 (43%)]\tTrain Loss: 0.091767\n",
      "Train Epoch: 10 [32000/60000 (53%)]\tTrain Loss: 0.105722\n",
      "Train Epoch: 10 [38400/60000 (64%)]\tTrain Loss: 0.325208\n",
      "Train Epoch: 10 [44800/60000 (75%)]\tTrain Loss: 0.089067\n",
      "Train Epoch: 10 [51200/60000 (85%)]\tTrain Loss: 0.099319\n",
      "Train Epoch: 10 [57600/60000 (96%)]\tTrain Loss: 0.310101\n",
      "\n",
      "[EPOCH: 10], \tTest Loss: 0.0028, \tTest Accuracy: 97.27 % \n",
      "\n"
     ]
    }
   ],
   "source": [
    "''' 10. MLP 학습 실행하며 Train, Test set의 Loss 및 Test set Accuracy 확인하기 '''\n",
    "for epoch in range(1, EPOCHS + 1):\n",
    "    train(model, train_loader, optimizer, log_interval = 200)\n",
    "    test_loss, test_accuracy = evaluate(model, test_loader)\n",
    "    print(\"\\n[EPOCH: {}], \\tTest Loss: {:.4f}, \\tTest Accuracy: {:.2f} % \\n\".format(\n",
    "        epoch, test_loss, test_accuracy))"
   ]
  }
 ],
 "metadata": {
  "kernelspec": {
   "display_name": "Python 3",
   "language": "python",
   "name": "python3"
  },
  "language_info": {
   "codemirror_mode": {
    "name": "ipython",
    "version": 3
   },
   "file_extension": ".py",
   "mimetype": "text/x-python",
   "name": "python",
   "nbconvert_exporter": "python",
   "pygments_lexer": "ipython3",
   "version": "3.6.8"
  }
 },
 "nbformat": 4,
 "nbformat_minor": 4
}
