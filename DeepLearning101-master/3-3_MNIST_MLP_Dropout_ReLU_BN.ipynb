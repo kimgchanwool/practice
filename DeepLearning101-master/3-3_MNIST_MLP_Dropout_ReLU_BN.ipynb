{
 "cells": [
  {
   "cell_type": "code",
   "execution_count": 1,
   "metadata": {},
   "outputs": [],
   "source": [
    "''' 1. Module Import '''\n",
    "import numpy as np\n",
    "import matplotlib.pyplot as plt\n",
    "\n",
    "import torch\n",
    "import torch.nn as nn\n",
    "import torch.nn.functional as F\n",
    "from torchvision import transforms, datasets"
   ]
  },
  {
   "cell_type": "code",
   "execution_count": 2,
   "metadata": {},
   "outputs": [
    {
     "name": "stdout",
     "output_type": "stream",
     "text": [
      "Using PyTorch version: 1.10.0  Device: cpu\n"
     ]
    }
   ],
   "source": [
    "''' 2. 딥러닝 모델을 설계할 때 활용하는 장비 확인 '''\n",
    "if torch.cuda.is_available():\n",
    "    DEVICE = torch.device('cuda')\n",
    "else:\n",
    "    DEVICE = torch.device('cpu')\n",
    "print('Using PyTorch version:', torch.__version__, ' Device:', DEVICE)"
   ]
  },
  {
   "cell_type": "code",
   "execution_count": 3,
   "metadata": {},
   "outputs": [],
   "source": [
    "BATCH_SIZE = 32\n",
    "EPOCHS = 10"
   ]
  },
  {
   "cell_type": "code",
   "execution_count": 4,
   "metadata": {},
   "outputs": [],
   "source": [
    "''' 3. MNIST 데이터 다운로드 (Train set, Test set 분리하기) '''\n",
    "train_dataset = datasets.MNIST(root = \"../data/MNIST\",\n",
    "                               train = True,\n",
    "                               download = True,\n",
    "                               transform = transforms.ToTensor())\n",
    "\n",
    "test_dataset = datasets.MNIST(root = \"../data/MNIST\",\n",
    "                              train = False,\n",
    "                              transform = transforms.ToTensor())\n",
    "\n",
    "train_loader = torch.utils.data.DataLoader(dataset = train_dataset,\n",
    "                                           batch_size = BATCH_SIZE,\n",
    "                                           shuffle = True)\n",
    "\n",
    "test_loader = torch.utils.data.DataLoader(dataset = test_dataset,\n",
    "                                          batch_size = BATCH_SIZE,\n",
    "                                          shuffle = False)"
   ]
  },
  {
   "cell_type": "code",
   "execution_count": 5,
   "metadata": {},
   "outputs": [
    {
     "name": "stdout",
     "output_type": "stream",
     "text": [
      "X_train: torch.Size([32, 1, 28, 28]) type: torch.FloatTensor\n",
      "y_train: torch.Size([32]) type: torch.LongTensor\n"
     ]
    }
   ],
   "source": [
    "''' 4. 데이터 확인하기 (1) '''\n",
    "for (X_train, y_train) in train_loader:\n",
    "    print('X_train:', X_train.size(), 'type:', X_train.type())\n",
    "    print('y_train:', y_train.size(), 'type:', y_train.type())\n",
    "    break"
   ]
  },
  {
   "cell_type": "code",
   "execution_count": 6,
   "metadata": {},
   "outputs": [
    {
     "data": {
      "image/png": "[encoded data removed]",
      "text/plain": [
       "<Figure size 720x72 with 10 Axes>"
      ]
     },
     "metadata": {
      "needs_background": "light"
     },
     "output_type": "display_data"
    }
   ],
   "source": [
    "''' 5. 데이터 확인하기 (2) '''\n",
    "pltsize = 1\n",
    "plt.figure(figsize=(10 * pltsize, pltsize))\n",
    "for i in range(10):\n",
    "    plt.subplot(1, 10, i + 1)\n",
    "    plt.axis('off')\n",
    "    plt.imshow(X_train[i, :, :, :].numpy().reshape(28, 28), cmap = \"gray_r\")\n",
    "    plt.title('Class: ' + str(y_train[i].item()))"
   ]
  },
  {
   "cell_type": "code",
   "execution_count": 7,
   "metadata": {},
   "outputs": [],
   "source": [
    "''' 6. Multi Layer Perceptron (MLP) 모델 설계하기 '''\n",
    "class Net(nn.Module):\n",
    "    def __init__(self):\n",
    "        super(Net, self).__init__()\n",
    "        self.fc1 = nn.Linear(28 * 28, 512)\n",
    "        self.fc2 = nn.Linear(512, 256)\n",
    "        self.fc3 = nn.Linear(256, 10)\n",
    "        self.dropout_prob = 0.5\n",
    "        self.batch_norm1 = nn.BatchNorm1d(512)\n",
    "        self.batch_norm2 = nn.BatchNorm1d(256)\n",
    "\n",
    "    def forward(self, x):\n",
    "        x = x.view(-1, 28 * 28)\n",
    "        x = self.fc1(x)\n",
    "        x = self.batch_norm1(x)\n",
    "        x = F.relu(x)\n",
    "        x = F.dropout(x, training = self.training, p = self.dropout_prob)\n",
    "        x = self.fc2(x)\n",
    "        x = self.batch_norm2(x)\n",
    "        x = F.relu(x)\n",
    "        x = F.dropout(x, training = self.training, p = self.dropout_prob)\n",
    "        x = self.fc3(x)\n",
    "        x = F.log_softmax(x, dim = 1)\n",
    "        return x"
   ]
  },
  {
   "cell_type": "code",
   "execution_count": 8,
   "metadata": {},
   "outputs": [
    {
     "name": "stdout",
     "output_type": "stream",
     "text": [
      "Net(\n",
      "  (fc1): Linear(in_features=784, out_features=512, bias=True)\n",
      "  (fc2): Linear(in_features=512, out_features=256, bias=True)\n",
      "  (fc3): Linear(in_features=256, out_features=10, bias=True)\n",
      "  (batch_norm1): BatchNorm1d(512, eps=1e-05, momentum=0.1, affine=True, track_running_stats=True)\n",
      "  (batch_norm2): BatchNorm1d(256, eps=1e-05, momentum=0.1, affine=True, track_running_stats=True)\n",
      ")\n"
     ]
    }
   ],
   "source": [
    "''' 7. Optimizer, Objective Function 설정하기 '''\n",
    "model = Net().to(DEVICE)\n",
    "optimizer = torch.optim.SGD(model.parameters(), lr = 0.01, momentum = 0.5)\n",
    "criterion = nn.CrossEntropyLoss()\n",
    "\n",
    "print(model)"
   ]
  },
  {
   "cell_type": "code",
   "execution_count": 9,
   "metadata": {},
   "outputs": [],
   "source": [
    "''' 8. MLP 모델 학습을 진행하며 학습 데이터에 대한 모델 성능을 확인하는 함수 정의 '''\n",
    "def train(model, train_loader, optimizer, log_interval):\n",
    "    model.train()\n",
    "    for batch_idx, (image, label) in enumerate(train_loader):\n",
    "        image = image.to(DEVICE)\n",
    "        label = label.to(DEVICE)\n",
    "        optimizer.zero_grad()\n",
    "        output = model(image)\n",
    "        loss = criterion(output, label)\n",
    "        loss.backward()\n",
    "        optimizer.step()\n",
    "\n",
    "        if batch_idx % log_interval == 0:\n",
    "            print(\"Train Epoch: {} [{}/{} ({:.0f}%)]\\tTrain Loss: {:.6f}\".format(\n",
    "                epoch, batch_idx * len(image), \n",
    "                len(train_loader.dataset), 100. * batch_idx / len(train_loader), \n",
    "                loss.item()))"
   ]
  },
  {
   "cell_type": "code",
   "execution_count": 10,
   "metadata": {},
   "outputs": [],
   "source": [
    "''' 9. 학습되는 과정 속에서 검증 데이터에 대한 모델 성능을 확인하는 함수 정의 '''\n",
    "def evaluate(model, test_loader):\n",
    "    model.eval()\n",
    "    test_loss = 0\n",
    "    correct = 0\n",
    "\n",
    "    with torch.no_grad():\n",
    "        for image, label in test_loader:\n",
    "            image = image.to(DEVICE)\n",
    "            label = label.to(DEVICE)\n",
    "            output = model(image)\n",
    "            test_loss += criterion(output, label).item()\n",
    "            prediction = output.max(1, keepdim = True)[1]\n",
    "            correct += prediction.eq(label.view_as(prediction)).sum().item()\n",
    "    \n",
    "    test_loss /= (len(test_loader.dataset) / BATCH_SIZE)\n",
    "    test_accuracy = 100. * correct / len(test_loader.dataset)\n",
    "    return test_loss, test_accuracy"
   ]
  },
  {
   "cell_type": "code",
   "execution_count": 11,
   "metadata": {},
   "outputs": [
    {
     "name": "stdout",
     "output_type": "stream",
     "text": [
      "Train Epoch: 1 [0/60000 (0%)]\tTrain Loss: 2.446667\n",
      "Train Epoch: 1 [6400/60000 (11%)]\tTrain Loss: 0.761621\n",
      "Train Epoch: 1 [12800/60000 (21%)]\tTrain Loss: 0.269249\n",
      "Train Epoch: 1 [19200/60000 (32%)]\tTrain Loss: 0.269965\n",
      "Train Epoch: 1 [25600/60000 (43%)]\tTrain Loss: 0.663628\n",
      "Train Epoch: 1 [32000/60000 (53%)]\tTrain Loss: 0.359479\n",
      "Train Epoch: 1 [38400/60000 (64%)]\tTrain Loss: 0.380110\n",
      "Train Epoch: 1 [44800/60000 (75%)]\tTrain Loss: 0.505651\n",
      "Train Epoch: 1 [51200/60000 (85%)]\tTrain Loss: 0.517738\n",
      "Train Epoch: 1 [57600/60000 (96%)]\tTrain Loss: 0.619650\n",
      "\n",
      "[EPOCH: 1], \tTest Loss: 0.1546, \tTest Accuracy: 95.39 % \n",
      "\n",
      "Train Epoch: 2 [0/60000 (0%)]\tTrain Loss: 0.170864\n",
      "Train Epoch: 2 [6400/60000 (11%)]\tTrain Loss: 0.288838\n",
      "Train Epoch: 2 [12800/60000 (21%)]\tTrain Loss: 0.077747\n",
      "Train Epoch: 2 [19200/60000 (32%)]\tTrain Loss: 0.362548\n",
      "Train Epoch: 2 [25600/60000 (43%)]\tTrain Loss: 0.122133\n",
      "Train Epoch: 2 [32000/60000 (53%)]\tTrain Loss: 0.298845\n",
      "Train Epoch: 2 [38400/60000 (64%)]\tTrain Loss: 0.309627\n",
      "Train Epoch: 2 [44800/60000 (75%)]\tTrain Loss: 0.247505\n",
      "Train Epoch: 2 [51200/60000 (85%)]\tTrain Loss: 0.440852\n",
      "Train Epoch: 2 [57600/60000 (96%)]\tTrain Loss: 0.118291\n",
      "\n",
      "[EPOCH: 2], \tTest Loss: 0.1142, \tTest Accuracy: 96.50 % \n",
      "\n",
      "Train Epoch: 3 [0/60000 (0%)]\tTrain Loss: 0.338570\n",
      "Train Epoch: 3 [6400/60000 (11%)]\tTrain Loss: 0.265298\n",
      "Train Epoch: 3 [12800/60000 (21%)]\tTrain Loss: 0.690069\n",
      "Train Epoch: 3 [19200/60000 (32%)]\tTrain Loss: 0.188114\n",
      "Train Epoch: 3 [25600/60000 (43%)]\tTrain Loss: 0.242190\n",
      "Train Epoch: 3 [32000/60000 (53%)]\tTrain Loss: 0.356463\n",
      "Train Epoch: 3 [38400/60000 (64%)]\tTrain Loss: 0.208654\n",
      "Train Epoch: 3 [44800/60000 (75%)]\tTrain Loss: 0.234388\n",
      "Train Epoch: 3 [51200/60000 (85%)]\tTrain Loss: 0.389791\n",
      "Train Epoch: 3 [57600/60000 (96%)]\tTrain Loss: 0.232703\n",
      "\n",
      "[EPOCH: 3], \tTest Loss: 0.0985, \tTest Accuracy: 97.07 % \n",
      "\n",
      "Train Epoch: 4 [0/60000 (0%)]\tTrain Loss: 0.151864\n",
      "Train Epoch: 4 [6400/60000 (11%)]\tTrain Loss: 0.096272\n",
      "Train Epoch: 4 [12800/60000 (21%)]\tTrain Loss: 0.401645\n",
      "Train Epoch: 4 [19200/60000 (32%)]\tTrain Loss: 0.138156\n",
      "Train Epoch: 4 [25600/60000 (43%)]\tTrain Loss: 0.049331\n",
      "Train Epoch: 4 [32000/60000 (53%)]\tTrain Loss: 0.135616\n",
      "Train Epoch: 4 [38400/60000 (64%)]\tTrain Loss: 0.159127\n",
      "Train Epoch: 4 [44800/60000 (75%)]\tTrain Loss: 0.282660\n",
      "Train Epoch: 4 [51200/60000 (85%)]\tTrain Loss: 0.297571\n",
      "Train Epoch: 4 [57600/60000 (96%)]\tTrain Loss: 0.206841\n",
      "\n",
      "[EPOCH: 4], \tTest Loss: 0.0884, \tTest Accuracy: 97.41 % \n",
      "\n",
      "Train Epoch: 5 [0/60000 (0%)]\tTrain Loss: 0.209531\n",
      "Train Epoch: 5 [6400/60000 (11%)]\tTrain Loss: 0.199125\n",
      "Train Epoch: 5 [12800/60000 (21%)]\tTrain Loss: 0.113652\n",
      "Train Epoch: 5 [19200/60000 (32%)]\tTrain Loss: 0.136332\n",
      "Train Epoch: 5 [25600/60000 (43%)]\tTrain Loss: 0.101158\n",
      "Train Epoch: 5 [32000/60000 (53%)]\tTrain Loss: 0.161286\n",
      "Train Epoch: 5 [38400/60000 (64%)]\tTrain Loss: 0.200530\n",
      "Train Epoch: 5 [44800/60000 (75%)]\tTrain Loss: 0.241860\n",
      "Train Epoch: 5 [51200/60000 (85%)]\tTrain Loss: 0.070365\n",
      "Train Epoch: 5 [57600/60000 (96%)]\tTrain Loss: 0.251295\n",
      "\n",
      "[EPOCH: 5], \tTest Loss: 0.0823, \tTest Accuracy: 97.51 % \n",
      "\n",
      "Train Epoch: 6 [0/60000 (0%)]\tTrain Loss: 0.124183\n",
      "Train Epoch: 6 [6400/60000 (11%)]\tTrain Loss: 0.138909\n",
      "Train Epoch: 6 [12800/60000 (21%)]\tTrain Loss: 0.128120\n",
      "Train Epoch: 6 [19200/60000 (32%)]\tTrain Loss: 0.546785\n",
      "Train Epoch: 6 [25600/60000 (43%)]\tTrain Loss: 0.046453\n",
      "Train Epoch: 6 [32000/60000 (53%)]\tTrain Loss: 0.244719\n",
      "Train Epoch: 6 [38400/60000 (64%)]\tTrain Loss: 0.078303\n",
      "Train Epoch: 6 [44800/60000 (75%)]\tTrain Loss: 0.036013\n",
      "Train Epoch: 6 [51200/60000 (85%)]\tTrain Loss: 0.127257\n",
      "Train Epoch: 6 [57600/60000 (96%)]\tTrain Loss: 0.118979\n",
      "\n",
      "[EPOCH: 6], \tTest Loss: 0.0777, \tTest Accuracy: 97.68 % \n",
      "\n",
      "Train Epoch: 7 [0/60000 (0%)]\tTrain Loss: 0.404284\n",
      "Train Epoch: 7 [6400/60000 (11%)]\tTrain Loss: 0.153777\n",
      "Train Epoch: 7 [12800/60000 (21%)]\tTrain Loss: 0.194029\n",
      "Train Epoch: 7 [19200/60000 (32%)]\tTrain Loss: 0.025465\n",
      "Train Epoch: 7 [25600/60000 (43%)]\tTrain Loss: 0.141270\n",
      "Train Epoch: 7 [32000/60000 (53%)]\tTrain Loss: 0.083910\n",
      "Train Epoch: 7 [38400/60000 (64%)]\tTrain Loss: 0.086433\n",
      "Train Epoch: 7 [44800/60000 (75%)]\tTrain Loss: 0.014940\n",
      "Train Epoch: 7 [51200/60000 (85%)]\tTrain Loss: 0.044196\n",
      "Train Epoch: 7 [57600/60000 (96%)]\tTrain Loss: 0.151366\n",
      "\n",
      "[EPOCH: 7], \tTest Loss: 0.0706, \tTest Accuracy: 97.81 % \n",
      "\n",
      "Train Epoch: 8 [0/60000 (0%)]\tTrain Loss: 0.083914\n",
      "Train Epoch: 8 [6400/60000 (11%)]\tTrain Loss: 0.089575\n",
      "Train Epoch: 8 [12800/60000 (21%)]\tTrain Loss: 0.134559\n",
      "Train Epoch: 8 [19200/60000 (32%)]\tTrain Loss: 0.308229\n",
      "Train Epoch: 8 [25600/60000 (43%)]\tTrain Loss: 0.078997\n",
      "Train Epoch: 8 [32000/60000 (53%)]\tTrain Loss: 0.074630\n",
      "Train Epoch: 8 [38400/60000 (64%)]\tTrain Loss: 0.090604\n",
      "Train Epoch: 8 [44800/60000 (75%)]\tTrain Loss: 0.037105\n",
      "Train Epoch: 8 [51200/60000 (85%)]\tTrain Loss: 0.018778\n",
      "Train Epoch: 8 [57600/60000 (96%)]\tTrain Loss: 0.206317\n",
      "\n",
      "[EPOCH: 8], \tTest Loss: 0.0712, \tTest Accuracy: 97.83 % \n",
      "\n",
      "Train Epoch: 9 [0/60000 (0%)]\tTrain Loss: 0.048907\n",
      "Train Epoch: 9 [6400/60000 (11%)]\tTrain Loss: 0.016819\n",
      "Train Epoch: 9 [12800/60000 (21%)]\tTrain Loss: 0.024379\n",
      "Train Epoch: 9 [19200/60000 (32%)]\tTrain Loss: 0.272531\n",
      "Train Epoch: 9 [25600/60000 (43%)]\tTrain Loss: 0.146810\n",
      "Train Epoch: 9 [32000/60000 (53%)]\tTrain Loss: 0.117567\n",
      "Train Epoch: 9 [38400/60000 (64%)]\tTrain Loss: 0.116746\n",
      "Train Epoch: 9 [44800/60000 (75%)]\tTrain Loss: 0.284591\n",
      "Train Epoch: 9 [51200/60000 (85%)]\tTrain Loss: 0.259703\n",
      "Train Epoch: 9 [57600/60000 (96%)]\tTrain Loss: 0.277605\n",
      "\n",
      "[EPOCH: 9], \tTest Loss: 0.0641, \tTest Accuracy: 98.05 % \n",
      "\n",
      "Train Epoch: 10 [0/60000 (0%)]\tTrain Loss: 0.328512\n",
      "Train Epoch: 10 [6400/60000 (11%)]\tTrain Loss: 0.051016\n",
      "Train Epoch: 10 [12800/60000 (21%)]\tTrain Loss: 0.196000\n",
      "Train Epoch: 10 [19200/60000 (32%)]\tTrain Loss: 0.083673\n",
      "Train Epoch: 10 [25600/60000 (43%)]\tTrain Loss: 0.111169\n",
      "Train Epoch: 10 [32000/60000 (53%)]\tTrain Loss: 0.246110\n",
      "Train Epoch: 10 [38400/60000 (64%)]\tTrain Loss: 0.189339\n",
      "Train Epoch: 10 [44800/60000 (75%)]\tTrain Loss: 0.196179\n",
      "Train Epoch: 10 [51200/60000 (85%)]\tTrain Loss: 0.013134\n",
      "Train Epoch: 10 [57600/60000 (96%)]\tTrain Loss: 0.079595\n",
      "\n",
      "[EPOCH: 10], \tTest Loss: 0.0623, \tTest Accuracy: 97.96 % \n",
      "\n"
     ]
    }
   ],
   "source": [
    "''' 10. MLP 학습 실행하며 Train, Test set의 Loss 및 Test set Accuracy 확인하기 '''\n",
    "for epoch in range(1, EPOCHS + 1):\n",
    "    train(model, train_loader, optimizer, log_interval = 200)\n",
    "    test_loss, test_accuracy = evaluate(model, test_loader)\n",
    "    print(\"\\n[EPOCH: {}], \\tTest Loss: {:.4f}, \\tTest Accuracy: {:.2f} % \\n\".format(\n",
    "        epoch, test_loss, test_accuracy))"
   ]
  }
 ],
 "metadata": {
  "kernelspec": {
   "display_name": "Python 3",
   "language": "python",
   "name": "python3"
  },
  "language_info": {
   "codemirror_mode": {
    "name": "ipython",
    "version": 3
   },
   "file_extension": ".py",
   "mimetype": "text/x-python",
   "name": "python",
   "nbconvert_exporter": "python",
   "pygments_lexer": "ipython3",
   "version": "3.8.8"
  }
 },
 "nbformat": 4,
 "nbformat_minor": 4
}
