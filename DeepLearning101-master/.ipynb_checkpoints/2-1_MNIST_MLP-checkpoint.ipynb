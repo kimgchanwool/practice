{
 "cells": [
  {
   "cell_type": "code",
   "execution_count": 1,
   "metadata": {},
   "outputs": [],
   "source": [
    "''' 1. Module Import '''\n",
    "import numpy as np\n",
    "import matplotlib.pyplot as plt\n",
    "\n",
    "import torch\n",
    "import torch.nn as nn\n",
    "import torch.nn.functional as F\n",
    "from torchvision import transforms, datasets"
   ]
  },
  {
   "cell_type": "code",
   "execution_count": 2,
   "metadata": {},
   "outputs": [
    {
     "name": "stdout",
     "output_type": "stream",
     "text": [
      "Using PyTorch version: 1.6.0+cu101  Device: cuda\n"
     ]
    }
   ],
   "source": [
    "''' 2. 딥러닝 모델을 설계할 때 활용하는 장비 확인 '''\n",
    "if torch.cuda.is_available():\n",
    "    DEVICE = torch.device('cuda')\n",
    "else:\n",
    "    DEVICE = torch.device('cpu')\n",
    "\n",
    "print('Using PyTorch version:', torch.__version__, ' Device:', DEVICE)"
   ]
  },
  {
   "cell_type": "code",
   "execution_count": 3,
   "metadata": {},
   "outputs": [],
   "source": [
    "BATCH_SIZE = 32\n",
    "EPOCHS = 10"
   ]
  },
  {
   "cell_type": "code",
   "execution_count": 4,
   "metadata": {},
   "outputs": [
    {
     "name": "stdout",
     "output_type": "stream",
     "text": [
      "Downloading http://yann.lecun.com/exdb/mnist/train-images-idx3-ubyte.gz to ../data/MNIST\\MNIST\\raw\\train-images-idx3-ubyte.gz\n"
     ]
    },
    {
     "name": "stderr",
     "output_type": "stream",
     "text": [
      "100.1%"
     ]
    },
    {
     "name": "stdout",
     "output_type": "stream",
     "text": [
      "Extracting ../data/MNIST\\MNIST\\raw\\train-images-idx3-ubyte.gz to ../data/MNIST\\MNIST\\raw\n",
      "Downloading http://yann.lecun.com/exdb/mnist/train-labels-idx1-ubyte.gz to ../data/MNIST\\MNIST\\raw\\train-labels-idx1-ubyte.gz\n"
     ]
    },
    {
     "name": "stderr",
     "output_type": "stream",
     "text": [
      "113.5%"
     ]
    },
    {
     "name": "stdout",
     "output_type": "stream",
     "text": [
      "Extracting ../data/MNIST\\MNIST\\raw\\train-labels-idx1-ubyte.gz to ../data/MNIST\\MNIST\\raw\n",
      "Downloading http://yann.lecun.com/exdb/mnist/t10k-images-idx3-ubyte.gz to ../data/MNIST\\MNIST\\raw\\t10k-images-idx3-ubyte.gz\n"
     ]
    },
    {
     "name": "stderr",
     "output_type": "stream",
     "text": [
      "100.4%"
     ]
    },
    {
     "name": "stdout",
     "output_type": "stream",
     "text": [
      "Extracting ../data/MNIST\\MNIST\\raw\\t10k-images-idx3-ubyte.gz to ../data/MNIST\\MNIST\\raw\n",
      "Downloading http://yann.lecun.com/exdb/mnist/t10k-labels-idx1-ubyte.gz to ../data/MNIST\\MNIST\\raw\\t10k-labels-idx1-ubyte.gz\n"
     ]
    },
    {
     "name": "stderr",
     "output_type": "stream",
     "text": [
      "180.4%c:\\users\\justin\\101\\lib\\site-packages\\torchvision\\datasets\\mnist.py:469: UserWarning: The given NumPy array is not writeable, and PyTorch does not support non-writeable tensors. This means you can write to the underlying (supposedly non-writeable) NumPy array using the tensor. You may want to copy the array to protect its data or make it writeable before converting it to a tensor. This type of warning will be suppressed for the rest of this program. (Triggered internally at  ..\\torch\\csrc\\utils\\tensor_numpy.cpp:141.)\n",
      "  return torch.from_numpy(parsed.astype(m[2], copy=False)).view(*s)\n"
     ]
    },
    {
     "name": "stdout",
     "output_type": "stream",
     "text": [
      "Extracting ../data/MNIST\\MNIST\\raw\\t10k-labels-idx1-ubyte.gz to ../data/MNIST\\MNIST\\raw\n",
      "Processing...\n",
      "Done!\n"
     ]
    }
   ],
   "source": [
    "''' 3. MNIST 데이터 다운로드 (Train set, Test set 분리하기) '''\n",
    "train_dataset = datasets.MNIST(root = \"../data/MNIST\",\n",
    "                               train = True,\n",
    "                               download = True,\n",
    "                               transform = transforms.ToTensor())\n",
    "\n",
    "test_dataset = datasets.MNIST(root = \"../data/MNIST\",\n",
    "                              train = False,\n",
    "                              transform = transforms.ToTensor())\n",
    "\n",
    "train_loader = torch.utils.data.DataLoader(dataset = train_dataset,\n",
    "                                           batch_size = BATCH_SIZE,\n",
    "                                           shuffle = True)\n",
    "\n",
    "test_loader = torch.utils.data.DataLoader(dataset = test_dataset,\n",
    "                                          batch_size = BATCH_SIZE,\n",
    "                                          shuffle = False)"
   ]
  },
  {
   "cell_type": "code",
   "execution_count": 5,
   "metadata": {},
   "outputs": [
    {
     "name": "stdout",
     "output_type": "stream",
     "text": [
      "X_train: torch.Size([32, 1, 28, 28]) type: torch.FloatTensor\n",
      "y_train: torch.Size([32]) type: torch.LongTensor\n"
     ]
    }
   ],
   "source": [
    "''' 4. 데이터 확인하기 (1) '''\n",
    "for (X_train, y_train) in train_loader:\n",
    "    print('X_train:', X_train.size(), 'type:', X_train.type())\n",
    "    print('y_train:', y_train.size(), 'type:', y_train.type())\n",
    "    break"
   ]
  },
  {
   "cell_type": "code",
   "execution_count": 6,
   "metadata": {},
   "outputs": [
    {
     "data": {
      "image/png": "[encoded data removed]",
      "text/plain": [
       "<Figure size 720x72 with 10 Axes>"
      ]
     },
     "metadata": {
      "needs_background": "light"
     },
     "output_type": "display_data"
    }
   ],
   "source": [
    "''' 5. 데이터 확인하기 (2) '''\n",
    "pltsize = 1\n",
    "plt.figure(figsize=(10 * pltsize, pltsize))\n",
    "for i in range(10):\n",
    "    plt.subplot(1, 10, i + 1)\n",
    "    plt.axis('off')\n",
    "    plt.imshow(X_train[i, :, :, :].numpy().reshape(28, 28), cmap = \"gray_r\")\n",
    "    plt.title('Class: ' + str(y_train[i].item()))"
   ]
  },
  {
   "cell_type": "code",
   "execution_count": 7,
   "metadata": {},
   "outputs": [],
   "source": [
    "''' 6. Multi Layer Perceptron (MLP) 모델 설계하기 '''\n",
    "class Net(nn.Module):\n",
    "    def __init__(self):\n",
    "        super(Net, self).__init__()\n",
    "        self.fc1 = nn.Linear(28 * 28, 512)\n",
    "        self.fc2 = nn.Linear(512, 256)\n",
    "        self.fc3 = nn.Linear(256, 10)\n",
    "\n",
    "    def forward(self, x):\n",
    "        x = x.view(-1, 28 * 28)\n",
    "        x = self.fc1(x)\n",
    "        x = F.sigmoid(x)\n",
    "        x = self.fc2(x)\n",
    "        x = F.sigmoid(x)\n",
    "        x = self.fc3(x)\n",
    "        x = F.log_softmax(x, dim = 1)\n",
    "        return x"
   ]
  },
  {
   "cell_type": "code",
   "execution_count": 8,
   "metadata": {},
   "outputs": [
    {
     "name": "stdout",
     "output_type": "stream",
     "text": [
      "Net(\n",
      "  (fc1): Linear(in_features=784, out_features=512, bias=True)\n",
      "  (fc2): Linear(in_features=512, out_features=256, bias=True)\n",
      "  (fc3): Linear(in_features=256, out_features=10, bias=True)\n",
      ")\n"
     ]
    }
   ],
   "source": [
    "''' 7. Optimizer, Objective Function 설정하기 '''\n",
    "model = Net().to(DEVICE)\n",
    "optimizer = torch.optim.SGD(model.parameters(), lr = 0.01, momentum = 0.5)\n",
    "criterion = nn.CrossEntropyLoss()\n",
    "\n",
    "print(model)"
   ]
  },
  {
   "cell_type": "code",
   "execution_count": 9,
   "metadata": {},
   "outputs": [],
   "source": [
    "''' 8. MLP 모델 학습을 진행하며 학습 데이터에 대한 모델 성능을 확인하는 함수 정의 '''\n",
    "def train(model, train_loader, optimizer, log_interval):\n",
    "    model.train()\n",
    "    for batch_idx, (image, label) in enumerate(train_loader):\n",
    "        image = image.to(DEVICE)\n",
    "        label = label.to(DEVICE)\n",
    "        optimizer.zero_grad()\n",
    "        output = model(image)\n",
    "        loss = criterion(output, label)\n",
    "        loss.backward()\n",
    "        optimizer.step()\n",
    "\n",
    "        if batch_idx % log_interval == 0:\n",
    "            print(\"Train Epoch: {} [{}/{} ({:.0f}%)]\\tTrain Loss: {:.6f}\".format(\n",
    "                epoch, batch_idx * len(image), \n",
    "                len(train_loader.dataset), 100. * batch_idx / len(train_loader), \n",
    "                loss.item()))"
   ]
  },
  {
   "cell_type": "code",
   "execution_count": 10,
   "metadata": {},
   "outputs": [],
   "source": [
    "''' 9. 학습되는 과정 속에서 검증 데이터에 대한 모델 성능을 확인하는 함수 정의 '''\n",
    "def evaluate(model, test_loader):\n",
    "    model.eval()\n",
    "    test_loss = 0\n",
    "    correct = 0\n",
    "\n",
    "    with torch.no_grad():\n",
    "        for image, label in test_loader:\n",
    "            image = image.to(DEVICE)\n",
    "            label = label.to(DEVICE)\n",
    "            output = model(image)\n",
    "            test_loss += criterion(output, label).item()\n",
    "            prediction = output.max(1, keepdim = True)[1]\n",
    "            correct += prediction.eq(label.view_as(prediction)).sum().item()\n",
    "    \n",
    "    test_loss /= (len(test_loader.dataset) / BATCH_SIZE)\n",
    "    test_accuracy = 100. * correct / len(test_loader.dataset)\n",
    "    return test_loss, test_accuracy"
   ]
  },
  {
   "cell_type": "code",
   "execution_count": 11,
   "metadata": {},
   "outputs": [
    {
     "name": "stderr",
     "output_type": "stream",
     "text": [
      "c:\\users\\justin\\101\\lib\\site-packages\\torch\\nn\\functional.py:1625: UserWarning: nn.functional.sigmoid is deprecated. Use torch.sigmoid instead.\n",
      "  warnings.warn(\"nn.functional.sigmoid is deprecated. Use torch.sigmoid instead.\")\n"
     ]
    },
    {
     "name": "stdout",
     "output_type": "stream",
     "text": [
      "Train Epoch: 1 [0/60000 (0%)]\tTrain Loss: 2.270418\n",
      "Train Epoch: 1 [6400/60000 (11%)]\tTrain Loss: 2.314499\n",
      "Train Epoch: 1 [12800/60000 (21%)]\tTrain Loss: 2.337222\n",
      "Train Epoch: 1 [19200/60000 (32%)]\tTrain Loss: 2.327368\n",
      "Train Epoch: 1 [25600/60000 (43%)]\tTrain Loss: 2.300396\n",
      "Train Epoch: 1 [32000/60000 (53%)]\tTrain Loss: 2.318115\n",
      "Train Epoch: 1 [38400/60000 (64%)]\tTrain Loss: 2.284231\n",
      "Train Epoch: 1 [44800/60000 (75%)]\tTrain Loss: 2.300245\n",
      "Train Epoch: 1 [51200/60000 (85%)]\tTrain Loss: 2.254090\n",
      "Train Epoch: 1 [57600/60000 (96%)]\tTrain Loss: 2.202278\n",
      "\n",
      "[EPOCH: 1], \tTest Loss: 0.0697, \tTest Accuracy: 29.01 % \n",
      "\n",
      "Train Epoch: 2 [0/60000 (0%)]\tTrain Loss: 2.242800\n",
      "Train Epoch: 2 [6400/60000 (11%)]\tTrain Loss: 2.179223\n",
      "Train Epoch: 2 [12800/60000 (21%)]\tTrain Loss: 2.138005\n",
      "Train Epoch: 2 [19200/60000 (32%)]\tTrain Loss: 2.170197\n",
      "Train Epoch: 2 [25600/60000 (43%)]\tTrain Loss: 1.979321\n",
      "Train Epoch: 2 [32000/60000 (53%)]\tTrain Loss: 1.977249\n",
      "Train Epoch: 2 [38400/60000 (64%)]\tTrain Loss: 1.841060\n",
      "Train Epoch: 2 [44800/60000 (75%)]\tTrain Loss: 1.578944\n",
      "Train Epoch: 2 [51200/60000 (85%)]\tTrain Loss: 1.333097\n",
      "Train Epoch: 2 [57600/60000 (96%)]\tTrain Loss: 1.292717\n",
      "\n",
      "[EPOCH: 2], \tTest Loss: 0.0405, \tTest Accuracy: 59.94 % \n",
      "\n",
      "Train Epoch: 3 [0/60000 (0%)]\tTrain Loss: 1.350040\n",
      "Train Epoch: 3 [6400/60000 (11%)]\tTrain Loss: 1.108275\n",
      "Train Epoch: 3 [12800/60000 (21%)]\tTrain Loss: 1.228229\n",
      "Train Epoch: 3 [19200/60000 (32%)]\tTrain Loss: 0.840979\n",
      "Train Epoch: 3 [25600/60000 (43%)]\tTrain Loss: 1.149129\n",
      "Train Epoch: 3 [32000/60000 (53%)]\tTrain Loss: 0.817084\n",
      "Train Epoch: 3 [38400/60000 (64%)]\tTrain Loss: 0.726040\n",
      "Train Epoch: 3 [44800/60000 (75%)]\tTrain Loss: 0.677365\n",
      "Train Epoch: 3 [51200/60000 (85%)]\tTrain Loss: 0.687687\n",
      "Train Epoch: 3 [57600/60000 (96%)]\tTrain Loss: 0.706228\n",
      "\n",
      "[EPOCH: 3], \tTest Loss: 0.0234, \tTest Accuracy: 76.37 % \n",
      "\n",
      "Train Epoch: 4 [0/60000 (0%)]\tTrain Loss: 0.642033\n",
      "Train Epoch: 4 [6400/60000 (11%)]\tTrain Loss: 0.556261\n",
      "Train Epoch: 4 [12800/60000 (21%)]\tTrain Loss: 0.742772\n",
      "Train Epoch: 4 [19200/60000 (32%)]\tTrain Loss: 0.537587\n",
      "Train Epoch: 4 [25600/60000 (43%)]\tTrain Loss: 0.595226\n",
      "Train Epoch: 4 [32000/60000 (53%)]\tTrain Loss: 0.893857\n",
      "Train Epoch: 4 [38400/60000 (64%)]\tTrain Loss: 0.647423\n",
      "Train Epoch: 4 [44800/60000 (75%)]\tTrain Loss: 0.552081\n",
      "Train Epoch: 4 [51200/60000 (85%)]\tTrain Loss: 0.702890\n",
      "Train Epoch: 4 [57600/60000 (96%)]\tTrain Loss: 0.587206\n",
      "\n",
      "[EPOCH: 4], \tTest Loss: 0.0169, \tTest Accuracy: 84.14 % \n",
      "\n",
      "Train Epoch: 5 [0/60000 (0%)]\tTrain Loss: 0.721801\n",
      "Train Epoch: 5 [6400/60000 (11%)]\tTrain Loss: 0.508540\n",
      "Train Epoch: 5 [12800/60000 (21%)]\tTrain Loss: 0.478792\n",
      "Train Epoch: 5 [19200/60000 (32%)]\tTrain Loss: 0.408449\n",
      "Train Epoch: 5 [25600/60000 (43%)]\tTrain Loss: 0.667042\n",
      "Train Epoch: 5 [32000/60000 (53%)]\tTrain Loss: 0.376263\n",
      "Train Epoch: 5 [38400/60000 (64%)]\tTrain Loss: 0.743245\n",
      "Train Epoch: 5 [44800/60000 (75%)]\tTrain Loss: 0.709147\n",
      "Train Epoch: 5 [51200/60000 (85%)]\tTrain Loss: 0.330369\n",
      "Train Epoch: 5 [57600/60000 (96%)]\tTrain Loss: 0.503726\n",
      "\n",
      "[EPOCH: 5], \tTest Loss: 0.0142, \tTest Accuracy: 86.65 % \n",
      "\n",
      "Train Epoch: 6 [0/60000 (0%)]\tTrain Loss: 0.501460\n",
      "Train Epoch: 6 [6400/60000 (11%)]\tTrain Loss: 0.373230\n",
      "Train Epoch: 6 [12800/60000 (21%)]\tTrain Loss: 0.465920\n",
      "Train Epoch: 6 [19200/60000 (32%)]\tTrain Loss: 0.535318\n",
      "Train Epoch: 6 [25600/60000 (43%)]\tTrain Loss: 0.632335\n",
      "Train Epoch: 6 [32000/60000 (53%)]\tTrain Loss: 0.300021\n",
      "Train Epoch: 6 [38400/60000 (64%)]\tTrain Loss: 0.192441\n",
      "Train Epoch: 6 [44800/60000 (75%)]\tTrain Loss: 0.462938\n",
      "Train Epoch: 6 [51200/60000 (85%)]\tTrain Loss: 0.340641\n",
      "Train Epoch: 6 [57600/60000 (96%)]\tTrain Loss: 0.448019\n",
      "\n",
      "[EPOCH: 6], \tTest Loss: 0.0128, \tTest Accuracy: 88.24 % \n",
      "\n",
      "Train Epoch: 7 [0/60000 (0%)]\tTrain Loss: 0.326242\n",
      "Train Epoch: 7 [6400/60000 (11%)]\tTrain Loss: 0.626606\n",
      "Train Epoch: 7 [12800/60000 (21%)]\tTrain Loss: 0.224963\n",
      "Train Epoch: 7 [19200/60000 (32%)]\tTrain Loss: 0.455848\n",
      "Train Epoch: 7 [25600/60000 (43%)]\tTrain Loss: 0.316585\n",
      "Train Epoch: 7 [32000/60000 (53%)]\tTrain Loss: 0.303522\n",
      "Train Epoch: 7 [38400/60000 (64%)]\tTrain Loss: 0.407441\n",
      "Train Epoch: 7 [44800/60000 (75%)]\tTrain Loss: 0.490146\n",
      "Train Epoch: 7 [51200/60000 (85%)]\tTrain Loss: 0.489793\n",
      "Train Epoch: 7 [57600/60000 (96%)]\tTrain Loss: 0.250276\n",
      "\n",
      "[EPOCH: 7], \tTest Loss: 0.0119, \tTest Accuracy: 88.93 % \n",
      "\n",
      "Train Epoch: 8 [0/60000 (0%)]\tTrain Loss: 0.340245\n",
      "Train Epoch: 8 [6400/60000 (11%)]\tTrain Loss: 0.495410\n",
      "Train Epoch: 8 [12800/60000 (21%)]\tTrain Loss: 0.354282\n",
      "Train Epoch: 8 [19200/60000 (32%)]\tTrain Loss: 0.929664\n",
      "Train Epoch: 8 [25600/60000 (43%)]\tTrain Loss: 0.299167\n",
      "Train Epoch: 8 [32000/60000 (53%)]\tTrain Loss: 0.419087\n",
      "Train Epoch: 8 [38400/60000 (64%)]\tTrain Loss: 0.183065\n",
      "Train Epoch: 8 [44800/60000 (75%)]\tTrain Loss: 0.429106\n",
      "Train Epoch: 8 [51200/60000 (85%)]\tTrain Loss: 0.699435\n",
      "Train Epoch: 8 [57600/60000 (96%)]\tTrain Loss: 0.301094\n",
      "\n",
      "[EPOCH: 8], \tTest Loss: 0.0113, \tTest Accuracy: 89.59 % \n",
      "\n",
      "Train Epoch: 9 [0/60000 (0%)]\tTrain Loss: 0.403923\n",
      "Train Epoch: 9 [6400/60000 (11%)]\tTrain Loss: 0.178136\n",
      "Train Epoch: 9 [12800/60000 (21%)]\tTrain Loss: 0.458371\n",
      "Train Epoch: 9 [19200/60000 (32%)]\tTrain Loss: 0.349120\n",
      "Train Epoch: 9 [25600/60000 (43%)]\tTrain Loss: 0.428086\n",
      "Train Epoch: 9 [32000/60000 (53%)]\tTrain Loss: 0.580726\n",
      "Train Epoch: 9 [38400/60000 (64%)]\tTrain Loss: 0.105964\n",
      "Train Epoch: 9 [44800/60000 (75%)]\tTrain Loss: 0.393156\n",
      "Train Epoch: 9 [51200/60000 (85%)]\tTrain Loss: 0.165475\n",
      "Train Epoch: 9 [57600/60000 (96%)]\tTrain Loss: 0.313095\n",
      "\n",
      "[EPOCH: 9], \tTest Loss: 0.0108, \tTest Accuracy: 89.92 % \n",
      "\n",
      "Train Epoch: 10 [0/60000 (0%)]\tTrain Loss: 0.578675\n",
      "Train Epoch: 10 [6400/60000 (11%)]\tTrain Loss: 0.174825\n",
      "Train Epoch: 10 [12800/60000 (21%)]\tTrain Loss: 0.413739\n",
      "Train Epoch: 10 [19200/60000 (32%)]\tTrain Loss: 0.182302\n",
      "Train Epoch: 10 [25600/60000 (43%)]\tTrain Loss: 0.223432\n",
      "Train Epoch: 10 [32000/60000 (53%)]\tTrain Loss: 0.610788\n",
      "Train Epoch: 10 [38400/60000 (64%)]\tTrain Loss: 0.158630\n",
      "Train Epoch: 10 [44800/60000 (75%)]\tTrain Loss: 0.335066\n",
      "Train Epoch: 10 [51200/60000 (85%)]\tTrain Loss: 0.237495\n",
      "Train Epoch: 10 [57600/60000 (96%)]\tTrain Loss: 0.469383\n",
      "\n",
      "[EPOCH: 10], \tTest Loss: 0.0105, \tTest Accuracy: 90.33 % \n",
      "\n"
     ]
    }
   ],
   "source": [
    "''' 10. MLP 학습 실행하며 Train, Test set의 Loss 및 Test set Accuracy 확인하기 '''\n",
    "for epoch in range(1, EPOCHS + 1):\n",
    "    train(model, train_loader, optimizer, log_interval = 200)\n",
    "    test_loss, test_accuracy = evaluate(model, test_loader)\n",
    "    print(\"\\n[EPOCH: {}], \\tTest Loss: {:.4f}, \\tTest Accuracy: {:.2f} % \\n\".format(\n",
    "        epoch, test_loss, test_accuracy))"
   ]
  }
 ],
 "metadata": {
  "kernelspec": {
   "display_name": "Python 3",
   "language": "python",
   "name": "python3"
  },
  "language_info": {
   "codemirror_mode": {
    "name": "ipython",
    "version": 3
   },
   "file_extension": ".py",
   "mimetype": "text/x-python",
   "name": "python",
   "nbconvert_exporter": "python",
   "pygments_lexer": "ipython3",
   "version": "3.6.8"
  }
 },
 "nbformat": 4,
 "nbformat_minor": 4
}
