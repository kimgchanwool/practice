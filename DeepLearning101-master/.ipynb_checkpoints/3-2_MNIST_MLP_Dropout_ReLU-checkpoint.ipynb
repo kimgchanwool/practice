{
 "cells": [
  {
   "cell_type": "code",
   "execution_count": 1,
   "metadata": {},
   "outputs": [],
   "source": [
    "''' 1. Module Import '''\n",
    "import numpy as np\n",
    "import matplotlib.pyplot as plt\n",
    "\n",
    "import torch\n",
    "import torch.nn as nn\n",
    "import torch.nn.functional as F\n",
    "from torchvision import transforms, datasets"
   ]
  },
  {
   "cell_type": "code",
   "execution_count": 2,
   "metadata": {},
   "outputs": [
    {
     "name": "stdout",
     "output_type": "stream",
     "text": [
      "Using PyTorch version: 1.6.0+cu101  Device: cuda\n"
     ]
    }
   ],
   "source": [
    "''' 2. 딥러닝 모델을 설계할 때 활용하는 장비 확인 '''\n",
    "if torch.cuda.is_available():\n",
    "    DEVICE = torch.device('cuda')\n",
    "else:\n",
    "    DEVICE = torch.device('cpu')\n",
    "print('Using PyTorch version:', torch.__version__, ' Device:', DEVICE)"
   ]
  },
  {
   "cell_type": "code",
   "execution_count": 3,
   "metadata": {},
   "outputs": [],
   "source": [
    "BATCH_SIZE = 32\n",
    "EPOCHS = 10"
   ]
  },
  {
   "cell_type": "code",
   "execution_count": 4,
   "metadata": {},
   "outputs": [],
   "source": [
    "''' 3. MNIST 데이터 다운로드 (Train set, Test set 분리하기) '''\n",
    "train_dataset = datasets.MNIST(root = \"../data/MNIST\",\n",
    "                               train = True,\n",
    "                               download = True,\n",
    "                               transform = transforms.ToTensor())\n",
    "\n",
    "test_dataset = datasets.MNIST(root = \"../data/MNIST\",\n",
    "                              train = False,\n",
    "                              transform = transforms.ToTensor())\n",
    "\n",
    "train_loader = torch.utils.data.DataLoader(dataset = train_dataset,\n",
    "                                           batch_size = BATCH_SIZE,\n",
    "                                           shuffle = True)\n",
    "\n",
    "test_loader = torch.utils.data.DataLoader(dataset = test_dataset,\n",
    "                                          batch_size = BATCH_SIZE,\n",
    "                                          shuffle = False)"
   ]
  },
  {
   "cell_type": "code",
   "execution_count": 5,
   "metadata": {},
   "outputs": [
    {
     "name": "stdout",
     "output_type": "stream",
     "text": [
      "X_train: torch.Size([32, 1, 28, 28]) type: torch.FloatTensor\n",
      "y_train: torch.Size([32]) type: torch.LongTensor\n"
     ]
    }
   ],
   "source": [
    "''' 4. 데이터 확인하기 (1) '''\n",
    "for (X_train, y_train) in train_loader:\n",
    "    print('X_train:', X_train.size(), 'type:', X_train.type())\n",
    "    print('y_train:', y_train.size(), 'type:', y_train.type())\n",
    "    break"
   ]
  },
  {
   "cell_type": "code",
   "execution_count": 6,
   "metadata": {},
   "outputs": [
    {
     "data": {
      "image/png": "[encoded data removed]",
      "text/plain": [
       "<Figure size 720x72 with 10 Axes>"
      ]
     },
     "metadata": {
      "needs_background": "light"
     },
     "output_type": "display_data"
    }
   ],
   "source": [
    "''' 5. 데이터 확인하기 (2) '''\n",
    "pltsize = 1\n",
    "plt.figure(figsize=(10 * pltsize, pltsize))\n",
    "for i in range(10):\n",
    "    plt.subplot(1, 10, i + 1)\n",
    "    plt.axis('off')\n",
    "    plt.imshow(X_train[i, :, :, :].numpy().reshape(28, 28), cmap = \"gray_r\")\n",
    "    plt.title('Class: ' + str(y_train[i].item()))"
   ]
  },
  {
   "cell_type": "code",
   "execution_count": 7,
   "metadata": {},
   "outputs": [],
   "source": [
    "''' 6. Multi Layer Perceptron (MLP) 모델 설계하기 '''\n",
    "class Net(nn.Module):\n",
    "    def __init__(self):\n",
    "        super(Net, self).__init__()\n",
    "        self.fc1 = nn.Linear(28 * 28, 512)\n",
    "        self.fc2 = nn.Linear(512, 256)\n",
    "        self.fc3 = nn.Linear(256, 10)\n",
    "        self.dropout_prob = 0.5\n",
    "\n",
    "    def forward(self, x):\n",
    "        x = x.view(-1, 28 * 28)\n",
    "        x = self.fc1(x)\n",
    "        x = F.relu(x)\n",
    "        x = F.dropout(x, training = self.training, p = self.dropout_prob)\n",
    "        x = self.fc2(x)\n",
    "        x = F.relu(x)\n",
    "        x = F.dropout(x, training = self.training, p = self.dropout_prob)\n",
    "        x = self.fc3(x)\n",
    "        x = F.log_softmax(x, dim = 1)\n",
    "        return x"
   ]
  },
  {
   "cell_type": "code",
   "execution_count": 8,
   "metadata": {},
   "outputs": [
    {
     "name": "stdout",
     "output_type": "stream",
     "text": [
      "Net(\n",
      "  (fc1): Linear(in_features=784, out_features=512, bias=True)\n",
      "  (fc2): Linear(in_features=512, out_features=256, bias=True)\n",
      "  (fc3): Linear(in_features=256, out_features=10, bias=True)\n",
      ")\n"
     ]
    }
   ],
   "source": [
    "''' 7. Optimizer, Objective Function 설정하기 '''\n",
    "model = Net().to(DEVICE)\n",
    "optimizer = torch.optim.SGD(model.parameters(), lr = 0.01, momentum = 0.5)\n",
    "criterion = nn.CrossEntropyLoss()\n",
    "\n",
    "print(model)"
   ]
  },
  {
   "cell_type": "code",
   "execution_count": 9,
   "metadata": {},
   "outputs": [],
   "source": [
    "''' 8. MLP 모델 학습을 진행하며 학습 데이터에 대한 모델 성능을 확인하는 함수 정의 '''\n",
    "def train(model, train_loader, optimizer, log_interval):\n",
    "    model.train()\n",
    "    for batch_idx, (image, label) in enumerate(train_loader):\n",
    "        image = image.to(DEVICE)\n",
    "        label = label.to(DEVICE)\n",
    "        optimizer.zero_grad()\n",
    "        output = model(image)\n",
    "        loss = criterion(output, label)\n",
    "        loss.backward()\n",
    "        optimizer.step()\n",
    "\n",
    "        if batch_idx % log_interval == 0:\n",
    "            print(\"Train Epoch: {} [{}/{} ({:.0f}%)]\\tTrain Loss: {:.6f}\".format(\n",
    "                epoch, batch_idx * len(image), \n",
    "                len(train_loader.dataset), 100. * batch_idx / len(train_loader), \n",
    "                loss.item()))"
   ]
  },
  {
   "cell_type": "code",
   "execution_count": 10,
   "metadata": {},
   "outputs": [],
   "source": [
    "''' 9. 학습되는 과정 속에서 검증 데이터에 대한 모델 성능을 확인하는 함수 정의 '''\n",
    "def evaluate(model, test_loader):\n",
    "    model.eval()\n",
    "    test_loss = 0\n",
    "    correct = 0\n",
    "\n",
    "    with torch.no_grad():\n",
    "        for image, label in test_loader:\n",
    "            image = image.to(DEVICE)\n",
    "            label = label.to(DEVICE)\n",
    "            output = model(image)\n",
    "            test_loss += criterion(output, label).item()\n",
    "            prediction = output.max(1, keepdim = True)[1]\n",
    "            correct += prediction.eq(label.view_as(prediction)).sum().item()\n",
    "    \n",
    "    test_loss /= (len(test_loader.dataset) / BATCH_SIZE)\n",
    "    test_accuracy = 100. * correct / len(test_loader.dataset)\n",
    "    return test_loss, test_accuracy"
   ]
  },
  {
   "cell_type": "code",
   "execution_count": 11,
   "metadata": {},
   "outputs": [
    {
     "name": "stdout",
     "output_type": "stream",
     "text": [
      "Train Epoch: 1 [0/60000 (0%)]\tTrain Loss: 2.293252\n",
      "Train Epoch: 1 [6400/60000 (11%)]\tTrain Loss: 2.103498\n",
      "Train Epoch: 1 [12800/60000 (21%)]\tTrain Loss: 1.014423\n",
      "Train Epoch: 1 [19200/60000 (32%)]\tTrain Loss: 0.739293\n",
      "Train Epoch: 1 [25600/60000 (43%)]\tTrain Loss: 0.824886\n",
      "Train Epoch: 1 [32000/60000 (53%)]\tTrain Loss: 0.373551\n",
      "Train Epoch: 1 [38400/60000 (64%)]\tTrain Loss: 0.590951\n",
      "Train Epoch: 1 [44800/60000 (75%)]\tTrain Loss: 0.609839\n",
      "Train Epoch: 1 [51200/60000 (85%)]\tTrain Loss: 0.725992\n",
      "Train Epoch: 1 [57600/60000 (96%)]\tTrain Loss: 0.316456\n",
      "\n",
      "[EPOCH: 1], \tTest Loss: 0.0099, \tTest Accuracy: 91.00 % \n",
      "\n",
      "Train Epoch: 2 [0/60000 (0%)]\tTrain Loss: 0.434049\n",
      "Train Epoch: 2 [6400/60000 (11%)]\tTrain Loss: 0.423664\n",
      "Train Epoch: 2 [12800/60000 (21%)]\tTrain Loss: 0.223913\n",
      "Train Epoch: 2 [19200/60000 (32%)]\tTrain Loss: 0.185579\n",
      "Train Epoch: 2 [25600/60000 (43%)]\tTrain Loss: 0.516311\n",
      "Train Epoch: 2 [32000/60000 (53%)]\tTrain Loss: 0.170941\n",
      "Train Epoch: 2 [38400/60000 (64%)]\tTrain Loss: 0.679857\n",
      "Train Epoch: 2 [44800/60000 (75%)]\tTrain Loss: 0.206488\n",
      "Train Epoch: 2 [51200/60000 (85%)]\tTrain Loss: 0.293542\n",
      "Train Epoch: 2 [57600/60000 (96%)]\tTrain Loss: 0.532575\n",
      "\n",
      "[EPOCH: 2], \tTest Loss: 0.0070, \tTest Accuracy: 93.47 % \n",
      "\n",
      "Train Epoch: 3 [0/60000 (0%)]\tTrain Loss: 0.494590\n",
      "Train Epoch: 3 [6400/60000 (11%)]\tTrain Loss: 0.692674\n",
      "Train Epoch: 3 [12800/60000 (21%)]\tTrain Loss: 0.141787\n",
      "Train Epoch: 3 [19200/60000 (32%)]\tTrain Loss: 0.254909\n",
      "Train Epoch: 3 [25600/60000 (43%)]\tTrain Loss: 0.143211\n",
      "Train Epoch: 3 [32000/60000 (53%)]\tTrain Loss: 0.290160\n",
      "Train Epoch: 3 [38400/60000 (64%)]\tTrain Loss: 0.370776\n",
      "Train Epoch: 3 [44800/60000 (75%)]\tTrain Loss: 0.711377\n",
      "Train Epoch: 3 [51200/60000 (85%)]\tTrain Loss: 0.091218\n",
      "Train Epoch: 3 [57600/60000 (96%)]\tTrain Loss: 0.176025\n",
      "\n",
      "[EPOCH: 3], \tTest Loss: 0.0054, \tTest Accuracy: 94.96 % \n",
      "\n",
      "Train Epoch: 4 [0/60000 (0%)]\tTrain Loss: 0.298294\n",
      "Train Epoch: 4 [6400/60000 (11%)]\tTrain Loss: 0.155041\n",
      "Train Epoch: 4 [12800/60000 (21%)]\tTrain Loss: 0.358912\n",
      "Train Epoch: 4 [19200/60000 (32%)]\tTrain Loss: 0.178691\n",
      "Train Epoch: 4 [25600/60000 (43%)]\tTrain Loss: 0.085475\n",
      "Train Epoch: 4 [32000/60000 (53%)]\tTrain Loss: 0.272500\n",
      "Train Epoch: 4 [38400/60000 (64%)]\tTrain Loss: 0.203928\n",
      "Train Epoch: 4 [44800/60000 (75%)]\tTrain Loss: 0.455426\n",
      "Train Epoch: 4 [51200/60000 (85%)]\tTrain Loss: 0.123246\n",
      "Train Epoch: 4 [57600/60000 (96%)]\tTrain Loss: 0.114354\n",
      "\n",
      "[EPOCH: 4], \tTest Loss: 0.0044, \tTest Accuracy: 95.63 % \n",
      "\n",
      "Train Epoch: 5 [0/60000 (0%)]\tTrain Loss: 0.124653\n",
      "Train Epoch: 5 [6400/60000 (11%)]\tTrain Loss: 0.157264\n",
      "Train Epoch: 5 [12800/60000 (21%)]\tTrain Loss: 0.202116\n",
      "Train Epoch: 5 [19200/60000 (32%)]\tTrain Loss: 0.063491\n",
      "Train Epoch: 5 [25600/60000 (43%)]\tTrain Loss: 0.215543\n",
      "Train Epoch: 5 [32000/60000 (53%)]\tTrain Loss: 0.039489\n",
      "Train Epoch: 5 [38400/60000 (64%)]\tTrain Loss: 0.062817\n",
      "Train Epoch: 5 [44800/60000 (75%)]\tTrain Loss: 0.074638\n",
      "Train Epoch: 5 [51200/60000 (85%)]\tTrain Loss: 0.100656\n",
      "Train Epoch: 5 [57600/60000 (96%)]\tTrain Loss: 0.263398\n",
      "\n",
      "[EPOCH: 5], \tTest Loss: 0.0038, \tTest Accuracy: 96.28 % \n",
      "\n",
      "Train Epoch: 6 [0/60000 (0%)]\tTrain Loss: 0.243492\n",
      "Train Epoch: 6 [6400/60000 (11%)]\tTrain Loss: 0.134330\n",
      "Train Epoch: 6 [12800/60000 (21%)]\tTrain Loss: 0.132107\n",
      "Train Epoch: 6 [19200/60000 (32%)]\tTrain Loss: 0.210380\n",
      "Train Epoch: 6 [25600/60000 (43%)]\tTrain Loss: 0.166309\n",
      "Train Epoch: 6 [32000/60000 (53%)]\tTrain Loss: 0.154378\n",
      "Train Epoch: 6 [38400/60000 (64%)]\tTrain Loss: 0.415324\n",
      "Train Epoch: 6 [44800/60000 (75%)]\tTrain Loss: 0.091827\n",
      "Train Epoch: 6 [51200/60000 (85%)]\tTrain Loss: 0.088081\n",
      "Train Epoch: 6 [57600/60000 (96%)]\tTrain Loss: 0.156756\n",
      "\n",
      "[EPOCH: 6], \tTest Loss: 0.0035, \tTest Accuracy: 96.58 % \n",
      "\n",
      "Train Epoch: 7 [0/60000 (0%)]\tTrain Loss: 0.311500\n",
      "Train Epoch: 7 [6400/60000 (11%)]\tTrain Loss: 0.153611\n",
      "Train Epoch: 7 [12800/60000 (21%)]\tTrain Loss: 0.182327\n",
      "Train Epoch: 7 [19200/60000 (32%)]\tTrain Loss: 0.109722\n",
      "Train Epoch: 7 [25600/60000 (43%)]\tTrain Loss: 0.357384\n",
      "Train Epoch: 7 [32000/60000 (53%)]\tTrain Loss: 0.124124\n",
      "Train Epoch: 7 [38400/60000 (64%)]\tTrain Loss: 0.139059\n",
      "Train Epoch: 7 [44800/60000 (75%)]\tTrain Loss: 0.094896\n",
      "Train Epoch: 7 [51200/60000 (85%)]\tTrain Loss: 0.069713\n",
      "Train Epoch: 7 [57600/60000 (96%)]\tTrain Loss: 0.060162\n",
      "\n",
      "[EPOCH: 7], \tTest Loss: 0.0031, \tTest Accuracy: 97.02 % \n",
      "\n",
      "Train Epoch: 8 [0/60000 (0%)]\tTrain Loss: 0.219568\n",
      "Train Epoch: 8 [6400/60000 (11%)]\tTrain Loss: 0.265314\n",
      "Train Epoch: 8 [12800/60000 (21%)]\tTrain Loss: 0.136442\n",
      "Train Epoch: 8 [19200/60000 (32%)]\tTrain Loss: 0.182477\n",
      "Train Epoch: 8 [25600/60000 (43%)]\tTrain Loss: 0.057788\n",
      "Train Epoch: 8 [32000/60000 (53%)]\tTrain Loss: 0.180467\n",
      "Train Epoch: 8 [38400/60000 (64%)]\tTrain Loss: 0.163830\n",
      "Train Epoch: 8 [44800/60000 (75%)]\tTrain Loss: 0.146127\n",
      "Train Epoch: 8 [51200/60000 (85%)]\tTrain Loss: 0.078550\n",
      "Train Epoch: 8 [57600/60000 (96%)]\tTrain Loss: 0.366327\n",
      "\n",
      "[EPOCH: 8], \tTest Loss: 0.0028, \tTest Accuracy: 97.16 % \n",
      "\n",
      "Train Epoch: 9 [0/60000 (0%)]\tTrain Loss: 0.032364\n",
      "Train Epoch: 9 [6400/60000 (11%)]\tTrain Loss: 0.049485\n",
      "Train Epoch: 9 [12800/60000 (21%)]\tTrain Loss: 0.083032\n",
      "Train Epoch: 9 [19200/60000 (32%)]\tTrain Loss: 0.120306\n",
      "Train Epoch: 9 [25600/60000 (43%)]\tTrain Loss: 0.236849\n",
      "Train Epoch: 9 [32000/60000 (53%)]\tTrain Loss: 0.034962\n",
      "Train Epoch: 9 [38400/60000 (64%)]\tTrain Loss: 0.355975\n",
      "Train Epoch: 9 [44800/60000 (75%)]\tTrain Loss: 0.098553\n",
      "Train Epoch: 9 [51200/60000 (85%)]\tTrain Loss: 0.739664\n",
      "Train Epoch: 9 [57600/60000 (96%)]\tTrain Loss: 0.029625\n",
      "\n",
      "[EPOCH: 9], \tTest Loss: 0.0027, \tTest Accuracy: 97.21 % \n",
      "\n",
      "Train Epoch: 10 [0/60000 (0%)]\tTrain Loss: 0.316167\n",
      "Train Epoch: 10 [6400/60000 (11%)]\tTrain Loss: 0.184830\n",
      "Train Epoch: 10 [12800/60000 (21%)]\tTrain Loss: 0.160652\n",
      "Train Epoch: 10 [19200/60000 (32%)]\tTrain Loss: 0.162540\n",
      "Train Epoch: 10 [25600/60000 (43%)]\tTrain Loss: 0.044575\n",
      "Train Epoch: 10 [32000/60000 (53%)]\tTrain Loss: 0.090206\n",
      "Train Epoch: 10 [38400/60000 (64%)]\tTrain Loss: 0.021095\n",
      "Train Epoch: 10 [44800/60000 (75%)]\tTrain Loss: 0.275242\n",
      "Train Epoch: 10 [51200/60000 (85%)]\tTrain Loss: 0.117553\n",
      "Train Epoch: 10 [57600/60000 (96%)]\tTrain Loss: 0.028020\n",
      "\n",
      "[EPOCH: 10], \tTest Loss: 0.0026, \tTest Accuracy: 97.40 % \n",
      "\n"
     ]
    }
   ],
   "source": [
    "''' 10. MLP 학습 실행하며 Train, Test set의 Loss 및 Test set Accuracy 확인하기 '''\n",
    "for epoch in range(1, EPOCHS + 1):\n",
    "    train(model, train_loader, optimizer, log_interval = 200)\n",
    "    test_loss, test_accuracy = evaluate(model, test_loader)\n",
    "    print(\"\\n[EPOCH: {}], \\tTest Loss: {:.4f}, \\tTest Accuracy: {:.2f} % \\n\".format(\n",
    "        epoch, test_loss, test_accuracy))"
   ]
  }
 ],
 "metadata": {
  "kernelspec": {
   "display_name": "Python 3",
   "language": "python",
   "name": "python3"
  },
  "language_info": {
   "codemirror_mode": {
    "name": "ipython",
    "version": 3
   },
   "file_extension": ".py",
   "mimetype": "text/x-python",
   "name": "python",
   "nbconvert_exporter": "python",
   "pygments_lexer": "ipython3",
   "version": "3.6.8"
  }
 },
 "nbformat": 4,
 "nbformat_minor": 4
}
