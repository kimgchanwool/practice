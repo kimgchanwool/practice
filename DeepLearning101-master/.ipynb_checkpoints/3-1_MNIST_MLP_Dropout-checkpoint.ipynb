{
 "cells": [
  {
   "cell_type": "code",
   "execution_count": 1,
   "metadata": {},
   "outputs": [],
   "source": [
    "''' 1. Module Import '''\n",
    "import numpy as np\n",
    "import matplotlib.pyplot as plt\n",
    "\n",
    "import torch\n",
    "import torch.nn as nn\n",
    "import torch.nn.functional as F\n",
    "from torchvision import transforms, datasets"
   ]
  },
  {
   "cell_type": "code",
   "execution_count": 2,
   "metadata": {},
   "outputs": [
    {
     "name": "stdout",
     "output_type": "stream",
     "text": [
      "Using PyTorch version: 1.6.0+cu101  Device: cuda\n"
     ]
    }
   ],
   "source": [
    "''' 2. 딥러닝 모델을 설계할 때 활용하는 장비 확인 '''\n",
    "if torch.cuda.is_available():\n",
    "    DEVICE = torch.device('cuda')\n",
    "else:\n",
    "    DEVICE = torch.device('cpu')\n",
    "print('Using PyTorch version:', torch.__version__, ' Device:', DEVICE)"
   ]
  },
  {
   "cell_type": "code",
   "execution_count": 3,
   "metadata": {},
   "outputs": [],
   "source": [
    "BATCH_SIZE = 32\n",
    "EPOCHS = 10"
   ]
  },
  {
   "cell_type": "code",
   "execution_count": 4,
   "metadata": {},
   "outputs": [],
   "source": [
    "''' 3. MNIST 데이터 다운로드 (Train set, Test set 분리하기) '''\n",
    "train_dataset = datasets.MNIST(root = \"../data/MNIST\",\n",
    "                               train = True,\n",
    "                               download = True,\n",
    "                               transform = transforms.ToTensor())\n",
    "\n",
    "test_dataset = datasets.MNIST(root = \"../data/MNIST\",\n",
    "                              train = False,\n",
    "                              transform = transforms.ToTensor())\n",
    "\n",
    "train_loader = torch.utils.data.DataLoader(dataset = train_dataset,\n",
    "                                           batch_size = BATCH_SIZE,\n",
    "                                           shuffle = True)\n",
    "\n",
    "test_loader = torch.utils.data.DataLoader(dataset = test_dataset,\n",
    "                                          batch_size = BATCH_SIZE,\n",
    "                                          shuffle = False)"
   ]
  },
  {
   "cell_type": "code",
   "execution_count": 5,
   "metadata": {},
   "outputs": [
    {
     "name": "stdout",
     "output_type": "stream",
     "text": [
      "X_train: torch.Size([32, 1, 28, 28]) type: torch.FloatTensor\n",
      "y_train: torch.Size([32]) type: torch.LongTensor\n"
     ]
    }
   ],
   "source": [
    "''' 4. 데이터 확인하기 (1) '''\n",
    "for (X_train, y_train) in train_loader:\n",
    "    print('X_train:', X_train.size(), 'type:', X_train.type())\n",
    "    print('y_train:', y_train.size(), 'type:', y_train.type())\n",
    "    break"
   ]
  },
  {
   "cell_type": "code",
   "execution_count": 6,
   "metadata": {},
   "outputs": [
    {
     "data": {
      "image/png": "[encoded data removed]",
      "text/plain": [
       "<Figure size 720x72 with 10 Axes>"
      ]
     },
     "metadata": {
      "needs_background": "light"
     },
     "output_type": "display_data"
    }
   ],
   "source": [
    "''' 5. 데이터 확인하기 (2) '''\n",
    "pltsize = 1\n",
    "plt.figure(figsize=(10 * pltsize, pltsize))\n",
    "for i in range(10):\n",
    "    plt.subplot(1, 10, i + 1)\n",
    "    plt.axis('off')\n",
    "    plt.imshow(X_train[i, :, :, :].numpy().reshape(28, 28), cmap = \"gray_r\")\n",
    "    plt.title('Class: ' + str(y_train[i].item()))"
   ]
  },
  {
   "cell_type": "code",
   "execution_count": 7,
   "metadata": {},
   "outputs": [],
   "source": [
    "''' 6. Multi Layer Perceptron (MLP) 모델 설계하기 '''\n",
    "class Net(nn.Module):\n",
    "    def __init__(self):\n",
    "        super(Net, self).__init__()\n",
    "        self.fc1 = nn.Linear(28 * 28, 512)\n",
    "        self.fc2 = nn.Linear(512, 256)\n",
    "        self.fc3 = nn.Linear(256, 10)\n",
    "        self.dropout_prob = 0.5\n",
    "\n",
    "    def forward(self, x):\n",
    "        x = x.view(-1, 28 * 28)\n",
    "        x = self.fc1(x)\n",
    "        x = F.sigmoid(x)\n",
    "        x = F.dropout(x, training = self.training, p = self.dropout_prob)\n",
    "        x = self.fc2(x)\n",
    "        x = F.sigmoid(x)\n",
    "        x = F.dropout(x, training = self.training, p = self.dropout_prob)\n",
    "        x = self.fc3(x)\n",
    "        x = F.log_softmax(x, dim = 1)\n",
    "        return x"
   ]
  },
  {
   "cell_type": "code",
   "execution_count": 8,
   "metadata": {},
   "outputs": [
    {
     "name": "stdout",
     "output_type": "stream",
     "text": [
      "Net(\n",
      "  (fc1): Linear(in_features=784, out_features=512, bias=True)\n",
      "  (fc2): Linear(in_features=512, out_features=256, bias=True)\n",
      "  (fc3): Linear(in_features=256, out_features=10, bias=True)\n",
      ")\n"
     ]
    }
   ],
   "source": [
    "''' 7. Optimizer, Objective Function 설정하기 '''\n",
    "model = Net().to(DEVICE)\n",
    "optimizer = torch.optim.SGD(model.parameters(), lr = 0.01, momentum = 0.5)\n",
    "criterion = nn.CrossEntropyLoss()\n",
    "\n",
    "print(model)"
   ]
  },
  {
   "cell_type": "code",
   "execution_count": 9,
   "metadata": {},
   "outputs": [],
   "source": [
    "''' 8. MLP 모델 학습을 진행하며 학습 데이터에 대한 모델 성능을 확인하는 함수 정의 '''\n",
    "def train(model, train_loader, optimizer, log_interval):\n",
    "    model.train()\n",
    "    for batch_idx, (image, label) in enumerate(train_loader):\n",
    "        image = image.to(DEVICE)\n",
    "        label = label.to(DEVICE)\n",
    "        optimizer.zero_grad()\n",
    "        output = model(image)\n",
    "        loss = criterion(output, label)\n",
    "        loss.backward()\n",
    "        optimizer.step()\n",
    "\n",
    "        if batch_idx % log_interval == 0:\n",
    "            print(\"Train Epoch: {} [{}/{} ({:.0f}%)]\\tTrain Loss: {:.6f}\".format(\n",
    "                epoch, batch_idx * len(image), \n",
    "                len(train_loader.dataset), 100. * batch_idx / len(train_loader), \n",
    "                loss.item()))"
   ]
  },
  {
   "cell_type": "code",
   "execution_count": 10,
   "metadata": {},
   "outputs": [],
   "source": [
    "''' 9. 학습되는 과정 속에서 검증 데이터에 대한 모델 성능을 확인하는 함수 정의 '''\n",
    "def evaluate(model, test_loader):\n",
    "    model.eval()\n",
    "    test_loss = 0\n",
    "    correct = 0\n",
    "\n",
    "    with torch.no_grad():\n",
    "        for image, label in test_loader:\n",
    "            image = image.to(DEVICE)\n",
    "            label = label.to(DEVICE)\n",
    "            output = model(image)\n",
    "            test_loss += criterion(output, label).item()\n",
    "            prediction = output.max(1, keepdim = True)[1]\n",
    "            correct += prediction.eq(label.view_as(prediction)).sum().item()\n",
    "    \n",
    "    test_loss /= (len(test_loader.dataset) / BATCH_SIZE)\n",
    "    test_accuracy = 100. * correct / len(test_loader.dataset)\n",
    "    return test_loss, test_accuracy"
   ]
  },
  {
   "cell_type": "code",
   "execution_count": 11,
   "metadata": {},
   "outputs": [
    {
     "name": "stderr",
     "output_type": "stream",
     "text": [
      "c:\\users\\justin\\101\\lib\\site-packages\\torch\\nn\\functional.py:1625: UserWarning: nn.functional.sigmoid is deprecated. Use torch.sigmoid instead.\n",
      "  warnings.warn(\"nn.functional.sigmoid is deprecated. Use torch.sigmoid instead.\")\n"
     ]
    },
    {
     "name": "stdout",
     "output_type": "stream",
     "text": [
      "Train Epoch: 1 [0/60000 (0%)]\tTrain Loss: 2.465242\n",
      "Train Epoch: 1 [6400/60000 (11%)]\tTrain Loss: 2.306811\n",
      "Train Epoch: 1 [12800/60000 (21%)]\tTrain Loss: 2.269554\n",
      "Train Epoch: 1 [19200/60000 (32%)]\tTrain Loss: 2.332778\n",
      "Train Epoch: 1 [25600/60000 (43%)]\tTrain Loss: 2.253882\n",
      "Train Epoch: 1 [32000/60000 (53%)]\tTrain Loss: 2.392977\n",
      "Train Epoch: 1 [38400/60000 (64%)]\tTrain Loss: 2.271408\n",
      "Train Epoch: 1 [44800/60000 (75%)]\tTrain Loss: 2.266852\n",
      "Train Epoch: 1 [51200/60000 (85%)]\tTrain Loss: 2.284899\n",
      "Train Epoch: 1 [57600/60000 (96%)]\tTrain Loss: 2.321651\n",
      "\n",
      "[EPOCH: 1], \tTest Loss: 0.0714, \tTest Accuracy: 18.03 % \n",
      "\n",
      "Train Epoch: 2 [0/60000 (0%)]\tTrain Loss: 2.262630\n",
      "Train Epoch: 2 [6400/60000 (11%)]\tTrain Loss: 2.257258\n",
      "Train Epoch: 2 [12800/60000 (21%)]\tTrain Loss: 2.291954\n",
      "Train Epoch: 2 [19200/60000 (32%)]\tTrain Loss: 2.280940\n",
      "Train Epoch: 2 [25600/60000 (43%)]\tTrain Loss: 2.270547\n",
      "Train Epoch: 2 [32000/60000 (53%)]\tTrain Loss: 2.244217\n",
      "Train Epoch: 2 [38400/60000 (64%)]\tTrain Loss: 2.277828\n",
      "Train Epoch: 2 [44800/60000 (75%)]\tTrain Loss: 2.204417\n",
      "Train Epoch: 2 [51200/60000 (85%)]\tTrain Loss: 2.264808\n",
      "Train Epoch: 2 [57600/60000 (96%)]\tTrain Loss: 2.091909\n",
      "\n",
      "[EPOCH: 2], \tTest Loss: 0.0646, \tTest Accuracy: 39.75 % \n",
      "\n",
      "Train Epoch: 3 [0/60000 (0%)]\tTrain Loss: 2.206783\n",
      "Train Epoch: 3 [6400/60000 (11%)]\tTrain Loss: 2.064043\n",
      "Train Epoch: 3 [12800/60000 (21%)]\tTrain Loss: 1.923739\n",
      "Train Epoch: 3 [19200/60000 (32%)]\tTrain Loss: 1.672903\n",
      "Train Epoch: 3 [25600/60000 (43%)]\tTrain Loss: 1.902599\n",
      "Train Epoch: 3 [32000/60000 (53%)]\tTrain Loss: 1.836077\n",
      "Train Epoch: 3 [38400/60000 (64%)]\tTrain Loss: 1.688588\n",
      "Train Epoch: 3 [44800/60000 (75%)]\tTrain Loss: 1.541492\n",
      "Train Epoch: 3 [51200/60000 (85%)]\tTrain Loss: 1.430701\n",
      "Train Epoch: 3 [57600/60000 (96%)]\tTrain Loss: 1.311218\n",
      "\n",
      "[EPOCH: 3], \tTest Loss: 0.0386, \tTest Accuracy: 61.52 % \n",
      "\n",
      "Train Epoch: 4 [0/60000 (0%)]\tTrain Loss: 1.305975\n",
      "Train Epoch: 4 [6400/60000 (11%)]\tTrain Loss: 1.575562\n",
      "Train Epoch: 4 [12800/60000 (21%)]\tTrain Loss: 1.077880\n",
      "Train Epoch: 4 [19200/60000 (32%)]\tTrain Loss: 1.361190\n",
      "Train Epoch: 4 [25600/60000 (43%)]\tTrain Loss: 1.040486\n",
      "Train Epoch: 4 [32000/60000 (53%)]\tTrain Loss: 1.046731\n",
      "Train Epoch: 4 [38400/60000 (64%)]\tTrain Loss: 0.939643\n",
      "Train Epoch: 4 [44800/60000 (75%)]\tTrain Loss: 1.149699\n",
      "Train Epoch: 4 [51200/60000 (85%)]\tTrain Loss: 1.164859\n",
      "Train Epoch: 4 [57600/60000 (96%)]\tTrain Loss: 0.875005\n",
      "\n",
      "[EPOCH: 4], \tTest Loss: 0.0277, \tTest Accuracy: 71.57 % \n",
      "\n",
      "Train Epoch: 5 [0/60000 (0%)]\tTrain Loss: 1.081894\n",
      "Train Epoch: 5 [6400/60000 (11%)]\tTrain Loss: 1.370590\n",
      "Train Epoch: 5 [12800/60000 (21%)]\tTrain Loss: 1.087004\n",
      "Train Epoch: 5 [19200/60000 (32%)]\tTrain Loss: 1.052157\n",
      "Train Epoch: 5 [25600/60000 (43%)]\tTrain Loss: 1.223841\n",
      "Train Epoch: 5 [32000/60000 (53%)]\tTrain Loss: 0.740738\n",
      "Train Epoch: 5 [38400/60000 (64%)]\tTrain Loss: 0.943647\n",
      "Train Epoch: 5 [44800/60000 (75%)]\tTrain Loss: 0.790824\n",
      "Train Epoch: 5 [51200/60000 (85%)]\tTrain Loss: 0.729670\n",
      "Train Epoch: 5 [57600/60000 (96%)]\tTrain Loss: 0.912352\n",
      "\n",
      "[EPOCH: 5], \tTest Loss: 0.0237, \tTest Accuracy: 75.84 % \n",
      "\n",
      "Train Epoch: 6 [0/60000 (0%)]\tTrain Loss: 0.933268\n",
      "Train Epoch: 6 [6400/60000 (11%)]\tTrain Loss: 0.947774\n",
      "Train Epoch: 6 [12800/60000 (21%)]\tTrain Loss: 0.760683\n",
      "Train Epoch: 6 [19200/60000 (32%)]\tTrain Loss: 0.668853\n",
      "Train Epoch: 6 [25600/60000 (43%)]\tTrain Loss: 0.722454\n",
      "Train Epoch: 6 [32000/60000 (53%)]\tTrain Loss: 0.677378\n",
      "Train Epoch: 6 [38400/60000 (64%)]\tTrain Loss: 0.445301\n",
      "Train Epoch: 6 [44800/60000 (75%)]\tTrain Loss: 0.844144\n",
      "Train Epoch: 6 [51200/60000 (85%)]\tTrain Loss: 0.728118\n",
      "Train Epoch: 6 [57600/60000 (96%)]\tTrain Loss: 0.880896\n",
      "\n",
      "[EPOCH: 6], \tTest Loss: 0.0206, \tTest Accuracy: 80.45 % \n",
      "\n",
      "Train Epoch: 7 [0/60000 (0%)]\tTrain Loss: 0.751742\n",
      "Train Epoch: 7 [6400/60000 (11%)]\tTrain Loss: 0.687919\n",
      "Train Epoch: 7 [12800/60000 (21%)]\tTrain Loss: 0.826463\n",
      "Train Epoch: 7 [19200/60000 (32%)]\tTrain Loss: 0.584632\n",
      "Train Epoch: 7 [25600/60000 (43%)]\tTrain Loss: 0.752852\n",
      "Train Epoch: 7 [32000/60000 (53%)]\tTrain Loss: 0.558399\n",
      "Train Epoch: 7 [38400/60000 (64%)]\tTrain Loss: 0.810356\n",
      "Train Epoch: 7 [44800/60000 (75%)]\tTrain Loss: 0.726763\n",
      "Train Epoch: 7 [51200/60000 (85%)]\tTrain Loss: 0.547987\n",
      "Train Epoch: 7 [57600/60000 (96%)]\tTrain Loss: 0.431549\n",
      "\n",
      "[EPOCH: 7], \tTest Loss: 0.0181, \tTest Accuracy: 82.70 % \n",
      "\n",
      "Train Epoch: 8 [0/60000 (0%)]\tTrain Loss: 0.775636\n",
      "Train Epoch: 8 [6400/60000 (11%)]\tTrain Loss: 0.660315\n",
      "Train Epoch: 8 [12800/60000 (21%)]\tTrain Loss: 0.631106\n",
      "Train Epoch: 8 [19200/60000 (32%)]\tTrain Loss: 0.603776\n",
      "Train Epoch: 8 [25600/60000 (43%)]\tTrain Loss: 0.543177\n",
      "Train Epoch: 8 [32000/60000 (53%)]\tTrain Loss: 0.548135\n",
      "Train Epoch: 8 [38400/60000 (64%)]\tTrain Loss: 0.623748\n",
      "Train Epoch: 8 [44800/60000 (75%)]\tTrain Loss: 0.553701\n",
      "Train Epoch: 8 [51200/60000 (85%)]\tTrain Loss: 0.534373\n",
      "Train Epoch: 8 [57600/60000 (96%)]\tTrain Loss: 0.813260\n",
      "\n",
      "[EPOCH: 8], \tTest Loss: 0.0161, \tTest Accuracy: 84.64 % \n",
      "\n",
      "Train Epoch: 9 [0/60000 (0%)]\tTrain Loss: 0.589929\n",
      "Train Epoch: 9 [6400/60000 (11%)]\tTrain Loss: 0.443540\n",
      "Train Epoch: 9 [12800/60000 (21%)]\tTrain Loss: 0.651524\n",
      "Train Epoch: 9 [19200/60000 (32%)]\tTrain Loss: 0.367655\n",
      "Train Epoch: 9 [25600/60000 (43%)]\tTrain Loss: 0.863036\n",
      "Train Epoch: 9 [32000/60000 (53%)]\tTrain Loss: 0.724021\n",
      "Train Epoch: 9 [38400/60000 (64%)]\tTrain Loss: 0.875995\n",
      "Train Epoch: 9 [44800/60000 (75%)]\tTrain Loss: 0.445317\n",
      "Train Epoch: 9 [51200/60000 (85%)]\tTrain Loss: 0.467477\n",
      "Train Epoch: 9 [57600/60000 (96%)]\tTrain Loss: 0.581248\n",
      "\n",
      "[EPOCH: 9], \tTest Loss: 0.0148, \tTest Accuracy: 85.65 % \n",
      "\n",
      "Train Epoch: 10 [0/60000 (0%)]\tTrain Loss: 1.041706\n",
      "Train Epoch: 10 [6400/60000 (11%)]\tTrain Loss: 0.749753\n",
      "Train Epoch: 10 [12800/60000 (21%)]\tTrain Loss: 0.646062\n",
      "Train Epoch: 10 [19200/60000 (32%)]\tTrain Loss: 0.527050\n",
      "Train Epoch: 10 [25600/60000 (43%)]\tTrain Loss: 0.660469\n",
      "Train Epoch: 10 [32000/60000 (53%)]\tTrain Loss: 0.509758\n",
      "Train Epoch: 10 [38400/60000 (64%)]\tTrain Loss: 0.559824\n",
      "Train Epoch: 10 [44800/60000 (75%)]\tTrain Loss: 0.527527\n",
      "Train Epoch: 10 [51200/60000 (85%)]\tTrain Loss: 0.475507\n",
      "Train Epoch: 10 [57600/60000 (96%)]\tTrain Loss: 0.651053\n",
      "\n",
      "[EPOCH: 10], \tTest Loss: 0.0139, \tTest Accuracy: 86.52 % \n",
      "\n"
     ]
    }
   ],
   "source": [
    "''' 10. MLP 학습 실행하며 Train, Test set의 Loss 및 Test set Accuracy 확인하기 '''\n",
    "for epoch in range(1, EPOCHS + 1):\n",
    "    train(model, train_loader, optimizer, log_interval = 200)\n",
    "    test_loss, test_accuracy = evaluate(model, test_loader)\n",
    "    print(\"\\n[EPOCH: {}], \\tTest Loss: {:.4f}, \\tTest Accuracy: {:.2f} % \\n\".format(\n",
    "        epoch, test_loss, test_accuracy))"
   ]
  },
  {
   "cell_type": "code",
   "execution_count": null,
   "metadata": {},
   "outputs": [],
   "source": []
  }
 ],
 "metadata": {
  "kernelspec": {
   "display_name": "Python 3",
   "language": "python",
   "name": "python3"
  },
  "language_info": {
   "codemirror_mode": {
    "name": "ipython",
    "version": 3
   },
   "file_extension": ".py",
   "mimetype": "text/x-python",
   "name": "python",
   "nbconvert_exporter": "python",
   "pygments_lexer": "ipython3",
   "version": "3.6.8"
  }
 },
 "nbformat": 4,
 "nbformat_minor": 4
}
