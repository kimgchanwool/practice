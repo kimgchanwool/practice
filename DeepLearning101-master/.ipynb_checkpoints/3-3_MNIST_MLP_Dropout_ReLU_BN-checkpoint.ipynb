{
 "cells": [
  {
   "cell_type": "code",
   "execution_count": 1,
   "metadata": {},
   "outputs": [],
   "source": [
    "''' 1. Module Import '''\n",
    "import numpy as np\n",
    "import matplotlib.pyplot as plt\n",
    "\n",
    "import torch\n",
    "import torch.nn as nn\n",
    "import torch.nn.functional as F\n",
    "from torchvision import transforms, datasets"
   ]
  },
  {
   "cell_type": "code",
   "execution_count": 2,
   "metadata": {},
   "outputs": [
    {
     "name": "stdout",
     "output_type": "stream",
     "text": [
      "Using PyTorch version: 1.6.0+cu101  Device: cuda\n"
     ]
    }
   ],
   "source": [
    "''' 2. 딥러닝 모델을 설계할 때 활용하는 장비 확인 '''\n",
    "if torch.cuda.is_available():\n",
    "    DEVICE = torch.device('cuda')\n",
    "else:\n",
    "    DEVICE = torch.device('cpu')\n",
    "print('Using PyTorch version:', torch.__version__, ' Device:', DEVICE)"
   ]
  },
  {
   "cell_type": "code",
   "execution_count": 3,
   "metadata": {},
   "outputs": [],
   "source": [
    "BATCH_SIZE = 32\n",
    "EPOCHS = 10"
   ]
  },
  {
   "cell_type": "code",
   "execution_count": 4,
   "metadata": {},
   "outputs": [],
   "source": [
    "''' 3. MNIST 데이터 다운로드 (Train set, Test set 분리하기) '''\n",
    "train_dataset = datasets.MNIST(root = \"../data/MNIST\",\n",
    "                               train = True,\n",
    "                               download = True,\n",
    "                               transform = transforms.ToTensor())\n",
    "\n",
    "test_dataset = datasets.MNIST(root = \"../data/MNIST\",\n",
    "                              train = False,\n",
    "                              transform = transforms.ToTensor())\n",
    "\n",
    "train_loader = torch.utils.data.DataLoader(dataset = train_dataset,\n",
    "                                           batch_size = BATCH_SIZE,\n",
    "                                           shuffle = True)\n",
    "\n",
    "test_loader = torch.utils.data.DataLoader(dataset = test_dataset,\n",
    "                                          batch_size = BATCH_SIZE,\n",
    "                                          shuffle = False)"
   ]
  },
  {
   "cell_type": "code",
   "execution_count": 5,
   "metadata": {},
   "outputs": [
    {
     "name": "stdout",
     "output_type": "stream",
     "text": [
      "X_train: torch.Size([32, 1, 28, 28]) type: torch.FloatTensor\n",
      "y_train: torch.Size([32]) type: torch.LongTensor\n"
     ]
    }
   ],
   "source": [
    "''' 4. 데이터 확인하기 (1) '''\n",
    "for (X_train, y_train) in train_loader:\n",
    "    print('X_train:', X_train.size(), 'type:', X_train.type())\n",
    "    print('y_train:', y_train.size(), 'type:', y_train.type())\n",
    "    break"
   ]
  },
  {
   "cell_type": "code",
   "execution_count": 6,
   "metadata": {},
   "outputs": [
    {
     "data": {
      "image/png": "[encoded data removed]",
      "text/plain": [
       "<Figure size 720x72 with 10 Axes>"
      ]
     },
     "metadata": {
      "needs_background": "light"
     },
     "output_type": "display_data"
    }
   ],
   "source": [
    "''' 5. 데이터 확인하기 (2) '''\n",
    "pltsize = 1\n",
    "plt.figure(figsize=(10 * pltsize, pltsize))\n",
    "for i in range(10):\n",
    "    plt.subplot(1, 10, i + 1)\n",
    "    plt.axis('off')\n",
    "    plt.imshow(X_train[i, :, :, :].numpy().reshape(28, 28), cmap = \"gray_r\")\n",
    "    plt.title('Class: ' + str(y_train[i].item()))"
   ]
  },
  {
   "cell_type": "code",
   "execution_count": 7,
   "metadata": {},
   "outputs": [],
   "source": [
    "''' 6. Multi Layer Perceptron (MLP) 모델 설계하기 '''\n",
    "class Net(nn.Module):\n",
    "    def __init__(self):\n",
    "        super(Net, self).__init__()\n",
    "        self.fc1 = nn.Linear(28 * 28, 512)\n",
    "        self.fc2 = nn.Linear(512, 256)\n",
    "        self.fc3 = nn.Linear(256, 10)\n",
    "        self.dropout_prob = 0.5\n",
    "        self.batch_norm1 = nn.BatchNorm1d(512)\n",
    "        self.batch_norm2 = nn.BatchNorm1d(256)\n",
    "\n",
    "    def forward(self, x):\n",
    "        x = x.view(-1, 28 * 28)\n",
    "        x = self.fc1(x)\n",
    "        x = self.batch_norm1(x)\n",
    "        x = F.relu(x)\n",
    "        x = F.dropout(x, training = self.training, p = self.dropout_prob)\n",
    "        x = self.fc2(x)\n",
    "        x = self.batch_norm2(x)\n",
    "        x = F.relu(x)\n",
    "        x = F.dropout(x, training = self.training, p = self.dropout_prob)\n",
    "        x = self.fc3(x)\n",
    "        x = F.log_softmax(x, dim = 1)\n",
    "        return x"
   ]
  },
  {
   "cell_type": "code",
   "execution_count": 8,
   "metadata": {},
   "outputs": [
    {
     "name": "stdout",
     "output_type": "stream",
     "text": [
      "Net(\n",
      "  (fc1): Linear(in_features=784, out_features=512, bias=True)\n",
      "  (fc2): Linear(in_features=512, out_features=256, bias=True)\n",
      "  (fc3): Linear(in_features=256, out_features=10, bias=True)\n",
      "  (batch_norm1): BatchNorm1d(512, eps=1e-05, momentum=0.1, affine=True, track_running_stats=True)\n",
      "  (batch_norm2): BatchNorm1d(256, eps=1e-05, momentum=0.1, affine=True, track_running_stats=True)\n",
      ")\n"
     ]
    }
   ],
   "source": [
    "''' 7. Optimizer, Objective Function 설정하기 '''\n",
    "model = Net().to(DEVICE)\n",
    "optimizer = torch.optim.SGD(model.parameters(), lr = 0.01, momentum = 0.5)\n",
    "criterion = nn.CrossEntropyLoss()\n",
    "\n",
    "print(model)"
   ]
  },
  {
   "cell_type": "code",
   "execution_count": 9,
   "metadata": {},
   "outputs": [],
   "source": [
    "''' 8. MLP 모델 학습을 진행하며 학습 데이터에 대한 모델 성능을 확인하는 함수 정의 '''\n",
    "def train(model, train_loader, optimizer, log_interval):\n",
    "    model.train()\n",
    "    for batch_idx, (image, label) in enumerate(train_loader):\n",
    "        image = image.to(DEVICE)\n",
    "        label = label.to(DEVICE)\n",
    "        optimizer.zero_grad()\n",
    "        output = model(image)\n",
    "        loss = criterion(output, label)\n",
    "        loss.backward()\n",
    "        optimizer.step()\n",
    "\n",
    "        if batch_idx % log_interval == 0:\n",
    "            print(\"Train Epoch: {} [{}/{} ({:.0f}%)]\\tTrain Loss: {:.6f}\".format(\n",
    "                epoch, batch_idx * len(image), \n",
    "                len(train_loader.dataset), 100. * batch_idx / len(train_loader), \n",
    "                loss.item()))"
   ]
  },
  {
   "cell_type": "code",
   "execution_count": 10,
   "metadata": {},
   "outputs": [],
   "source": [
    "''' 9. 학습되는 과정 속에서 검증 데이터에 대한 모델 성능을 확인하는 함수 정의 '''\n",
    "def evaluate(model, test_loader):\n",
    "    model.eval()\n",
    "    test_loss = 0\n",
    "    correct = 0\n",
    "\n",
    "    with torch.no_grad():\n",
    "        for image, label in test_loader:\n",
    "            image = image.to(DEVICE)\n",
    "            label = label.to(DEVICE)\n",
    "            output = model(image)\n",
    "            test_loss += criterion(output, label).item()\n",
    "            prediction = output.max(1, keepdim = True)[1]\n",
    "            correct += prediction.eq(label.view_as(prediction)).sum().item()\n",
    "    \n",
    "    test_loss /= (len(test_loader.dataset) / BATCH_SIZE)\n",
    "    test_accuracy = 100. * correct / len(test_loader.dataset)\n",
    "    return test_loss, test_accuracy"
   ]
  },
  {
   "cell_type": "code",
   "execution_count": 11,
   "metadata": {},
   "outputs": [
    {
     "name": "stdout",
     "output_type": "stream",
     "text": [
      "Train Epoch: 1 [0/60000 (0%)]\tTrain Loss: 2.408397\n",
      "Train Epoch: 1 [6400/60000 (11%)]\tTrain Loss: 0.565749\n",
      "Train Epoch: 1 [12800/60000 (21%)]\tTrain Loss: 0.529340\n",
      "Train Epoch: 1 [19200/60000 (32%)]\tTrain Loss: 0.337603\n",
      "Train Epoch: 1 [25600/60000 (43%)]\tTrain Loss: 0.587682\n",
      "Train Epoch: 1 [32000/60000 (53%)]\tTrain Loss: 0.371249\n",
      "Train Epoch: 1 [38400/60000 (64%)]\tTrain Loss: 0.757439\n",
      "Train Epoch: 1 [44800/60000 (75%)]\tTrain Loss: 0.523711\n",
      "Train Epoch: 1 [51200/60000 (85%)]\tTrain Loss: 0.288144\n",
      "Train Epoch: 1 [57600/60000 (96%)]\tTrain Loss: 0.253793\n",
      "\n",
      "[EPOCH: 1], \tTest Loss: 0.0048, \tTest Accuracy: 95.26 % \n",
      "\n",
      "Train Epoch: 2 [0/60000 (0%)]\tTrain Loss: 0.408605\n",
      "Train Epoch: 2 [6400/60000 (11%)]\tTrain Loss: 0.290822\n",
      "Train Epoch: 2 [12800/60000 (21%)]\tTrain Loss: 0.197596\n",
      "Train Epoch: 2 [19200/60000 (32%)]\tTrain Loss: 0.256635\n",
      "Train Epoch: 2 [25600/60000 (43%)]\tTrain Loss: 0.263706\n",
      "Train Epoch: 2 [32000/60000 (53%)]\tTrain Loss: 0.269775\n",
      "Train Epoch: 2 [38400/60000 (64%)]\tTrain Loss: 0.330976\n",
      "Train Epoch: 2 [44800/60000 (75%)]\tTrain Loss: 0.063536\n",
      "Train Epoch: 2 [51200/60000 (85%)]\tTrain Loss: 0.278092\n",
      "Train Epoch: 2 [57600/60000 (96%)]\tTrain Loss: 0.370884\n",
      "\n",
      "[EPOCH: 2], \tTest Loss: 0.0037, \tTest Accuracy: 96.38 % \n",
      "\n",
      "Train Epoch: 3 [0/60000 (0%)]\tTrain Loss: 0.473225\n",
      "Train Epoch: 3 [6400/60000 (11%)]\tTrain Loss: 0.359397\n",
      "Train Epoch: 3 [12800/60000 (21%)]\tTrain Loss: 0.335095\n",
      "Train Epoch: 3 [19200/60000 (32%)]\tTrain Loss: 0.061883\n",
      "Train Epoch: 3 [25600/60000 (43%)]\tTrain Loss: 0.148324\n",
      "Train Epoch: 3 [32000/60000 (53%)]\tTrain Loss: 0.295295\n",
      "Train Epoch: 3 [38400/60000 (64%)]\tTrain Loss: 0.143966\n",
      "Train Epoch: 3 [44800/60000 (75%)]\tTrain Loss: 0.027375\n",
      "Train Epoch: 3 [51200/60000 (85%)]\tTrain Loss: 0.296227\n",
      "Train Epoch: 3 [57600/60000 (96%)]\tTrain Loss: 0.146117\n",
      "\n",
      "[EPOCH: 3], \tTest Loss: 0.0031, \tTest Accuracy: 96.92 % \n",
      "\n",
      "Train Epoch: 4 [0/60000 (0%)]\tTrain Loss: 0.128434\n",
      "Train Epoch: 4 [6400/60000 (11%)]\tTrain Loss: 0.144728\n",
      "Train Epoch: 4 [12800/60000 (21%)]\tTrain Loss: 0.251649\n",
      "Train Epoch: 4 [19200/60000 (32%)]\tTrain Loss: 0.080718\n",
      "Train Epoch: 4 [25600/60000 (43%)]\tTrain Loss: 0.185179\n",
      "Train Epoch: 4 [32000/60000 (53%)]\tTrain Loss: 0.388055\n",
      "Train Epoch: 4 [38400/60000 (64%)]\tTrain Loss: 0.169363\n",
      "Train Epoch: 4 [44800/60000 (75%)]\tTrain Loss: 0.044224\n",
      "Train Epoch: 4 [51200/60000 (85%)]\tTrain Loss: 0.206786\n",
      "Train Epoch: 4 [57600/60000 (96%)]\tTrain Loss: 0.246572\n",
      "\n",
      "[EPOCH: 4], \tTest Loss: 0.0028, \tTest Accuracy: 97.29 % \n",
      "\n",
      "Train Epoch: 5 [0/60000 (0%)]\tTrain Loss: 0.072247\n",
      "Train Epoch: 5 [6400/60000 (11%)]\tTrain Loss: 0.243650\n",
      "Train Epoch: 5 [12800/60000 (21%)]\tTrain Loss: 0.123755\n",
      "Train Epoch: 5 [19200/60000 (32%)]\tTrain Loss: 0.073167\n",
      "Train Epoch: 5 [25600/60000 (43%)]\tTrain Loss: 0.055972\n",
      "Train Epoch: 5 [32000/60000 (53%)]\tTrain Loss: 0.302183\n",
      "Train Epoch: 5 [38400/60000 (64%)]\tTrain Loss: 0.355575\n",
      "Train Epoch: 5 [44800/60000 (75%)]\tTrain Loss: 0.080272\n",
      "Train Epoch: 5 [51200/60000 (85%)]\tTrain Loss: 0.410138\n",
      "Train Epoch: 5 [57600/60000 (96%)]\tTrain Loss: 0.532726\n",
      "\n",
      "[EPOCH: 5], \tTest Loss: 0.0026, \tTest Accuracy: 97.54 % \n",
      "\n",
      "Train Epoch: 6 [0/60000 (0%)]\tTrain Loss: 0.082712\n",
      "Train Epoch: 6 [6400/60000 (11%)]\tTrain Loss: 0.242383\n",
      "Train Epoch: 6 [12800/60000 (21%)]\tTrain Loss: 0.073166\n",
      "Train Epoch: 6 [19200/60000 (32%)]\tTrain Loss: 0.065983\n",
      "Train Epoch: 6 [25600/60000 (43%)]\tTrain Loss: 0.153423\n",
      "Train Epoch: 6 [32000/60000 (53%)]\tTrain Loss: 0.106637\n",
      "Train Epoch: 6 [38400/60000 (64%)]\tTrain Loss: 0.181440\n",
      "Train Epoch: 6 [44800/60000 (75%)]\tTrain Loss: 0.217991\n",
      "Train Epoch: 6 [51200/60000 (85%)]\tTrain Loss: 0.047518\n",
      "Train Epoch: 6 [57600/60000 (96%)]\tTrain Loss: 0.152127\n",
      "\n",
      "[EPOCH: 6], \tTest Loss: 0.0024, \tTest Accuracy: 97.55 % \n",
      "\n",
      "Train Epoch: 7 [0/60000 (0%)]\tTrain Loss: 0.074586\n",
      "Train Epoch: 7 [6400/60000 (11%)]\tTrain Loss: 0.285396\n",
      "Train Epoch: 7 [12800/60000 (21%)]\tTrain Loss: 0.101163\n",
      "Train Epoch: 7 [19200/60000 (32%)]\tTrain Loss: 0.222260\n",
      "Train Epoch: 7 [25600/60000 (43%)]\tTrain Loss: 0.096511\n",
      "Train Epoch: 7 [32000/60000 (53%)]\tTrain Loss: 0.184161\n",
      "Train Epoch: 7 [38400/60000 (64%)]\tTrain Loss: 0.040291\n",
      "Train Epoch: 7 [44800/60000 (75%)]\tTrain Loss: 0.186297\n",
      "Train Epoch: 7 [51200/60000 (85%)]\tTrain Loss: 0.321589\n",
      "Train Epoch: 7 [57600/60000 (96%)]\tTrain Loss: 0.179110\n",
      "\n",
      "[EPOCH: 7], \tTest Loss: 0.0022, \tTest Accuracy: 97.74 % \n",
      "\n",
      "Train Epoch: 8 [0/60000 (0%)]\tTrain Loss: 0.041527\n",
      "Train Epoch: 8 [6400/60000 (11%)]\tTrain Loss: 0.089809\n",
      "Train Epoch: 8 [12800/60000 (21%)]\tTrain Loss: 0.173585\n",
      "Train Epoch: 8 [19200/60000 (32%)]\tTrain Loss: 0.122103\n",
      "Train Epoch: 8 [25600/60000 (43%)]\tTrain Loss: 0.102293\n",
      "Train Epoch: 8 [32000/60000 (53%)]\tTrain Loss: 0.140654\n",
      "Train Epoch: 8 [38400/60000 (64%)]\tTrain Loss: 0.190124\n",
      "Train Epoch: 8 [44800/60000 (75%)]\tTrain Loss: 0.364228\n",
      "Train Epoch: 8 [51200/60000 (85%)]\tTrain Loss: 0.095618\n",
      "Train Epoch: 8 [57600/60000 (96%)]\tTrain Loss: 0.050769\n",
      "\n",
      "[EPOCH: 8], \tTest Loss: 0.0022, \tTest Accuracy: 97.87 % \n",
      "\n",
      "Train Epoch: 9 [0/60000 (0%)]\tTrain Loss: 0.289604\n",
      "Train Epoch: 9 [6400/60000 (11%)]\tTrain Loss: 0.199143\n",
      "Train Epoch: 9 [12800/60000 (21%)]\tTrain Loss: 0.064629\n",
      "Train Epoch: 9 [19200/60000 (32%)]\tTrain Loss: 0.038997\n",
      "Train Epoch: 9 [25600/60000 (43%)]\tTrain Loss: 0.132849\n",
      "Train Epoch: 9 [32000/60000 (53%)]\tTrain Loss: 0.466395\n",
      "Train Epoch: 9 [38400/60000 (64%)]\tTrain Loss: 0.095477\n",
      "Train Epoch: 9 [44800/60000 (75%)]\tTrain Loss: 0.124449\n",
      "Train Epoch: 9 [51200/60000 (85%)]\tTrain Loss: 0.069822\n",
      "Train Epoch: 9 [57600/60000 (96%)]\tTrain Loss: 0.073448\n",
      "\n",
      "[EPOCH: 9], \tTest Loss: 0.0021, \tTest Accuracy: 97.98 % \n",
      "\n",
      "Train Epoch: 10 [0/60000 (0%)]\tTrain Loss: 0.060481\n",
      "Train Epoch: 10 [6400/60000 (11%)]\tTrain Loss: 0.127830\n",
      "Train Epoch: 10 [12800/60000 (21%)]\tTrain Loss: 0.053453\n",
      "Train Epoch: 10 [19200/60000 (32%)]\tTrain Loss: 0.273952\n",
      "Train Epoch: 10 [25600/60000 (43%)]\tTrain Loss: 0.150731\n",
      "Train Epoch: 10 [32000/60000 (53%)]\tTrain Loss: 0.040127\n",
      "Train Epoch: 10 [38400/60000 (64%)]\tTrain Loss: 0.267848\n",
      "Train Epoch: 10 [44800/60000 (75%)]\tTrain Loss: 0.110777\n",
      "Train Epoch: 10 [51200/60000 (85%)]\tTrain Loss: 0.167811\n",
      "Train Epoch: 10 [57600/60000 (96%)]\tTrain Loss: 0.026505\n",
      "\n",
      "[EPOCH: 10], \tTest Loss: 0.0021, \tTest Accuracy: 97.92 % \n",
      "\n"
     ]
    }
   ],
   "source": [
    "''' 10. MLP 학습 실행하며 Train, Test set의 Loss 및 Test set Accuracy 확인하기 '''\n",
    "for epoch in range(1, EPOCHS + 1):\n",
    "    train(model, train_loader, optimizer, log_interval = 200)\n",
    "    test_loss, test_accuracy = evaluate(model, test_loader)\n",
    "    print(\"\\n[EPOCH: {}], \\tTest Loss: {:.4f}, \\tTest Accuracy: {:.2f} % \\n\".format(\n",
    "        epoch, test_loss, test_accuracy))"
   ]
  }
 ],
 "metadata": {
  "kernelspec": {
   "display_name": "Python 3",
   "language": "python",
   "name": "python3"
  },
  "language_info": {
   "codemirror_mode": {
    "name": "ipython",
    "version": 3
   },
   "file_extension": ".py",
   "mimetype": "text/x-python",
   "name": "python",
   "nbconvert_exporter": "python",
   "pygments_lexer": "ipython3",
   "version": "3.6.8"
  }
 },
 "nbformat": 4,
 "nbformat_minor": 4
}
