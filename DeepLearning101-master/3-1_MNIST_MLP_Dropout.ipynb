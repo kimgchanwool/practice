{
 "cells": [
  {
   "cell_type": "code",
   "execution_count": 1,
   "metadata": {},
   "outputs": [],
   "source": [
    "''' 1. Module Import '''\n",
    "import numpy as np\n",
    "import matplotlib.pyplot as plt\n",
    "\n",
    "import torch\n",
    "import torch.nn as nn\n",
    "import torch.nn.functional as F\n",
    "from torchvision import transforms, datasets"
   ]
  },
  {
   "cell_type": "code",
   "execution_count": 2,
   "metadata": {},
   "outputs": [
    {
     "name": "stdout",
     "output_type": "stream",
     "text": [
      "Using PyTorch version: 1.10.0  Device: cpu\n"
     ]
    }
   ],
   "source": [
    "''' 2. 딥러닝 모델을 설계할 때 활용하는 장비 확인 '''\n",
    "if torch.cuda.is_available():\n",
    "    DEVICE = torch.device('cuda')\n",
    "else:\n",
    "    DEVICE = torch.device('cpu')\n",
    "print('Using PyTorch version:', torch.__version__, ' Device:', DEVICE)"
   ]
  },
  {
   "cell_type": "code",
   "execution_count": 3,
   "metadata": {},
   "outputs": [],
   "source": [
    "BATCH_SIZE = 32\n",
    "EPOCHS = 10"
   ]
  },
  {
   "cell_type": "code",
   "execution_count": 4,
   "metadata": {},
   "outputs": [
    {
     "name": "stdout",
     "output_type": "stream",
     "text": [
      "Downloading http://yann.lecun.com/exdb/mnist/train-images-idx3-ubyte.gz\n",
      "Downloading http://yann.lecun.com/exdb/mnist/train-images-idx3-ubyte.gz to ../data/MNIST/MNIST/raw/train-images-idx3-ubyte.gz\n"
     ]
    },
    {
     "data": {
      "application/vnd.jupyter.widget-view+json": {
       "model_id": "d6226b9997494d2c9b737e673a6cbc26",
       "version_major": 2,
       "version_minor": 0
      },
      "text/plain": [
       "  0%|          | 0/9912422 [00:00<?, ?it/s]"
      ]
     },
     "metadata": {},
     "output_type": "display_data"
    },
    {
     "name": "stdout",
     "output_type": "stream",
     "text": [
      "Extracting ../data/MNIST/MNIST/raw/train-images-idx3-ubyte.gz to ../data/MNIST/MNIST/raw\n",
      "\n",
      "Downloading http://yann.lecun.com/exdb/mnist/train-labels-idx1-ubyte.gz\n",
      "Downloading http://yann.lecun.com/exdb/mnist/train-labels-idx1-ubyte.gz to ../data/MNIST/MNIST/raw/train-labels-idx1-ubyte.gz\n"
     ]
    },
    {
     "data": {
      "application/vnd.jupyter.widget-view+json": {
       "model_id": "24716c71cb3540d898370e8f72fe0617",
       "version_major": 2,
       "version_minor": 0
      },
      "text/plain": [
       "  0%|          | 0/28881 [00:00<?, ?it/s]"
      ]
     },
     "metadata": {},
     "output_type": "display_data"
    },
    {
     "name": "stdout",
     "output_type": "stream",
     "text": [
      "Extracting ../data/MNIST/MNIST/raw/train-labels-idx1-ubyte.gz to ../data/MNIST/MNIST/raw\n",
      "\n",
      "Downloading http://yann.lecun.com/exdb/mnist/t10k-images-idx3-ubyte.gz\n",
      "Downloading http://yann.lecun.com/exdb/mnist/t10k-images-idx3-ubyte.gz to ../data/MNIST/MNIST/raw/t10k-images-idx3-ubyte.gz\n"
     ]
    },
    {
     "data": {
      "application/vnd.jupyter.widget-view+json": {
       "model_id": "8ba401ed1ff44f84a0a73b6ef5befa25",
       "version_major": 2,
       "version_minor": 0
      },
      "text/plain": [
       "  0%|          | 0/1648877 [00:00<?, ?it/s]"
      ]
     },
     "metadata": {},
     "output_type": "display_data"
    },
    {
     "name": "stdout",
     "output_type": "stream",
     "text": [
      "Extracting ../data/MNIST/MNIST/raw/t10k-images-idx3-ubyte.gz to ../data/MNIST/MNIST/raw\n",
      "\n",
      "Downloading http://yann.lecun.com/exdb/mnist/t10k-labels-idx1-ubyte.gz\n",
      "Downloading http://yann.lecun.com/exdb/mnist/t10k-labels-idx1-ubyte.gz to ../data/MNIST/MNIST/raw/t10k-labels-idx1-ubyte.gz\n"
     ]
    },
    {
     "data": {
      "application/vnd.jupyter.widget-view+json": {
       "model_id": "215bec17bfea496ea983031b5ad84a35",
       "version_major": 2,
       "version_minor": 0
      },
      "text/plain": [
       "  0%|          | 0/4542 [00:00<?, ?it/s]"
      ]
     },
     "metadata": {},
     "output_type": "display_data"
    },
    {
     "name": "stdout",
     "output_type": "stream",
     "text": [
      "Extracting ../data/MNIST/MNIST/raw/t10k-labels-idx1-ubyte.gz to ../data/MNIST/MNIST/raw\n",
      "\n"
     ]
    }
   ],
   "source": [
    "''' 3. MNIST 데이터 다운로드 (Train set, Test set 분리하기) '''\n",
    "train_dataset = datasets.MNIST(root = \"../data/MNIST\",\n",
    "                               train = True,\n",
    "                               download = True,\n",
    "                               transform = transforms.ToTensor())\n",
    "\n",
    "test_dataset = datasets.MNIST(root = \"../data/MNIST\",\n",
    "                              train = False,\n",
    "                              transform = transforms.ToTensor())\n",
    "\n",
    "train_loader = torch.utils.data.DataLoader(dataset = train_dataset,\n",
    "                                           batch_size = BATCH_SIZE,\n",
    "                                           shuffle = True)\n",
    "\n",
    "test_loader = torch.utils.data.DataLoader(dataset = test_dataset,\n",
    "                                          batch_size = BATCH_SIZE,\n",
    "                                          shuffle = False)"
   ]
  },
  {
   "cell_type": "code",
   "execution_count": 5,
   "metadata": {},
   "outputs": [
    {
     "name": "stdout",
     "output_type": "stream",
     "text": [
      "X_train: torch.Size([32, 1, 28, 28]) type: torch.FloatTensor\n",
      "y_train: torch.Size([32]) type: torch.LongTensor\n"
     ]
    }
   ],
   "source": [
    "''' 4. 데이터 확인하기 (1) '''\n",
    "for (X_train, y_train) in train_loader:\n",
    "    print('X_train:', X_train.size(), 'type:', X_train.type())\n",
    "    print('y_train:', y_train.size(), 'type:', y_train.type())\n",
    "    break"
   ]
  },
  {
   "cell_type": "code",
   "execution_count": 6,
   "metadata": {},
   "outputs": [
    {
     "data": {
      "image/png": "[encoded data removed]",
      "text/plain": [
       "<Figure size 720x72 with 10 Axes>"
      ]
     },
     "metadata": {
      "needs_background": "light"
     },
     "output_type": "display_data"
    }
   ],
   "source": [
    "''' 5. 데이터 확인하기 (2) '''\n",
    "pltsize = 1\n",
    "plt.figure(figsize=(10 * pltsize, pltsize))\n",
    "for i in range(10):\n",
    "    plt.subplot(1, 10, i + 1)\n",
    "    plt.axis('off')\n",
    "    plt.imshow(X_train[i, :, :, :].numpy().reshape(28, 28), cmap = \"gray_r\")\n",
    "    plt.title('Class: ' + str(y_train[i].item()))"
   ]
  },
  {
   "cell_type": "code",
   "execution_count": 13,
   "metadata": {},
   "outputs": [],
   "source": [
    "''' 6. Multi Layer Perceptron (MLP) 모델 설계하기 '''\n",
    "class Net(nn.Module):\n",
    "    def __init__(self):\n",
    "        super(Net, self).__init__()\n",
    "        self.fc1 = nn.Linear(28 * 28, 512)\n",
    "        self.fc2 = nn.Linear(512, 256)\n",
    "        self.fc3 = nn.Linear(256, 10)\n",
    "        self.dropout_prob = 0.5 #0.5비율만큼 droptthat\n",
    "\n",
    "    def forward(self, x):\n",
    "        x = x.view(-1, 28 * 28)\n",
    "        x = self.fc1(x)\n",
    "        x = F.sigmoid(x)\n",
    "        x = F.dropout(x, training = self.training, p = self.dropout_prob)\n",
    "        x = self.fc2(x)\n",
    "        x = F.sigmoid(x)\n",
    "        x = F.dropout(x, training = self.training, p = self.dropout_prob)\n",
    "        x = self.fc3(x)\n",
    "        x = F.log_softmax(x, dim = 1)\n",
    "        return x"
   ]
  },
  {
   "cell_type": "code",
   "execution_count": 14,
   "metadata": {},
   "outputs": [
    {
     "name": "stdout",
     "output_type": "stream",
     "text": [
      "Net(\n",
      "  (fc1): Linear(in_features=784, out_features=512, bias=True)\n",
      "  (fc2): Linear(in_features=512, out_features=256, bias=True)\n",
      "  (fc3): Linear(in_features=256, out_features=10, bias=True)\n",
      ")\n"
     ]
    }
   ],
   "source": [
    "''' 7. Optimizer, Objective Function 설정하기 '''\n",
    "model = Net().to(DEVICE)\n",
    "optimizer = torch.optim.SGD(model.parameters(), lr = 0.01, momentum = 0.5)\n",
    "criterion = nn.CrossEntropyLoss()\n",
    "\n",
    "print(model)"
   ]
  },
  {
   "cell_type": "code",
   "execution_count": 15,
   "metadata": {},
   "outputs": [],
   "source": [
    "''' 8. MLP 모델 학습을 진행하며 학습 데이터에 대한 모델 성능을 확인하는 함수 정의 '''\n",
    "def train(model, train_loader, optimizer, log_interval):\n",
    "    model.train()\n",
    "    for batch_idx, (image, label) in enumerate(train_loader):\n",
    "        image = image.to(DEVICE)\n",
    "        label = label.to(DEVICE)\n",
    "        optimizer.zero_grad()\n",
    "        output = model(image)\n",
    "        loss = criterion(output, label)\n",
    "        loss.backward()\n",
    "        optimizer.step()\n",
    "\n",
    "        if batch_idx % log_interval == 0:\n",
    "            print(\"Train Epoch: {} [{}/{} ({:.0f}%)]\\tTrain Loss: {:.6f}\".format(\n",
    "                epoch, batch_idx * len(image), \n",
    "                len(train_loader.dataset), 100. * batch_idx / len(train_loader), \n",
    "                loss.item()))"
   ]
  },
  {
   "cell_type": "code",
   "execution_count": 10,
   "metadata": {},
   "outputs": [],
   "source": [
    "''' 9. 학습되는 과정 속에서 검증 데이터에 대한 모델 성능을 확인하는 함수 정의 '''\n",
    "def evaluate(model, test_loader):\n",
    "    model.eval()\n",
    "    test_loss = 0\n",
    "    correct = 0\n",
    "\n",
    "    with torch.no_grad():\n",
    "        for image, label in test_loader:\n",
    "            image = image.to(DEVICE)\n",
    "            label = label.to(DEVICE)\n",
    "            output = model(image)\n",
    "            test_loss += criterion(output, label).item()\n",
    "            prediction = output.max(1, keepdim = True)[1]\n",
    "            correct += prediction.eq(label.view_as(prediction)).sum().item()\n",
    "    \n",
    "    test_loss /= (len(test_loader.dataset) / BATCH_SIZE)\n",
    "    test_accuracy = 100. * correct / len(test_loader.dataset)\n",
    "    return test_loss, test_accuracy"
   ]
  },
  {
   "cell_type": "code",
   "execution_count": 11,
   "metadata": {
    "scrolled": true
   },
   "outputs": [
    {
     "name": "stderr",
     "output_type": "stream",
     "text": [
      "/opt/homebrew/anaconda3/lib/python3.8/site-packages/torch/nn/functional.py:1806: UserWarning: nn.functional.sigmoid is deprecated. Use torch.sigmoid instead.\n",
      "  warnings.warn(\"nn.functional.sigmoid is deprecated. Use torch.sigmoid instead.\")\n"
     ]
    },
    {
     "name": "stdout",
     "output_type": "stream",
     "text": [
      "Train Epoch: 1 [0/60000 (0%)]\tTrain Loss: 2.316413\n",
      "Train Epoch: 1 [6400/60000 (11%)]\tTrain Loss: 2.313438\n",
      "Train Epoch: 1 [12800/60000 (21%)]\tTrain Loss: 2.321229\n",
      "Train Epoch: 1 [19200/60000 (32%)]\tTrain Loss: 2.359316\n",
      "Train Epoch: 1 [25600/60000 (43%)]\tTrain Loss: 2.331643\n",
      "Train Epoch: 1 [32000/60000 (53%)]\tTrain Loss: 2.299960\n",
      "Train Epoch: 1 [38400/60000 (64%)]\tTrain Loss: 2.294034\n",
      "Train Epoch: 1 [44800/60000 (75%)]\tTrain Loss: 2.270794\n",
      "Train Epoch: 1 [51200/60000 (85%)]\tTrain Loss: 2.312805\n",
      "Train Epoch: 1 [57600/60000 (96%)]\tTrain Loss: 2.281701\n",
      "\n",
      "[EPOCH: 1], \tTest Loss: 2.2821, \tTest Accuracy: 20.72 % \n",
      "\n",
      "Train Epoch: 2 [0/60000 (0%)]\tTrain Loss: 2.251991\n",
      "Train Epoch: 2 [6400/60000 (11%)]\tTrain Loss: 2.347236\n",
      "Train Epoch: 2 [12800/60000 (21%)]\tTrain Loss: 2.260037\n",
      "Train Epoch: 2 [19200/60000 (32%)]\tTrain Loss: 2.264573\n",
      "Train Epoch: 2 [25600/60000 (43%)]\tTrain Loss: 2.299517\n",
      "Train Epoch: 2 [32000/60000 (53%)]\tTrain Loss: 2.305211\n",
      "Train Epoch: 2 [38400/60000 (64%)]\tTrain Loss: 2.211708\n",
      "Train Epoch: 2 [44800/60000 (75%)]\tTrain Loss: 2.240553\n",
      "Train Epoch: 2 [51200/60000 (85%)]\tTrain Loss: 2.147588\n",
      "Train Epoch: 2 [57600/60000 (96%)]\tTrain Loss: 2.135373\n",
      "\n",
      "[EPOCH: 2], \tTest Loss: 2.1143, \tTest Accuracy: 45.99 % \n",
      "\n",
      "Train Epoch: 3 [0/60000 (0%)]\tTrain Loss: 2.165090\n",
      "Train Epoch: 3 [6400/60000 (11%)]\tTrain Loss: 2.142931\n",
      "Train Epoch: 3 [12800/60000 (21%)]\tTrain Loss: 1.993514\n",
      "Train Epoch: 3 [19200/60000 (32%)]\tTrain Loss: 2.077740\n",
      "Train Epoch: 3 [25600/60000 (43%)]\tTrain Loss: 1.762236\n",
      "Train Epoch: 3 [32000/60000 (53%)]\tTrain Loss: 1.821729\n",
      "Train Epoch: 3 [38400/60000 (64%)]\tTrain Loss: 1.863671\n",
      "Train Epoch: 3 [44800/60000 (75%)]\tTrain Loss: 1.862656\n",
      "Train Epoch: 3 [51200/60000 (85%)]\tTrain Loss: 1.403499\n",
      "Train Epoch: 3 [57600/60000 (96%)]\tTrain Loss: 1.443997\n",
      "\n",
      "[EPOCH: 3], \tTest Loss: 1.2133, \tTest Accuracy: 63.03 % \n",
      "\n",
      "Train Epoch: 4 [0/60000 (0%)]\tTrain Loss: 1.389578\n",
      "Train Epoch: 4 [6400/60000 (11%)]\tTrain Loss: 1.227943\n",
      "Train Epoch: 4 [12800/60000 (21%)]\tTrain Loss: 1.152817\n",
      "Train Epoch: 4 [19200/60000 (32%)]\tTrain Loss: 1.270999\n",
      "Train Epoch: 4 [25600/60000 (43%)]\tTrain Loss: 1.540508\n",
      "Train Epoch: 4 [32000/60000 (53%)]\tTrain Loss: 1.211083\n",
      "Train Epoch: 4 [38400/60000 (64%)]\tTrain Loss: 0.860344\n",
      "Train Epoch: 4 [44800/60000 (75%)]\tTrain Loss: 1.216531\n",
      "Train Epoch: 4 [51200/60000 (85%)]\tTrain Loss: 1.134863\n",
      "Train Epoch: 4 [57600/60000 (96%)]\tTrain Loss: 1.127200\n",
      "\n",
      "[EPOCH: 4], \tTest Loss: 0.8835, \tTest Accuracy: 72.59 % \n",
      "\n",
      "Train Epoch: 5 [0/60000 (0%)]\tTrain Loss: 1.047820\n",
      "Train Epoch: 5 [6400/60000 (11%)]\tTrain Loss: 1.018025\n",
      "Train Epoch: 5 [12800/60000 (21%)]\tTrain Loss: 1.083541\n",
      "Train Epoch: 5 [19200/60000 (32%)]\tTrain Loss: 1.127131\n",
      "Train Epoch: 5 [25600/60000 (43%)]\tTrain Loss: 0.966138\n",
      "Train Epoch: 5 [32000/60000 (53%)]\tTrain Loss: 1.004809\n",
      "Train Epoch: 5 [38400/60000 (64%)]\tTrain Loss: 0.691615\n",
      "Train Epoch: 5 [44800/60000 (75%)]\tTrain Loss: 0.988983\n",
      "Train Epoch: 5 [51200/60000 (85%)]\tTrain Loss: 1.350312\n",
      "Train Epoch: 5 [57600/60000 (96%)]\tTrain Loss: 1.170154\n",
      "\n",
      "[EPOCH: 5], \tTest Loss: 0.7424, \tTest Accuracy: 77.57 % \n",
      "\n",
      "Train Epoch: 6 [0/60000 (0%)]\tTrain Loss: 1.001802\n",
      "Train Epoch: 6 [6400/60000 (11%)]\tTrain Loss: 0.589169\n",
      "Train Epoch: 6 [12800/60000 (21%)]\tTrain Loss: 0.803130\n",
      "Train Epoch: 6 [19200/60000 (32%)]\tTrain Loss: 0.517448\n",
      "Train Epoch: 6 [25600/60000 (43%)]\tTrain Loss: 1.438708\n",
      "Train Epoch: 6 [32000/60000 (53%)]\tTrain Loss: 0.952461\n",
      "Train Epoch: 6 [38400/60000 (64%)]\tTrain Loss: 0.882527\n",
      "Train Epoch: 6 [44800/60000 (75%)]\tTrain Loss: 0.758535\n",
      "Train Epoch: 6 [51200/60000 (85%)]\tTrain Loss: 0.808207\n",
      "Train Epoch: 6 [57600/60000 (96%)]\tTrain Loss: 0.886057\n",
      "\n",
      "[EPOCH: 6], \tTest Loss: 0.6331, \tTest Accuracy: 81.33 % \n",
      "\n",
      "Train Epoch: 7 [0/60000 (0%)]\tTrain Loss: 1.210292\n",
      "Train Epoch: 7 [6400/60000 (11%)]\tTrain Loss: 0.671813\n",
      "Train Epoch: 7 [12800/60000 (21%)]\tTrain Loss: 0.853792\n",
      "Train Epoch: 7 [19200/60000 (32%)]\tTrain Loss: 0.799635\n",
      "Train Epoch: 7 [25600/60000 (43%)]\tTrain Loss: 0.940562\n",
      "Train Epoch: 7 [32000/60000 (53%)]\tTrain Loss: 0.867454\n",
      "Train Epoch: 7 [38400/60000 (64%)]\tTrain Loss: 0.472151\n",
      "Train Epoch: 7 [44800/60000 (75%)]\tTrain Loss: 0.669808\n",
      "Train Epoch: 7 [51200/60000 (85%)]\tTrain Loss: 0.599249\n",
      "Train Epoch: 7 [57600/60000 (96%)]\tTrain Loss: 0.389404\n",
      "\n",
      "[EPOCH: 7], \tTest Loss: 0.5524, \tTest Accuracy: 83.73 % \n",
      "\n",
      "Train Epoch: 8 [0/60000 (0%)]\tTrain Loss: 0.863053\n",
      "Train Epoch: 8 [6400/60000 (11%)]\tTrain Loss: 0.408523\n",
      "Train Epoch: 8 [12800/60000 (21%)]\tTrain Loss: 0.781821\n",
      "Train Epoch: 8 [19200/60000 (32%)]\tTrain Loss: 0.916213\n",
      "Train Epoch: 8 [25600/60000 (43%)]\tTrain Loss: 0.694449\n",
      "Train Epoch: 8 [32000/60000 (53%)]\tTrain Loss: 0.865737\n",
      "Train Epoch: 8 [38400/60000 (64%)]\tTrain Loss: 0.708344\n",
      "Train Epoch: 8 [44800/60000 (75%)]\tTrain Loss: 0.561604\n",
      "Train Epoch: 8 [51200/60000 (85%)]\tTrain Loss: 0.615494\n",
      "Train Epoch: 8 [57600/60000 (96%)]\tTrain Loss: 0.614893\n",
      "\n",
      "[EPOCH: 8], \tTest Loss: 0.4999, \tTest Accuracy: 85.21 % \n",
      "\n",
      "Train Epoch: 9 [0/60000 (0%)]\tTrain Loss: 0.588585\n",
      "Train Epoch: 9 [6400/60000 (11%)]\tTrain Loss: 0.596800\n",
      "Train Epoch: 9 [12800/60000 (21%)]\tTrain Loss: 0.544340\n",
      "Train Epoch: 9 [19200/60000 (32%)]\tTrain Loss: 0.771857\n",
      "Train Epoch: 9 [25600/60000 (43%)]\tTrain Loss: 0.743065\n",
      "Train Epoch: 9 [32000/60000 (53%)]\tTrain Loss: 0.766474\n",
      "Train Epoch: 9 [38400/60000 (64%)]\tTrain Loss: 0.676454\n",
      "Train Epoch: 9 [44800/60000 (75%)]\tTrain Loss: 0.480773\n",
      "Train Epoch: 9 [51200/60000 (85%)]\tTrain Loss: 0.895234\n",
      "Train Epoch: 9 [57600/60000 (96%)]\tTrain Loss: 0.519853\n",
      "\n",
      "[EPOCH: 9], \tTest Loss: 0.4637, \tTest Accuracy: 86.07 % \n",
      "\n",
      "Train Epoch: 10 [0/60000 (0%)]\tTrain Loss: 1.011422\n",
      "Train Epoch: 10 [6400/60000 (11%)]\tTrain Loss: 0.565663\n",
      "Train Epoch: 10 [12800/60000 (21%)]\tTrain Loss: 0.482673\n",
      "Train Epoch: 10 [19200/60000 (32%)]\tTrain Loss: 0.777360\n",
      "Train Epoch: 10 [25600/60000 (43%)]\tTrain Loss: 0.327691\n",
      "Train Epoch: 10 [32000/60000 (53%)]\tTrain Loss: 0.678496\n",
      "Train Epoch: 10 [38400/60000 (64%)]\tTrain Loss: 0.693903\n",
      "Train Epoch: 10 [44800/60000 (75%)]\tTrain Loss: 0.527279\n",
      "Train Epoch: 10 [51200/60000 (85%)]\tTrain Loss: 0.515444\n",
      "Train Epoch: 10 [57600/60000 (96%)]\tTrain Loss: 0.644956\n",
      "\n",
      "[EPOCH: 10], \tTest Loss: 0.4361, \tTest Accuracy: 86.85 % \n",
      "\n"
     ]
    }
   ],
   "source": [
    "''' 10. MLP 학습 실행하며 Train, Test set의 Loss 및 Test set Accuracy 확인하기 '''\n",
    "for epoch in range(1, EPOCHS + 1):\n",
    "    train(model, train_loader, optimizer, log_interval = 200)\n",
    "    test_loss, test_accuracy = evaluate(model, test_loader)\n",
    "    print(\"\\n[EPOCH: {}], \\tTest Loss: {:.4f}, \\tTest Accuracy: {:.2f} % \\n\".format(\n",
    "        epoch, test_loss, test_accuracy))"
   ]
  },
  {
   "cell_type": "code",
   "execution_count": 16,
   "metadata": {},
   "outputs": [
    {
     "name": "stdout",
     "output_type": "stream",
     "text": [
      "Train Epoch: 1 [0/60000 (0%)]\tTrain Loss: 2.378882\n",
      "Train Epoch: 1 [6400/60000 (11%)]\tTrain Loss: 2.274883\n",
      "Train Epoch: 1 [12800/60000 (21%)]\tTrain Loss: 2.313771\n",
      "Train Epoch: 1 [19200/60000 (32%)]\tTrain Loss: 2.310135\n",
      "Train Epoch: 1 [25600/60000 (43%)]\tTrain Loss: 2.310568\n",
      "Train Epoch: 1 [32000/60000 (53%)]\tTrain Loss: 2.278761\n",
      "Train Epoch: 1 [38400/60000 (64%)]\tTrain Loss: 2.381725\n",
      "Train Epoch: 1 [44800/60000 (75%)]\tTrain Loss: 2.277796\n",
      "Train Epoch: 1 [51200/60000 (85%)]\tTrain Loss: 2.309698\n",
      "Train Epoch: 1 [57600/60000 (96%)]\tTrain Loss: 2.261589\n",
      "\n",
      "[EPOCH: 1], \tTest Loss: 2.2819, \tTest Accuracy: 20.99 % \n",
      "\n",
      "Train Epoch: 2 [0/60000 (0%)]\tTrain Loss: 2.346204\n",
      "Train Epoch: 2 [6400/60000 (11%)]\tTrain Loss: 2.373585\n",
      "Train Epoch: 2 [12800/60000 (21%)]\tTrain Loss: 2.295304\n",
      "Train Epoch: 2 [19200/60000 (32%)]\tTrain Loss: 2.178009\n",
      "Train Epoch: 2 [25600/60000 (43%)]\tTrain Loss: 2.326411\n",
      "Train Epoch: 2 [32000/60000 (53%)]\tTrain Loss: 2.240166\n",
      "Train Epoch: 2 [38400/60000 (64%)]\tTrain Loss: 2.261139\n",
      "Train Epoch: 2 [44800/60000 (75%)]\tTrain Loss: 2.133425\n",
      "Train Epoch: 2 [51200/60000 (85%)]\tTrain Loss: 2.243503\n",
      "Train Epoch: 2 [57600/60000 (96%)]\tTrain Loss: 2.176769\n",
      "\n",
      "[EPOCH: 2], \tTest Loss: 2.0578, \tTest Accuracy: 40.96 % \n",
      "\n",
      "Train Epoch: 3 [0/60000 (0%)]\tTrain Loss: 2.093835\n",
      "Train Epoch: 3 [6400/60000 (11%)]\tTrain Loss: 2.007352\n",
      "Train Epoch: 3 [12800/60000 (21%)]\tTrain Loss: 1.832153\n",
      "Train Epoch: 3 [19200/60000 (32%)]\tTrain Loss: 2.072850\n",
      "Train Epoch: 3 [25600/60000 (43%)]\tTrain Loss: 1.880525\n",
      "Train Epoch: 3 [32000/60000 (53%)]\tTrain Loss: 1.625193\n",
      "Train Epoch: 3 [38400/60000 (64%)]\tTrain Loss: 1.459317\n",
      "Train Epoch: 3 [44800/60000 (75%)]\tTrain Loss: 1.594238\n",
      "Train Epoch: 3 [51200/60000 (85%)]\tTrain Loss: 1.691581\n",
      "Train Epoch: 3 [57600/60000 (96%)]\tTrain Loss: 1.415558\n",
      "\n",
      "[EPOCH: 3], \tTest Loss: 1.2346, \tTest Accuracy: 59.23 % \n",
      "\n",
      "Train Epoch: 4 [0/60000 (0%)]\tTrain Loss: 1.475456\n",
      "Train Epoch: 4 [6400/60000 (11%)]\tTrain Loss: 1.418890\n",
      "Train Epoch: 4 [12800/60000 (21%)]\tTrain Loss: 1.190809\n",
      "Train Epoch: 4 [19200/60000 (32%)]\tTrain Loss: 0.991696\n",
      "Train Epoch: 4 [25600/60000 (43%)]\tTrain Loss: 1.043778\n",
      "Train Epoch: 4 [32000/60000 (53%)]\tTrain Loss: 1.192084\n",
      "Train Epoch: 4 [38400/60000 (64%)]\tTrain Loss: 1.194788\n",
      "Train Epoch: 4 [44800/60000 (75%)]\tTrain Loss: 1.205951\n",
      "Train Epoch: 4 [51200/60000 (85%)]\tTrain Loss: 1.238292\n",
      "Train Epoch: 4 [57600/60000 (96%)]\tTrain Loss: 0.991259\n",
      "\n",
      "[EPOCH: 4], \tTest Loss: 0.8921, \tTest Accuracy: 70.39 % \n",
      "\n",
      "Train Epoch: 5 [0/60000 (0%)]\tTrain Loss: 0.813143\n",
      "Train Epoch: 5 [6400/60000 (11%)]\tTrain Loss: 0.912338\n",
      "Train Epoch: 5 [12800/60000 (21%)]\tTrain Loss: 1.006994\n",
      "Train Epoch: 5 [19200/60000 (32%)]\tTrain Loss: 0.964630\n",
      "Train Epoch: 5 [25600/60000 (43%)]\tTrain Loss: 0.976548\n",
      "Train Epoch: 5 [32000/60000 (53%)]\tTrain Loss: 0.877663\n",
      "Train Epoch: 5 [38400/60000 (64%)]\tTrain Loss: 0.993892\n",
      "Train Epoch: 5 [44800/60000 (75%)]\tTrain Loss: 1.016464\n",
      "Train Epoch: 5 [51200/60000 (85%)]\tTrain Loss: 0.971380\n",
      "Train Epoch: 5 [57600/60000 (96%)]\tTrain Loss: 0.962638\n",
      "\n",
      "[EPOCH: 5], \tTest Loss: 0.7646, \tTest Accuracy: 74.58 % \n",
      "\n",
      "Train Epoch: 6 [0/60000 (0%)]\tTrain Loss: 1.008905\n",
      "Train Epoch: 6 [6400/60000 (11%)]\tTrain Loss: 1.008455\n",
      "Train Epoch: 6 [12800/60000 (21%)]\tTrain Loss: 1.073114\n",
      "Train Epoch: 6 [19200/60000 (32%)]\tTrain Loss: 0.719489\n",
      "Train Epoch: 6 [25600/60000 (43%)]\tTrain Loss: 0.750881\n",
      "Train Epoch: 6 [32000/60000 (53%)]\tTrain Loss: 0.576044\n",
      "Train Epoch: 6 [38400/60000 (64%)]\tTrain Loss: 1.148693\n",
      "Train Epoch: 6 [44800/60000 (75%)]\tTrain Loss: 0.660345\n",
      "Train Epoch: 6 [51200/60000 (85%)]\tTrain Loss: 1.147966\n",
      "Train Epoch: 6 [57600/60000 (96%)]\tTrain Loss: 0.704988\n",
      "\n",
      "[EPOCH: 6], \tTest Loss: 0.6681, \tTest Accuracy: 79.98 % \n",
      "\n",
      "Train Epoch: 7 [0/60000 (0%)]\tTrain Loss: 1.053410\n",
      "Train Epoch: 7 [6400/60000 (11%)]\tTrain Loss: 1.276095\n",
      "Train Epoch: 7 [12800/60000 (21%)]\tTrain Loss: 1.114171\n",
      "Train Epoch: 7 [19200/60000 (32%)]\tTrain Loss: 0.763205\n",
      "Train Epoch: 7 [25600/60000 (43%)]\tTrain Loss: 0.400263\n",
      "Train Epoch: 7 [32000/60000 (53%)]\tTrain Loss: 0.815901\n",
      "Train Epoch: 7 [38400/60000 (64%)]\tTrain Loss: 0.543832\n",
      "Train Epoch: 7 [44800/60000 (75%)]\tTrain Loss: 0.889943\n",
      "Train Epoch: 7 [51200/60000 (85%)]\tTrain Loss: 0.895933\n",
      "Train Epoch: 7 [57600/60000 (96%)]\tTrain Loss: 0.979071\n",
      "\n",
      "[EPOCH: 7], \tTest Loss: 0.5819, \tTest Accuracy: 82.64 % \n",
      "\n",
      "Train Epoch: 8 [0/60000 (0%)]\tTrain Loss: 0.664920\n",
      "Train Epoch: 8 [6400/60000 (11%)]\tTrain Loss: 0.543769\n",
      "Train Epoch: 8 [12800/60000 (21%)]\tTrain Loss: 0.570754\n",
      "Train Epoch: 8 [19200/60000 (32%)]\tTrain Loss: 0.619794\n",
      "Train Epoch: 8 [25600/60000 (43%)]\tTrain Loss: 0.734164\n",
      "Train Epoch: 8 [32000/60000 (53%)]\tTrain Loss: 0.586990\n",
      "Train Epoch: 8 [38400/60000 (64%)]\tTrain Loss: 0.450167\n",
      "Train Epoch: 8 [44800/60000 (75%)]\tTrain Loss: 0.393477\n",
      "Train Epoch: 8 [51200/60000 (85%)]\tTrain Loss: 0.872137\n",
      "Train Epoch: 8 [57600/60000 (96%)]\tTrain Loss: 0.406298\n",
      "\n",
      "[EPOCH: 8], \tTest Loss: 0.5170, \tTest Accuracy: 84.97 % \n",
      "\n",
      "Train Epoch: 9 [0/60000 (0%)]\tTrain Loss: 0.461697\n",
      "Train Epoch: 9 [6400/60000 (11%)]\tTrain Loss: 0.829507\n",
      "Train Epoch: 9 [12800/60000 (21%)]\tTrain Loss: 0.640343\n",
      "Train Epoch: 9 [19200/60000 (32%)]\tTrain Loss: 0.815473\n",
      "Train Epoch: 9 [25600/60000 (43%)]\tTrain Loss: 0.710233\n",
      "Train Epoch: 9 [32000/60000 (53%)]\tTrain Loss: 0.528823\n",
      "Train Epoch: 9 [38400/60000 (64%)]\tTrain Loss: 0.499129\n",
      "Train Epoch: 9 [44800/60000 (75%)]\tTrain Loss: 0.741446\n",
      "Train Epoch: 9 [51200/60000 (85%)]\tTrain Loss: 0.487683\n",
      "Train Epoch: 9 [57600/60000 (96%)]\tTrain Loss: 0.670579\n",
      "\n",
      "[EPOCH: 9], \tTest Loss: 0.4715, \tTest Accuracy: 86.25 % \n",
      "\n",
      "Train Epoch: 10 [0/60000 (0%)]\tTrain Loss: 0.508083\n",
      "Train Epoch: 10 [6400/60000 (11%)]\tTrain Loss: 0.855523\n",
      "Train Epoch: 10 [12800/60000 (21%)]\tTrain Loss: 0.533016\n",
      "Train Epoch: 10 [19200/60000 (32%)]\tTrain Loss: 0.524580\n",
      "Train Epoch: 10 [25600/60000 (43%)]\tTrain Loss: 0.737825\n",
      "Train Epoch: 10 [32000/60000 (53%)]\tTrain Loss: 0.723711\n",
      "Train Epoch: 10 [38400/60000 (64%)]\tTrain Loss: 0.752918\n",
      "Train Epoch: 10 [44800/60000 (75%)]\tTrain Loss: 0.708216\n",
      "Train Epoch: 10 [51200/60000 (85%)]\tTrain Loss: 0.449552\n",
      "Train Epoch: 10 [57600/60000 (96%)]\tTrain Loss: 0.804166\n",
      "\n",
      "[EPOCH: 10], \tTest Loss: 0.4422, \tTest Accuracy: 86.99 % \n",
      "\n"
     ]
    }
   ],
   "source": [
    "class Net(nn.Module):\n",
    "    def __init__(self):\n",
    "        super(Net, self).__init__()\n",
    "        self.fc1 = nn.Linear(28 * 28, 512)\n",
    "        self.fc2 = nn.Linear(512, 256)\n",
    "        self.fc3 = nn.Linear(256, 10)\n",
    "        self.dropout_prob = 0.5 #0.5비율만큼 droptthat\n",
    "\n",
    "    def forward(self, x):\n",
    "        x = x.view(-1, 28 * 28)\n",
    "        x = self.fc1(x)\n",
    "        x = F.sigmoid(x)\n",
    "        #x = F.dropout(x, training = self.training, p = self.dropout_prob)\n",
    "        x = self.fc2(x)\n",
    "        x = F.sigmoid(x)\n",
    "        #x = F.dropout(x, training = self.training, p = self.dropout_prob)\n",
    "        x = self.fc3(x)\n",
    "        x = F.log_softmax(x, dim = 1)\n",
    "        return x\n",
    "''' 10. MLP 학습 실행하며 Train, Test set의 Loss 및 Test set Accuracy 확인하기 '''\n",
    "for epoch in range(1, EPOCHS + 1):\n",
    "    train(model, train_loader, optimizer, log_interval = 200)\n",
    "    test_loss, test_accuracy = evaluate(model, test_loader)\n",
    "    print(\"\\n[EPOCH: {}], \\tTest Loss: {:.4f}, \\tTest Accuracy: {:.2f} % \\n\".format(\n",
    "        epoch, test_loss, test_accuracy))"
   ]
  },
  {
   "cell_type": "code",
   "execution_count": null,
   "metadata": {},
   "outputs": [],
   "source": []
  }
 ],
 "metadata": {
  "kernelspec": {
   "display_name": "Python 3",
   "language": "python",
   "name": "python3"
  },
  "language_info": {
   "codemirror_mode": {
    "name": "ipython",
    "version": 3
   },
   "file_extension": ".py",
   "mimetype": "text/x-python",
   "name": "python",
   "nbconvert_exporter": "python",
   "pygments_lexer": "ipython3",
   "version": "3.8.8"
  }
 },
 "nbformat": 4,
 "nbformat_minor": 4
}
