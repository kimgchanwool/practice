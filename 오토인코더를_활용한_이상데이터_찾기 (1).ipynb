{
  "nbformat": 4,
  "nbformat_minor": 0,
  "metadata": {
    "colab": {
      "name": "오토인코더를 활용한 이상데이터 찾기.ipynb",
      "provenance": [],
      "collapsed_sections": []
    },
    "kernelspec": {
      "name": "python3",
      "display_name": "Python 3"
    },
    "language_info": {
      "name": "python"
    },
    "accelerator": "GPU"
  },
  "cells": [
    {
      "cell_type": "code",
      "metadata": {
        "id": "MkVqaoeNbPPO"
      },
      "source": [
        ""
      ],
      "execution_count": null,
      "outputs": []
    },
    {
      "cell_type": "code",
      "metadata": {
        "id": "xdt65obtcO8k"
      },
      "source": [
        "import random\n",
        "import pandas as pd\n",
        "import matplotlib.pyplot as plt\n",
        "import numpy as np"
      ],
      "execution_count": null,
      "outputs": []
    },
    {
      "cell_type": "code",
      "metadata": {
        "id": "N2ttqVyXds2G"
      },
      "source": [
        "df = pd.read_csv('/content/mnist_test.csv')"
      ],
      "execution_count": null,
      "outputs": []
    },
    {
      "cell_type": "code",
      "metadata": {
        "colab": {
          "base_uri": "https://localhost:8080/",
          "height": 129
        },
        "id": "9hmV7RPud21M",
        "outputId": "8c1357e2-b102-48e3-ca86-b2328023df9a"
      },
      "source": [
        "df.head(1)"
      ],
      "execution_count": null,
      "outputs": [
        {
          "output_type": "execute_result",
          "data": {
            "text/html": [
              "<div>\n",
              "<style scoped>\n",
              "    .dataframe tbody tr th:only-of-type {\n",
              "        vertical-align: middle;\n",
              "    }\n",
              "\n",
              "    .dataframe tbody tr th {\n",
              "        vertical-align: top;\n",
              "    }\n",
              "\n",
              "    .dataframe thead th {\n",
              "        text-align: right;\n",
              "    }\n",
              "</style>\n",
              "<table border=\"1\" class=\"dataframe\">\n",
              "  <thead>\n",
              "    <tr style=\"text-align: right;\">\n",
              "      <th></th>\n",
              "      <th>label</th>\n",
              "      <th>1x1</th>\n",
              "      <th>1x2</th>\n",
              "      <th>1x3</th>\n",
              "      <th>1x4</th>\n",
              "      <th>1x5</th>\n",
              "      <th>1x6</th>\n",
              "      <th>1x7</th>\n",
              "      <th>1x8</th>\n",
              "      <th>1x9</th>\n",
              "      <th>1x10</th>\n",
              "      <th>1x11</th>\n",
              "      <th>1x12</th>\n",
              "      <th>1x13</th>\n",
              "      <th>1x14</th>\n",
              "      <th>1x15</th>\n",
              "      <th>1x16</th>\n",
              "      <th>1x17</th>\n",
              "      <th>1x18</th>\n",
              "      <th>1x19</th>\n",
              "      <th>1x20</th>\n",
              "      <th>1x21</th>\n",
              "      <th>1x22</th>\n",
              "      <th>1x23</th>\n",
              "      <th>1x24</th>\n",
              "      <th>1x25</th>\n",
              "      <th>1x26</th>\n",
              "      <th>1x27</th>\n",
              "      <th>1x28</th>\n",
              "      <th>2x1</th>\n",
              "      <th>2x2</th>\n",
              "      <th>2x3</th>\n",
              "      <th>2x4</th>\n",
              "      <th>2x5</th>\n",
              "      <th>2x6</th>\n",
              "      <th>2x7</th>\n",
              "      <th>2x8</th>\n",
              "      <th>2x9</th>\n",
              "      <th>2x10</th>\n",
              "      <th>2x11</th>\n",
              "      <th>...</th>\n",
              "      <th>27x17</th>\n",
              "      <th>27x18</th>\n",
              "      <th>27x19</th>\n",
              "      <th>27x20</th>\n",
              "      <th>27x21</th>\n",
              "      <th>27x22</th>\n",
              "      <th>27x23</th>\n",
              "      <th>27x24</th>\n",
              "      <th>27x25</th>\n",
              "      <th>27x26</th>\n",
              "      <th>27x27</th>\n",
              "      <th>27x28</th>\n",
              "      <th>28x1</th>\n",
              "      <th>28x2</th>\n",
              "      <th>28x3</th>\n",
              "      <th>28x4</th>\n",
              "      <th>28x5</th>\n",
              "      <th>28x6</th>\n",
              "      <th>28x7</th>\n",
              "      <th>28x8</th>\n",
              "      <th>28x9</th>\n",
              "      <th>28x10</th>\n",
              "      <th>28x11</th>\n",
              "      <th>28x12</th>\n",
              "      <th>28x13</th>\n",
              "      <th>28x14</th>\n",
              "      <th>28x15</th>\n",
              "      <th>28x16</th>\n",
              "      <th>28x17</th>\n",
              "      <th>28x18</th>\n",
              "      <th>28x19</th>\n",
              "      <th>28x20</th>\n",
              "      <th>28x21</th>\n",
              "      <th>28x22</th>\n",
              "      <th>28x23</th>\n",
              "      <th>28x24</th>\n",
              "      <th>28x25</th>\n",
              "      <th>28x26</th>\n",
              "      <th>28x27</th>\n",
              "      <th>28x28</th>\n",
              "    </tr>\n",
              "  </thead>\n",
              "  <tbody>\n",
              "    <tr>\n",
              "      <th>0</th>\n",
              "      <td>7</td>\n",
              "      <td>0</td>\n",
              "      <td>0</td>\n",
              "      <td>0</td>\n",
              "      <td>0</td>\n",
              "      <td>0</td>\n",
              "      <td>0</td>\n",
              "      <td>0</td>\n",
              "      <td>0</td>\n",
              "      <td>0</td>\n",
              "      <td>0</td>\n",
              "      <td>0</td>\n",
              "      <td>0</td>\n",
              "      <td>0</td>\n",
              "      <td>0</td>\n",
              "      <td>0</td>\n",
              "      <td>0</td>\n",
              "      <td>0</td>\n",
              "      <td>0</td>\n",
              "      <td>0</td>\n",
              "      <td>0</td>\n",
              "      <td>0</td>\n",
              "      <td>0</td>\n",
              "      <td>0</td>\n",
              "      <td>0</td>\n",
              "      <td>0</td>\n",
              "      <td>0</td>\n",
              "      <td>0</td>\n",
              "      <td>0</td>\n",
              "      <td>0</td>\n",
              "      <td>0</td>\n",
              "      <td>0</td>\n",
              "      <td>0</td>\n",
              "      <td>0</td>\n",
              "      <td>0</td>\n",
              "      <td>0</td>\n",
              "      <td>0</td>\n",
              "      <td>0</td>\n",
              "      <td>0</td>\n",
              "      <td>0</td>\n",
              "      <td>...</td>\n",
              "      <td>0</td>\n",
              "      <td>0</td>\n",
              "      <td>0</td>\n",
              "      <td>0</td>\n",
              "      <td>0</td>\n",
              "      <td>0</td>\n",
              "      <td>0</td>\n",
              "      <td>0</td>\n",
              "      <td>0</td>\n",
              "      <td>0</td>\n",
              "      <td>0</td>\n",
              "      <td>0</td>\n",
              "      <td>0</td>\n",
              "      <td>0</td>\n",
              "      <td>0</td>\n",
              "      <td>0</td>\n",
              "      <td>0</td>\n",
              "      <td>0</td>\n",
              "      <td>0</td>\n",
              "      <td>0</td>\n",
              "      <td>0</td>\n",
              "      <td>0</td>\n",
              "      <td>0</td>\n",
              "      <td>0</td>\n",
              "      <td>0</td>\n",
              "      <td>0</td>\n",
              "      <td>0</td>\n",
              "      <td>0</td>\n",
              "      <td>0</td>\n",
              "      <td>0</td>\n",
              "      <td>0</td>\n",
              "      <td>0</td>\n",
              "      <td>0</td>\n",
              "      <td>0</td>\n",
              "      <td>0</td>\n",
              "      <td>0</td>\n",
              "      <td>0</td>\n",
              "      <td>0</td>\n",
              "      <td>0</td>\n",
              "      <td>0</td>\n",
              "    </tr>\n",
              "  </tbody>\n",
              "</table>\n",
              "<p>1 rows × 785 columns</p>\n",
              "</div>"
            ],
            "text/plain": [
              "   label  1x1  1x2  1x3  1x4  1x5  ...  28x23  28x24  28x25  28x26  28x27  28x28\n",
              "0      7    0    0    0    0    0  ...      0      0      0      0      0      0\n",
              "\n",
              "[1 rows x 785 columns]"
            ]
          },
          "metadata": {},
          "execution_count": 6
        }
      ]
    },
    {
      "cell_type": "code",
      "metadata": {
        "id": "znKX02_ld3Zx"
      },
      "source": [
        "anom = df[:1000].copy()\n",
        "clean = df[1000:].copy()"
      ],
      "execution_count": null,
      "outputs": []
    },
    {
      "cell_type": "code",
      "metadata": {
        "id": "8eQ67UUheDuE"
      },
      "source": [
        "for i in range(len(anom)):\n",
        "  # select row from anom\n",
        "  row = anom.iloc[i]\n",
        "  #iterate through each element in row\n",
        "  for i in range(len(row)-1):\n",
        "    row[i+1] = min(255, row[i+1] + random.randint(100, 200)) # 100에서 200사이의 값을 더하고 255가 넘으면 255로 제한"
      ],
      "execution_count": null,
      "outputs": []
    },
    {
      "cell_type": "code",
      "metadata": {
        "id": "Sj9oIZANevHU"
      },
      "source": [
        "anom['label'] = 1\n",
        "clean['label'] = 0"
      ],
      "execution_count": null,
      "outputs": []
    },
    {
      "cell_type": "code",
      "metadata": {
        "colab": {
          "base_uri": "https://localhost:8080/",
          "height": 59
        },
        "id": "sYutJTZ-e5pV",
        "outputId": "85866ddf-10c0-474c-8a9a-b12a6d3a3250"
      },
      "source": [
        " img = anom.iloc[:,1:]\n",
        " for i in range(10):\n",
        "    plt.subplot(1, 10, i + 1)\n",
        "    plt.axis('off')\n",
        "    plt.imshow(img.iloc[i,:].values.reshape(28,28), cmap= 'gray_r')"
      ],
      "execution_count": null,
      "outputs": [
        {
          "output_type": "display_data",
          "data": {
            "image/png": "[encoded data removed]",
            "text/plain": [
              "<Figure size 432x288 with 10 Axes>"
            ]
          },
          "metadata": {
            "needs_background": "light"
          }
        }
      ]
    },
    {
      "cell_type": "code",
      "metadata": {
        "colab": {
          "base_uri": "https://localhost:8080/",
          "height": 59
        },
        "id": "X9qOoHKKfTNJ",
        "outputId": "5e09c79e-5b28-499b-b087-5e163fdea44a"
      },
      "source": [
        "img2 = clean.iloc[:, 1:]\n",
        "for i in range(10):\n",
        "    plt.subplot(1, 10, i + 1)\n",
        "    plt.axis('off')\n",
        "    plt.imshow(img2.iloc[i,:].values.reshape(28,28), cmap = \"gray_r\")\n"
      ],
      "execution_count": null,
      "outputs": [
        {
          "output_type": "display_data",
          "data": {
            "image/png": "[encoded data removed]",
            "text/plain": [
              "<Figure size 432x288 with 10 Axes>"
            ]
          },
          "metadata": {
            "needs_background": "light"
          }
        }
      ]
    },
    {
      "cell_type": "code",
      "metadata": {
        "id": "yUXYlCsgfVeV"
      },
      "source": [
        "an_test = pd.concat([anom, clean])  # join\n",
        "an_test.sample(frac=1)              # shuffle\n",
        "an_test.to_csv('anom.csv')          # save"
      ],
      "execution_count": null,
      "outputs": []
    },
    {
      "cell_type": "code",
      "metadata": {
        "id": "__SmZoohfYXb"
      },
      "source": [
        "import torch.nn as nn\n",
        "\n",
        "class AE(nn.Module):\n",
        "    def __init__(self):\n",
        "        super(AE, self).__init__()        \n",
        "        self.enc = nn.Sequential(\n",
        "                    nn.Linear(784, 512),\n",
        "                    nn.ReLU(),\n",
        "                    nn.Linear(512, 256),\n",
        "                    nn.ReLU(),\n",
        "                    nn.Linear(256, 128),\n",
        "                    nn.ReLU(),\n",
        "                    nn.Linear(128, 64),\n",
        "                    nn.ReLU(),\n",
        "                    nn.Linear(64, 32),\n",
        "                    nn.ReLU(),\n",
        "                    nn.Linear(32, 16),\n",
        "                    nn.ReLU()\n",
        "        )\n",
        "        self.dec = nn.Sequential(\n",
        "            nn.Linear(16, 32),\n",
        "            nn.ReLU(),\n",
        "            nn.Linear(32, 64),\n",
        "            nn.ReLU(),\n",
        "            nn.Linear(64, 128),\n",
        "            nn.ReLU(),\n",
        "            nn.Linear(128, 256),\n",
        "            nn.ReLU(),\n",
        "            nn.Linear(256, 512),\n",
        "            nn.ReLU(),\n",
        "            nn.Linear(512, 784),\n",
        "            nn.ReLU()\n",
        "        )\n",
        "        \n",
        "    def forward(self, x):\n",
        "        encode = self.enc(x)\n",
        "        decode = self.dec(encode)\n",
        "        return decode"
      ],
      "execution_count": null,
      "outputs": []
    },
    {
      "cell_type": "code",
      "metadata": {
        "id": "LMhkVdadgsds"
      },
      "source": [
        "import torch\n",
        "import time\n",
        "import random\n",
        "import matplotlib.pyplot as plt\n",
        "import torch.nn as nn\n",
        "import numpy as np\n",
        "import pandas as pd\n",
        "import seaborn as sns\n",
        "from collections import defaultdict\n",
        "from datetime import timedelta\n"
      ],
      "execution_count": null,
      "outputs": []
    },
    {
      "cell_type": "code",
      "metadata": {
        "id": "ihw7sxNBg5DJ"
      },
      "source": [
        "batch_size = 16\n",
        "lr = 1e-2         # learning rate\n",
        "# 과적합을 방지하기 위해서 규제 항목 추가 \n",
        "w_d = 1e-5        # weight decay == 규제\n",
        "momentum = 0.9   \n",
        "epochs = 15"
      ],
      "execution_count": null,
      "outputs": []
    },
    {
      "cell_type": "code",
      "metadata": {
        "id": "aUaBCLQchEFE"
      },
      "source": [
        "class Loader(torch.utils.data.Dataset):\n",
        "    def __init__(self):\n",
        "        super(Loader, self).__init__()\n",
        "        self.dataset = ''\n",
        "    \n",
        "    def __len__(self):\n",
        "        return len(self.dataset)\n",
        "    \n",
        "    def __getitem__(self, idx):\n",
        "        row = self.dataset.iloc[idx]\n",
        "        row = row.drop(labels={'label'}) # 정답값 지우기\n",
        "        data = torch.from_numpy(np.array(row)/255).float() # 255로 나눈 스케일링\n",
        "        return data\n",
        "    \n",
        "class Train_Loader(Loader):\n",
        "    def __init__(self):\n",
        "        super(Train_Loader, self).__init__() #상속받기 \n",
        "        self.dataset = pd.read_csv( #dataset에 데이터 받아옴\n",
        "                       'mnist_train.csv',\n",
        "                       index_col=False\n",
        "                       )"
      ],
      "execution_count": null,
      "outputs": []
    },
    {
      "cell_type": "code",
      "metadata": {
        "id": "AXkSfNlxhezv"
      },
      "source": [
        "train_set = Train_Loader()\n",
        "\n",
        "train_ = torch.utils.data.DataLoader(\n",
        "            train_set,\n",
        "            batch_size=batch_size,\n",
        "            shuffle=True,\n",
        "            #num_workers=20,\n",
        "            pin_memory=True,\n",
        "            drop_last=True\n",
        "        )"
      ],
      "execution_count": null,
      "outputs": []
    },
    {
      "cell_type": "code",
      "metadata": {
        "colab": {
          "base_uri": "https://localhost:8080/"
        },
        "id": "UFrLMWrPhkn7",
        "outputId": "92e5c1c4-42c9-401b-d7dd-f27fa02d05ce"
      },
      "source": [
        "train_"
      ],
      "execution_count": null,
      "outputs": [
        {
          "output_type": "execute_result",
          "data": {
            "text/plain": [
              "<torch.utils.data.dataloader.DataLoader at 0x7f3dcb474a50>"
            ]
          },
          "metadata": {},
          "execution_count": 29
        }
      ]
    },
    {
      "cell_type": "code",
      "metadata": {
        "id": "0iMH5U_yhpUM"
      },
      "source": [
        "metrics = defaultdict(list)\n",
        "device = 'cuda' if torch.cuda.is_available() else 'cpu' #CPU면 CPU,  CUDA면 CUDA\n",
        "model = AE()\n",
        "model.to(device) #디바이스 값 넘기기\n",
        "criterion = nn.MSELoss(reduction='mean') # MSE사용\n",
        "optimizer = torch.optim.SGD(model.parameters(), lr=lr, weight_decay=w_d) #과적합 방지로 w_d를 규제로 둔 SGD 소프트벡터머신"
      ],
      "execution_count": null,
      "outputs": []
    },
    {
      "cell_type": "code",
      "metadata": {
        "colab": {
          "base_uri": "https://localhost:8080/"
        },
        "id": "sj6wPRJ4iDAE",
        "outputId": "2e82dcc7-c224-41b6-cfe4-0901741bf8bd"
      },
      "source": [
        "model.train()\n",
        "start = time.time()\n",
        "for epoch in range(epochs):\n",
        "    ep_start = time.time()\n",
        "    running_loss = 0.0\n",
        "    for bx, (data) in enumerate(train_):\n",
        "        sample = model(data.to(device))\n",
        "        loss = criterion(data.to(device), sample)\n",
        "        optimizer.zero_grad() #기울기 초기화\n",
        "        loss.backward() # 역전파\n",
        "        optimizer.step() # 기울기 기록\n",
        "        running_loss += loss.item() #기록\n",
        "    epoch_loss = running_loss/len(train_set) #계산\n",
        "    metrics['train_loss'].append(epoch_loss)\n",
        "    ep_end = time.time()\n",
        "    print('-----------------------------------------------')\n",
        "    print('[EPOCH] {}/{}\\n[LOSS] {}'.format(epoch+1,epochs,epoch_loss))\n",
        "    print('Epoch Complete in {}'.format(timedelta(seconds=ep_end-ep_start)))\n",
        "end = time.time()\n",
        "print('-----------------------------------------------')\n",
        "print('[System Complete: {}]'.format(timedelta(seconds=end-start)))"
      ],
      "execution_count": null,
      "outputs": [
        {
          "output_type": "stream",
          "name": "stdout",
          "text": [
            "-----------------------------------------------\n",
            "[EPOCH] 1/15\n",
            "[LOSS] 0.0066066874660551545\n",
            "Epoch Complete in 0:01:10.801009\n",
            "-----------------------------------------------\n",
            "[EPOCH] 2/15\n",
            "[LOSS] 0.006180088043212891\n",
            "Epoch Complete in 0:01:10.303636\n",
            "-----------------------------------------------\n",
            "[EPOCH] 3/15\n",
            "[LOSS] 0.005730023300523559\n",
            "Epoch Complete in 0:01:10.277500\n",
            "-----------------------------------------------\n",
            "[EPOCH] 4/15\n",
            "[LOSS] 0.005426647049685319\n",
            "Epoch Complete in 0:01:09.248625\n",
            "-----------------------------------------------\n",
            "[EPOCH] 5/15\n",
            "[LOSS] 0.005309949309999744\n",
            "Epoch Complete in 0:01:09.660523\n",
            "-----------------------------------------------\n",
            "[EPOCH] 6/15\n",
            "[LOSS] 0.005274380775727332\n",
            "Epoch Complete in 0:01:10.923399\n",
            "-----------------------------------------------\n",
            "[EPOCH] 7/15\n",
            "[LOSS] 0.00526748725498716\n",
            "Epoch Complete in 0:01:10.294237\n",
            "-----------------------------------------------\n",
            "[EPOCH] 8/15\n",
            "[LOSS] 0.005266227888067563\n",
            "Epoch Complete in 0:01:10.437106\n",
            "-----------------------------------------------\n",
            "[EPOCH] 9/15\n",
            "[LOSS] 0.005265995451559623\n",
            "Epoch Complete in 0:01:10.907614\n",
            "-----------------------------------------------\n",
            "[EPOCH] 10/15\n",
            "[LOSS] 0.0052659514550119635\n",
            "Epoch Complete in 0:01:10.903641\n",
            "-----------------------------------------------\n",
            "[EPOCH] 11/15\n",
            "[LOSS] 0.0052659443989396095\n",
            "Epoch Complete in 0:01:10.749610\n",
            "-----------------------------------------------\n",
            "[EPOCH] 12/15\n",
            "[LOSS] 0.005265941622108221\n",
            "Epoch Complete in 0:01:11.104138\n",
            "-----------------------------------------------\n",
            "[EPOCH] 13/15\n",
            "[LOSS] 0.0052659413127849495\n",
            "Epoch Complete in 0:01:11.053851\n",
            "-----------------------------------------------\n",
            "[EPOCH] 14/15\n",
            "[LOSS] 0.005265941055056949\n",
            "Epoch Complete in 0:01:11.064988\n",
            "-----------------------------------------------\n",
            "[EPOCH] 15/15\n",
            "[LOSS] 0.005265938321004311\n",
            "Epoch Complete in 0:01:10.918238\n",
            "-----------------------------------------------\n",
            "[System Complete: 0:17:38.667209]\n"
          ]
        }
      ]
    },
    {
      "cell_type": "code",
      "metadata": {
        "colab": {
          "base_uri": "https://localhost:8080/",
          "height": 625
        },
        "id": "eqPZZqdDidlV",
        "outputId": "c01677ce-baa2-4594-95c8-4d3fcd143312"
      },
      "source": [
        "_, ax = plt.subplots(1,1,figsize=(15,10))\n",
        "ax.set_title('Loss')\n",
        "ax.plot(metrics['train_loss'])"
      ],
      "execution_count": null,
      "outputs": [
        {
          "output_type": "execute_result",
          "data": {
            "text/plain": [
              "[<matplotlib.lines.Line2D at 0x7f3dc95e4d10>]"
            ]
          },
          "metadata": {},
          "execution_count": 32
        },
        {
          "output_type": "display_data",
          "data": {
            "image/png": "[encoded data removed]",
            "text/plain": [
              "<Figure size 1080x720 with 1 Axes>"
            ]
          },
          "metadata": {
            "needs_background": "light"
          }
        }
      ]
    },
    {
      "cell_type": "code",
      "metadata": {
        "id": "u2KOLXbho-T3"
      },
      "source": [
        "model.eval()\n",
        "loss_dist = []\n",
        "anom = pd.read_csv('anom.csv', index_col=[0])\n",
        "#for bx, data in enumerate(test_):\n",
        "for i in range(len(anom)):\n",
        "    data = torch.from_numpy(np.array(anom.iloc[i][1:])/255).float()\n",
        "    sample = model(data.to(device))\n",
        "    loss = criterion(data.to(device), sample)\n",
        "    loss_dist.append(loss.item())\n"
      ],
      "execution_count": null,
      "outputs": []
    },
    {
      "cell_type": "code",
      "metadata": {
        "colab": {
          "base_uri": "https://localhost:8080/",
          "height": 282
        },
        "id": "Cq5kZJ6kpZVh",
        "outputId": "79a42740-c117-4f37-cf28-a3cec004cbaf"
      },
      "source": [
        "loss_sc = []\n",
        "for i in loss_dist:\n",
        "    loss_sc.append((i,i))\n",
        "plt.scatter(*zip(*loss_sc))\n",
        "plt.axvline(0.3, 0.0, 1)\n"
      ],
      "execution_count": null,
      "outputs": [
        {
          "output_type": "execute_result",
          "data": {
            "text/plain": [
              "<matplotlib.lines.Line2D at 0x7f3ecbbfa690>"
            ]
          },
          "metadata": {},
          "execution_count": 34
        },
        {
          "output_type": "display_data",
          "data": {
            "image/png": "[encoded data removed]",
            "text/plain": [
              "<Figure size 432x288 with 1 Axes>"
            ]
          },
          "metadata": {
            "needs_background": "light"
          }
        }
      ]
    },
    {
      "cell_type": "code",
      "metadata": {
        "colab": {
          "base_uri": "https://localhost:8080/",
          "height": 463
        },
        "id": "TaQ48_Rnpnd7",
        "outputId": "20e81001-9896-4d43-e261-5cede00c4232"
      },
      "source": [
        "lower_threshold = 0.0\n",
        "upper_threshold = 0.3\n",
        "plt.figure(figsize=(12,6))\n",
        "plt.title('Loss Distribution')\n",
        "sns.distplot(loss_dist,bins=100,kde=True, color='blue')\n",
        "plt.axvline(upper_threshold, 0.0, 10, color='r')\n",
        "plt.axvline(lower_threshold, 0.0, 10, color='b')\n"
      ],
      "execution_count": null,
      "outputs": [
        {
          "output_type": "stream",
          "name": "stderr",
          "text": [
            "/usr/local/lib/python3.7/dist-packages/seaborn/distributions.py:2619: FutureWarning: `distplot` is a deprecated function and will be removed in a future version. Please adapt your code to use either `displot` (a figure-level function with similar flexibility) or `histplot` (an axes-level function for histograms).\n",
            "  warnings.warn(msg, FutureWarning)\n"
          ]
        },
        {
          "output_type": "execute_result",
          "data": {
            "text/plain": [
              "<matplotlib.lines.Line2D at 0x7f3dc958ee10>"
            ]
          },
          "metadata": {},
          "execution_count": 35
        },
        {
          "output_type": "display_data",
          "data": {
            "image/png": "[encoded data removed]",
            "text/plain": [
              "<Figure size 864x432 with 1 Axes>"
            ]
          },
          "metadata": {
            "needs_background": "light"
          }
        }
      ]
    },
    {
      "cell_type": "code",
      "metadata": {
        "colab": {
          "base_uri": "https://localhost:8080/"
        },
        "id": "YFppSwlzqGto",
        "outputId": "3b838f66-c0c7-4290-a79a-01625693feba"
      },
      "source": [
        "df = pd.read_csv('anom.csv', index_col=[0])\n",
        "ddf = pd.DataFrame(columns=df.columns)\n",
        "tp = 0\n",
        "fp = 0\n",
        "tn = 0\n",
        "fn = 0\n",
        "total_anom = 0\n",
        "for i in range(len(loss_dist)):\n",
        "    total_anom += df.iloc[i]['label']\n",
        "    if loss_dist[i] >= upper_threshold:\n",
        "        n_df = pd.DataFrame([df.iloc[i]])\n",
        "        n_df['loss'] = loss_dist[i]\n",
        "        ddf = pd.concat([df,n_df], sort = True)\n",
        "        if float(df.iloc[i]['label']) == 1.0:\n",
        "            tp += 1\n",
        "        else:\n",
        "            fp += 1\n",
        "    else:\n",
        "        if float(df.iloc[i]['label']) == 1.0:\n",
        "            fn += 1\n",
        "        else:\n",
        "            tn += 1\n",
        "print('[TP] {}\\t[FP] {}\\t[MISSED] {}'.format(tp, fp, total_anom-tp))\n",
        "print('[TN] {}\\t[FN] {}'.format(tn, fn))\n"
      ],
      "execution_count": null,
      "outputs": [
        {
          "output_type": "stream",
          "name": "stdout",
          "text": [
            "[TP] 1000\t[FP] 0\t[MISSED] 0\n",
            "[TN] 9000\t[FN] 0\n"
          ]
        }
      ]
    },
    {
      "cell_type": "code",
      "metadata": {
        "id": "kFdgvdziqjYJ"
      },
      "source": [
        ""
      ],
      "execution_count": null,
      "outputs": []
    }
  ]
}