{
 "cells": [
  {
   "cell_type": "code",
   "execution_count": 7,
   "id": "e2deb812",
   "metadata": {},
   "outputs": [],
   "source": [
    "import requests\n",
    "from bs4 import BeautifulSoup\n",
    "url =  \"http://127.0.0.1:8000/pybo/question/create/\"\n",
    "with requests.Session() as s: #접속할때마다 세션이 다른데 with를 사용해서 세션을 닫지않고 진행 또한 용량이 클 경우 open 말고 with\n",
    "    # HTTP GET Request: requests대신 s 객체를 사용한다.\n",
    "    req = s.get(url)\n",
    "    bs = BeautifulSoup(req.text, 'lxml')\n",
    "    crsf = bs.find(\"input\")['value']\n",
    "    payload = {\n",
    "    'subject': '이것이 mysql이다.',\n",
    "    'content': '개정판' ,\n",
    "    }\n",
    "    payload['csrfmiddlewaretoken'] = crsf\n",
    "    r = s.post(url, data=payload)"
   ]
  },
  {
   "cell_type": "code",
   "execution_count": 6,
   "id": "d2326a16",
   "metadata": {},
   "outputs": [
    {
     "data": {
      "text/plain": [
       "'\\n<!doctype html>\\n<html lang=\"ko\">\\n<head>\\n    <!-- Required meta tags -->\\n    <meta charset=\"utf-8\">\\n    <meta name=\"viewport\" content=\"width=device-width, initial-scale=1, shrink-to-fit=no\">\\n    <!-- Bootstrap CSS -->\\n    <link rel=\"stylesheet\" type=\"text/css\" href=\"/static/bootstrap.min.css\">\\n    <!-- pybo CSS -->\\n    <link rel=\"stylesheet\" type=\"text/css\" href=\"/static/style.css\">\\n    <title>Hello, pybo!</title>\\n</head>\\n<body>\\n<!-- 기본 템플릿 안에 삽입될 내용 Start -->\\n <!--부모클래스 받아와서 다르게 구현하기-->\\n<div class=\"container my-3\">\\n    <table class=\"table\">\\n        <thead>\\n        <tr class=\"thead-dark\">\\n            <th>번호</th>\\n            <th>제목</th>\\n            <th>작성일시</th>\\n        </tr>\\n        </thead>\\n        <tbody>\\n        \\n        \\n        <tr>\\n            <td>1</td>\\n            <td>\\n                <a href=\"/pybo/10/\">이것이 mysql이다.</a>\\n            </td><!-- pybo 가 별칭.-->\\n            <td>2021년 10월 20일 10:30 오전</td>\\n        </tr>\\n        \\n        <tr>\\n            <td>2</td>\\n            <td>\\n                <a href=\"/pybo/9/\">1313123123</a>\\n            </td><!-- pybo 가 별칭.-->\\n            <td>2021년 10월 20일 10:29 오전</td>\\n        </tr>\\n        \\n        <tr>\\n            <td>3</td>\\n            <td>\\n                <a href=\"/pybo/8/\">ㅍ</a>\\n            </td><!-- pybo 가 별칭.-->\\n            <td>2021년 10월 19일 5:29 오후</td>\\n        </tr>\\n        \\n        <tr>\\n            <td>4</td>\\n            <td>\\n                <a href=\"/pybo/7/\">ㅍ</a>\\n            </td><!-- pybo 가 별칭.-->\\n            <td>2021년 10월 19일 5:28 오후</td>\\n        </tr>\\n        \\n        <tr>\\n            <td>5</td>\\n            <td>\\n                <a href=\"/pybo/6/\">ㅇ</a>\\n            </td><!-- pybo 가 별칭.-->\\n            <td>2021년 10월 19일 4:02 오후</td>\\n        </tr>\\n        \\n        <tr>\\n            <td>6</td>\\n            <td>\\n                <a href=\"/pybo/5/\">내일 아침</a>\\n            </td><!-- pybo 가 별칭.-->\\n            <td>2021년 10월 19일 3:58 오후</td>\\n        </tr>\\n        \\n        <tr>\\n            <td>7</td>\\n            <td>\\n                <a href=\"/pybo/4/\">dfd</a>\\n            </td><!-- pybo 가 별칭.-->\\n            <td>2021년 10월 19일 3:58 오후</td>\\n        </tr>\\n        \\n        <tr>\\n            <td>8</td>\\n            <td>\\n                <a href=\"/pybo/3/\">오늘은 뭐 먹지?</a>\\n            </td><!-- pybo 가 별칭.-->\\n            <td>2021년 10월 19일 11:51 오전</td>\\n        </tr>\\n        \\n        <tr>\\n            <td>9</td>\\n            <td>\\n                <a href=\"/pybo/1/\">오늘 점심은</a>\\n            </td><!-- pybo 가 별칭.-->\\n            <td>2021년 10월 19일 10:39 오전</td>\\n        </tr>\\n        \\n        \\n        </tbody>\\n    </table>\\n    <a href=\"/pybo/question/create/\" class=\"btn btn-primary\">질문 등록하기</a>\\n</div>\\n\\n<!-- 기본 템플릿 안에 삽입될 내용 End 이부분이 확장될 것이다라는 의미 -->\\n</body>\\n</html>'"
      ]
     },
     "execution_count": 6,
     "metadata": {},
     "output_type": "execute_result"
    }
   ],
   "source": [
    "r.text"
   ]
  },
  {
   "cell_type": "code",
   "execution_count": 10,
   "id": "782af132",
   "metadata": {},
   "outputs": [
    {
     "data": {
      "text/plain": [
       "200"
      ]
     },
     "execution_count": 10,
     "metadata": {},
     "output_type": "execute_result"
    }
   ],
   "source": [
    "r.status_code"
   ]
  },
  {
   "cell_type": "code",
   "execution_count": null,
   "id": "9d37132e",
   "metadata": {},
   "outputs": [],
   "source": []
  }
 ],
 "metadata": {
  "kernelspec": {
   "display_name": "Python 3",
   "language": "python",
   "name": "python3"
  },
  "language_info": {
   "codemirror_mode": {
    "name": "ipython",
    "version": 3
   },
   "file_extension": ".py",
   "mimetype": "text/x-python",
   "name": "python",
   "nbconvert_exporter": "python",
   "pygments_lexer": "ipython3",
   "version": "3.8.8"
  }
 },
 "nbformat": 4,
 "nbformat_minor": 5
}
