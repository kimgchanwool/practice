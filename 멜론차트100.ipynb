{
 "cells": [
  {
   "cell_type": "code",
   "execution_count": 1,
   "id": "795a3b13",
   "metadata": {},
   "outputs": [],
   "source": [
    "import requests\n",
    "from bs4 import BeautifulSoup\n",
    "import pandas as pd\n",
    "import numpy as np"
   ]
  },
  {
   "cell_type": "code",
   "execution_count": 2,
   "id": "b6580e39",
   "metadata": {},
   "outputs": [],
   "source": [
    "head={'User-Agent': 'Mozilla/5.0 (Windows NT 10.0; Win64; x64) AppleWebKit/537.36 (KHTML, like Gecko) Chrome/95.0.4638.54 Safari/537.36'}"
   ]
  },
  {
   "cell_type": "code",
   "execution_count": 3,
   "id": "2a2dfc10",
   "metadata": {},
   "outputs": [],
   "source": [
    "r = requests.get('https://www.melon.com/chart/index.htm', headers=head)"
   ]
  },
  {
   "cell_type": "code",
   "execution_count": 4,
   "id": "c606c180",
   "metadata": {},
   "outputs": [],
   "source": [
    "keys = BeautifulSoup(r.text, 'html.parser').find_all('a', {'class' : 'btn button_icons type03 song_info'})"
   ]
  },
  {
   "cell_type": "code",
   "execution_count": 5,
   "id": "2781414e",
   "metadata": {},
   "outputs": [],
   "source": [
    "keys = [ i['href'].split(\"\"\"'\"\"\")[-2] for i in keys]"
   ]
  },
  {
   "cell_type": "code",
   "execution_count": 6,
   "id": "da37926b",
   "metadata": {
    "scrolled": true
   },
   "outputs": [],
   "source": [
    "r2 = [requests.post('https://www.melon.com/song/detail.htm?songId={}'.format(key), headers=head) for key in keys]"
   ]
  },
  {
   "cell_type": "code",
   "execution_count": 7,
   "id": "982fc755",
   "metadata": {},
   "outputs": [],
   "source": [
    "soup = [BeautifulSoup(r2_.text, 'html.parser') for r2_ in r2]"
   ]
  },
  {
   "cell_type": "code",
   "execution_count": 8,
   "id": "9f7424c0",
   "metadata": {},
   "outputs": [],
   "source": [
    "string = [\" \".join(BeautifulSoup(str(so.find('div', {'id' : 'd_video_summary'})).replace(\"<br/>\", \"\\n\")).text.strip().split(\"\\n\")) for so in soup if so.find('div', {'id' : 'd_video_summary'}) != None]"
   ]
  },
  {
   "cell_type": "code",
   "execution_count": 9,
   "id": "a881d3a5",
   "metadata": {},
   "outputs": [],
   "source": [
    "#string = [so.find('div', {'id' : 'd_video_summary'}).text.strip('\\r\\n\\t') for so in soup if so.find('div', {'id' : 'd_video_summary'}) != None]"
   ]
  },
  {
   "cell_type": "code",
   "execution_count": 12,
   "id": "4860a476",
   "metadata": {},
   "outputs": [
    {
     "data": {
      "text/plain": [
       "'달이 익어가니 서둘러 젊은 피야 민들레 한 송이 들고 사랑이 어지러이 떠다니는 밤이야 날아가 사뿐히 이루렴  팽팽한 어둠 사이로 떠오르는 기분 이 거대한 무중력에 혹 휘청해도 두렵진 않을 거야  푸르른 우리 위로 커다란 strawberry moon 한 스쿱 나에게 너를 맡겨볼래 eh-oh  바람을 세로질러 날아오르는 기분 so cool 삶이 어떻게 더 완벽해 ooh  다시 마주하기 어려운 행운이야 온몸에 심장이 뛰어 Oh 오히려 기꺼이 헤매고픈 밤이야 너와 길 잃을 수 있다면  맞잡은 서로의 손으로 출입구를 허문 이 무한함의 끝과 끝 또 위아래로 비행을 떠날 거야   푸르른 우리 위로  커다란 strawberry moon 한 스쿱 나에게 너를 맡겨볼래 eh-oh 바람을 세로질러 날아오르는 기분 so cool 삶이 어떻게 더 완벽해 ooh  놀라워 이보다 꿈같은 순간이 또 있을까 (더 있을까) 아마도 우리가 처음 발견한 오늘 이 밤의 모든 것, 그 위로 날아  푸르른 우리 위로 커다란 strawberry moon 한 스쿱 세상을 가져보니 어때 eh-oh  바람을 세로질러 날아오르는 기분 so cool 삶이 어떻게 더 완벽해 ooh'"
      ]
     },
     "execution_count": 12,
     "metadata": {},
     "output_type": "execute_result"
    }
   ],
   "source": [
    "string[0]"
   ]
  },
  {
   "cell_type": "code",
   "execution_count": 13,
   "id": "4a015136",
   "metadata": {
    "scrolled": true
   },
   "outputs": [
    {
     "data": {
      "text/plain": [
       "[583,\n",
       " 1916,\n",
       " 450,\n",
       " 1800,\n",
       " 618,\n",
       " 634,\n",
       " 1333,\n",
       " 1291,\n",
       " 537,\n",
       " 690,\n",
       " 488,\n",
       " 2038,\n",
       " 472,\n",
       " 592,\n",
       " 1136,\n",
       " 1862,\n",
       " 1241,\n",
       " 1764,\n",
       " 257,\n",
       " 701,\n",
       " 2300,\n",
       " 2156,\n",
       " 447,\n",
       " 481,\n",
       " 742,\n",
       " 503,\n",
       " 378,\n",
       " 357,\n",
       " 307,\n",
       " 1160,\n",
       " 924,\n",
       " 451,\n",
       " 362,\n",
       " 575,\n",
       " 683,\n",
       " 1127,\n",
       " 904,\n",
       " 658,\n",
       " 526,\n",
       " 1299,\n",
       " 606,\n",
       " 963,\n",
       " 428,\n",
       " 540,\n",
       " 1388,\n",
       " 694,\n",
       " 554,\n",
       " 1158,\n",
       " 371,\n",
       " 1552,\n",
       " 248,\n",
       " 607,\n",
       " 1041,\n",
       " 350,\n",
       " 655,\n",
       " 518,\n",
       " 1325,\n",
       " 494,\n",
       " 596,\n",
       " 1832,\n",
       " 638,\n",
       " 928,\n",
       " 805,\n",
       " 537,\n",
       " 461,\n",
       " 1418,\n",
       " 970,\n",
       " 935,\n",
       " 743,\n",
       " 935,\n",
       " 531,\n",
       " 406,\n",
       " 521,\n",
       " 1006,\n",
       " 633,\n",
       " 671,\n",
       " 1347,\n",
       " 1325,\n",
       " 904,\n",
       " 1212,\n",
       " 463,\n",
       " 988,\n",
       " 557,\n",
       " 416,\n",
       " 715,\n",
       " 485,\n",
       " 542,\n",
       " 547,\n",
       " 834,\n",
       " 818,\n",
       " 873,\n",
       " 1021,\n",
       " 1735,\n",
       " 1729,\n",
       " 1898,\n",
       " 785,\n",
       " 428,\n",
       " 768,\n",
       " 1058]"
      ]
     },
     "execution_count": 13,
     "metadata": {},
     "output_type": "execute_result"
    }
   ],
   "source": [
    "[open(\"\"\"./melon/{}.txt\"\"\".format(index), 'w', encoding='utf8').write(str_) for index, str_ in enumerate(string)]"
   ]
  },
  {
   "cell_type": "code",
   "execution_count": 21,
   "id": "9c5f9497",
   "metadata": {},
   "outputs": [],
   "source": [
    "import re\n",
    "pattern = re.compile('[0-9]+)')"
   ]
  },
  {
   "cell_type": "code",
   "execution_count": 22,
   "id": "e22f19e3",
   "metadata": {
    "scrolled": false
   },
   "outputs": [
    {
     "data": {
      "text/plain": [
       "['2']"
      ]
     },
     "execution_count": 22,
     "metadata": {},
     "output_type": "execute_result"
    }
   ],
   "source": [
    "pattern.findall('dsdsd2')"
   ]
  },
  {
   "cell_type": "code",
   "execution_count": 59,
   "id": "440060b0",
   "metadata": {},
   "outputs": [
    {
     "data": {
      "text/plain": [
       "'달이 익어가니 서둘러 젊은 피야 민들레 한 송이 들고 사랑이 어지러이 떠다니는 밤이야 날아가 사뿐히 이루렴  팽팽한 어둠 사이로 떠오르는 기분 이 거대한 무중력에 혹 휘청해도 두렵진 않을 거야  푸르른 우리 위로 커다란 strawberry moon 한 스쿱 나에게 너를 맡겨볼래 eh-oh  바람을 세로질러 날아오르는 기분 so cool 삶이 어떻게 더 완벽해 ooh  다시 마주하기 어려운 행운이야 온몸에 심장이 뛰어 Oh 오히려 기꺼이 헤매고픈 밤이야 너와 길 잃을 수 있다면  맞잡은 서로의 손으로 출입구를 허문 이 무한함의 끝과 끝 또 위아래로 비행을 떠날 거야   푸르른 우리 위로  커다란 strawberry moon 한 스쿱 나에게 너를 맡겨볼래 eh-oh 바람을 세로질러 날아오르는 기분 so cool 삶이 어떻게 더 완벽해 ooh  놀라워 이보다 꿈같은 순간이 또 있을까 (더 있을까) 아마도 우리가 처음 발견한 오늘 이 밤의 모든 것, 그 위로 날아  푸르른 우리 위로 커다란 strawberry moon 한 스쿱 세상을 가져보니 어때 eh-oh  바람을 세로질러 날아오르는 기분 so cool 삶이 어떻게 더 완벽해 ooh'"
      ]
     },
     "execution_count": 59,
     "metadata": {},
     "output_type": "execute_result"
    }
   ],
   "source": [
    "\" \".join(BeautifulSoup(str(soup[0].find('div', {'id' : 'd_video_summary'})).replace('<br/>', '\\n')).text.strip().split('\\n'))"
   ]
  },
  {
   "cell_type": "code",
   "execution_count": 26,
   "id": "732efd16",
   "metadata": {
    "scrolled": true
   },
   "outputs": [
    {
     "ename": "TypeError",
     "evalue": "'NoneType' object is not callable",
     "output_type": "error",
     "traceback": [
      "\u001b[1;31m---------------------------------------------------------------------------\u001b[0m",
      "\u001b[1;31mTypeError\u001b[0m                                 Traceback (most recent call last)",
      "\u001b[1;32m<ipython-input-26-bcac69fc0917>\u001b[0m in \u001b[0;36m<module>\u001b[1;34m\u001b[0m\n\u001b[1;32m----> 1\u001b[1;33m \u001b[0msoup\u001b[0m\u001b[1;33m[\u001b[0m\u001b[1;36m0\u001b[0m\u001b[1;33m]\u001b[0m\u001b[1;33m.\u001b[0m\u001b[0mfind\u001b[0m\u001b[1;33m(\u001b[0m\u001b[1;34m'div'\u001b[0m\u001b[1;33m,\u001b[0m \u001b[1;33m{\u001b[0m\u001b[1;34m'id'\u001b[0m \u001b[1;33m:\u001b[0m \u001b[1;34m'd_video_summary'\u001b[0m\u001b[1;33m}\u001b[0m\u001b[1;33m)\u001b[0m\u001b[1;33m.\u001b[0m\u001b[0mreplace\u001b[0m\u001b[1;33m(\u001b[0m\u001b[1;34m\"<br/>\"\u001b[0m\u001b[1;33m,\u001b[0m \u001b[1;34m\"\\n\"\u001b[0m\u001b[1;33m)\u001b[0m\u001b[1;33m.\u001b[0m\u001b[0mtext\u001b[0m\u001b[1;33m.\u001b[0m\u001b[0mstrip\u001b[0m\u001b[1;33m(\u001b[0m\u001b[1;33m)\u001b[0m\u001b[1;33m.\u001b[0m\u001b[0msplit\u001b[0m\u001b[1;33m(\u001b[0m\u001b[1;34m\"\\n\"\u001b[0m\u001b[1;33m)\u001b[0m\u001b[1;33m\u001b[0m\u001b[1;33m\u001b[0m\u001b[0m\n\u001b[0m",
      "\u001b[1;31mTypeError\u001b[0m: 'NoneType' object is not callable"
     ]
    }
   ],
   "source": [
    ".replace(\"<br/>\", \"\\n\").text.strip().split(\"\\n\")"
   ]
  },
  {
   "cell_type": "code",
   "execution_count": null,
   "id": "f9b0a4fa",
   "metadata": {},
   "outputs": [],
   "source": []
  }
 ],
 "metadata": {
  "kernelspec": {
   "display_name": "Python 3",
   "language": "python",
   "name": "python3"
  },
  "language_info": {
   "codemirror_mode": {
    "name": "ipython",
    "version": 3
   },
   "file_extension": ".py",
   "mimetype": "text/x-python",
   "name": "python",
   "nbconvert_exporter": "python",
   "pygments_lexer": "ipython3",
   "version": "3.8.8"
  }
 },
 "nbformat": 4,
 "nbformat_minor": 5
}
